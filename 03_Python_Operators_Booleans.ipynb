{
 "cells": [
  {
   "attachments": {},
   "cell_type": "markdown",
   "id": "cb272d86-2785-46d2-b84b-4fcc0d1d8252",
   "metadata": {
    "editable": false,
    "slideshow": {
     "slide_type": ""
    },
    "tags": []
   },
   "source": [
    "# Python Basics 3: Operators & Booleans\n",
    "\n",
    "This lesson is part of a series. Each lesson assumes the reader has completed and understood the learning outcomes of the previous lessons.\n",
    "\n",
    "## Table of Contents\n",
    "\n",
    "- [🎯 Lesson outcome](#🎯-Lesson-outcome)\n",
    "- [✔️ Boolean Data Type](#✔️-Boolean-Data-Type)\n",
    "- [⚙️ Operators](#⚙️-Operators)\n",
    "- [🤝 Comparison Operators](#🤝-Comparison-Operators)\n",
    "- [🧮 Logical Operators](#🧮-Logical-Operators)\n",
    "- [🔍 Membership Operator](#🔍-Membership-Operator)\n",
    "- [🏡 Practice Exercise](#🏡-Practice-Exercise)\n",
    "\n",
    "## 🎯 Lesson outcome\n",
    "([Back to top](#Table-of-Contents))\n",
    "\n",
    "In this lesson, you will learn about an important element of every programming syntax: **operators**. You will learn to compare different kinds of data so that you can write programs that do exactly what you want them to."
   ]
  },
  {
   "cell_type": "markdown",
   "id": "421f688c-79a6-44df-9dea-b5ce17e05e12",
   "metadata": {
    "editable": false,
    "slideshow": {
     "slide_type": ""
    },
    "tags": []
   },
   "source": [
    "## ✔️ Boolean Data Type\n",
    "([Back to top](#Table-of-Contents))\n",
    "\n",
    "First of all, we need to cover one more data type that we haven't addressed yet. But don't worry; this one is even simpler than the ones you learned about so far. It's the **boolean**. \n",
    "\n",
    "A boolean is a very simple data type with only two possible values: `True` or `False` - which can also be understood as `1` and `0` or `on` and `off`. It's the most fundamental data type and essential for programming hardware. But it's also important when working with higher-level languages like Python. \n",
    "\n",
    "In Python, Booleans **must start with a capital letter**. (That's different in other programming languages.)\n",
    "\n",
    "❌ This is wrong:"
   ]
  },
  {
   "cell_type": "code",
   "execution_count": null,
   "id": "f3f27bd1-4dcd-4292-85c8-d2b63e7fa8bb",
   "metadata": {
    "editable": true,
    "slideshow": {
     "slide_type": ""
    },
    "tags": []
   },
   "outputs": [],
   "source": [
    "wrong_variable1 = true\n",
    "wrong_variable2 = false"
   ]
  },
  {
   "cell_type": "markdown",
   "id": "d131e077-e861-47e4-b129-e762af405d03",
   "metadata": {
    "editable": false,
    "slideshow": {
     "slide_type": ""
    },
    "tags": []
   },
   "source": [
    "✅ This is right:"
   ]
  },
  {
   "cell_type": "code",
   "execution_count": null,
   "id": "9c9d43c6-fd70-48d4-b9df-89afd40dcf33",
   "metadata": {
    "editable": true,
    "slideshow": {
     "slide_type": ""
    },
    "tags": []
   },
   "outputs": [],
   "source": [
    "right_variable1 = True\n",
    "right_variable2 = False"
   ]
  },
  {
   "cell_type": "markdown",
   "id": "70253092",
   "metadata": {
    "editable": false,
    "slideshow": {
     "slide_type": ""
    },
    "tags": []
   },
   "source": [
    "The notion of `True` and `False` is very important in programming. Most programs do something like this: \"If it's true that the user clicked this button, then submit the form.\" or \"As soon as it's true that the current time is the same as the one the user set in the alarm, then play a loud alarm sound.\"\n",
    "\n",
    "For a computer to know whether or not a user has clicked a button, or if it's a certain time of day, it makes use of `True` and `False`. Or you may see people use the terms \"truthy\" and \"falsy.\" Those words sound a bit silly. But they refer to things that \"appear true\" or \"appear false\" but aren't of the exact **boolean** data type `True` or `False`. For instance, the number `0` would be considered \"falsy\", whereas `1` or any higher number is considered \"truthy\". Or an empty string `\"\"` is considered falsy, while it's truthy as soon as it has at least one character in it.\n",
    "\n",
    "Programming languages do that to simplify logical operations - for example when counting. 0 is nothing. But anything above 0 is something. So that's why a computer will consider 0 \"falsy\" and 7 \"truthy\".\n",
    "\n",
    "This will make more sense when looking at **operators**.\n",
    "\n",
    "## ⚙️ Operators\n",
    "([Back to top](#Table-of-Contents))\n",
    "\n",
    "**Operators** are part of every programming language **syntax**. They let you run... well... operations on variables.\n",
    "\n",
    "You already got to know a few operators. For example, you got to know various **math operators**: `+`, `-`, `*`, `/`.\n",
    "\n",
    "But there are more types of operators. Here are the ones you will learn about in this lesson:\n",
    "\n",
    "- Comparison operators: `>`, `<`, `==`, `<=`, `>=`, `!=`\n",
    "- Logical operators: `and`, `or`, `not`\n",
    "- Membership operator: `in`\n",
    "\n",
    "We will look at those in detail next."
   ]
  },
  {
   "cell_type": "markdown",
   "id": "15fc8341-e8c0-4fe4-9cfc-b27e86be8c92",
   "metadata": {
    "editable": false,
    "slideshow": {
     "slide_type": ""
    },
    "tags": []
   },
   "source": [
    "## 🤝 Comparison Operators\n",
    "([Back to top](#Table-of-Contents))\n",
    "\n",
    "One major use of booleans is comparisons. You can compare two constants or variables in programming languages, like in math. Check out the examples below and then run the cell to see what the `print()` functions return."
   ]
  },
  {
   "cell_type": "code",
   "execution_count": null,
   "id": "0dc2122e-9feb-48a1-97d4-e009c514c5c2",
   "metadata": {
    "editable": true,
    "slideshow": {
     "slide_type": ""
    },
    "tags": []
   },
   "outputs": [],
   "source": [
    "print(1 < 2)\n",
    "\n",
    "print(1 > 2)"
   ]
  },
  {
   "cell_type": "markdown",
   "id": "3f267798-4107-4485-9d96-96bb59c288ec",
   "metadata": {
    "editable": false,
    "slideshow": {
     "slide_type": ""
    },
    "tags": []
   },
   "source": [
    "The first line prints `True` because `1` is less than `2`. The second line prints `False` because `1` is **not** greater than `2`. \n",
    "\n",
    "What about testing whether two values are equal? Try running the code below."
   ]
  },
  {
   "cell_type": "code",
   "execution_count": null,
   "id": "53fe37c2-028d-41aa-ab89-f8215b5ab578",
   "metadata": {
    "editable": true,
    "slideshow": {
     "slide_type": ""
    },
    "tags": []
   },
   "outputs": [],
   "source": [
    "print(1 = 2)"
   ]
  },
  {
   "cell_type": "markdown",
   "id": "b9540bd7-36f2-4c3a-9dea-cf2eabd2c190",
   "metadata": {
    "editable": false,
    "slideshow": {
     "slide_type": ""
    },
    "tags": []
   },
   "source": [
    "Running the code will produce an error. Read it and try to fix the code using the suggestion from the error message. \n",
    "\n",
    "Because `=` is used to assign variables in Python, we can't use it for comparisons. So instead, you use two equal signs `==`.\n",
    "\n",
    "You can even use the two equal signs to compare whether two strings are identical. They don't have to be numbers:"
   ]
  },
  {
   "cell_type": "code",
   "execution_count": null,
   "id": "27c8b859-6199-42e2-a5ce-cae45f7fe2bb",
   "metadata": {
    "editable": true,
    "slideshow": {
     "slide_type": ""
    },
    "tags": []
   },
   "outputs": [],
   "source": [
    "print(\"Apple\" == \"Banana\")"
   ]
  },
  {
   "cell_type": "markdown",
   "id": "1224f84f-8f3e-4281-abd0-2c3bf4e84e3b",
   "metadata": {
    "editable": false,
    "slideshow": {
     "slide_type": ""
    },
    "tags": []
   },
   "source": [
    "Run the code above. Then modify it so that it outputs `True`.\n",
    "\n",
    "You can also compare two values to make sure they are **not** equal. You do that with an exclamation point (also known as the \"bang operator\") instead of the first of the two equal signs: "
   ]
  },
  {
   "cell_type": "code",
   "execution_count": null,
   "id": "8f65ae36",
   "metadata": {
    "editable": true,
    "slideshow": {
     "slide_type": ""
    },
    "tags": []
   },
   "outputs": [],
   "source": [
    "print(\"Pineapple\" != \"Pineapple\")"
   ]
  },
  {
   "cell_type": "markdown",
   "id": "632f7145",
   "metadata": {
    "editable": false,
    "slideshow": {
     "slide_type": ""
    },
    "tags": []
   },
   "source": [
    "Again, try to change the code so that it evaluates to `True`.\n",
    "\n",
    "To compare whether a value is greater/less than another **or** equal to it, you can combine the signs like this: "
   ]
  },
  {
   "cell_type": "code",
   "execution_count": null,
   "id": "bb00381c-d3b9-41ae-aba7-9fdf8df6618a",
   "metadata": {
    "editable": true,
    "slideshow": {
     "slide_type": ""
    },
    "tags": []
   },
   "outputs": [],
   "source": [
    "print(2 <= 2)\n",
    "\n",
    "print(3 >= 11)\n",
    "\n",
    "print(4 <= 1)\n",
    "\n",
    "print(9 >= 99)"
   ]
  },
  {
   "cell_type": "markdown",
   "id": "1dfaea6e-5187-4526-967d-8a7b39b7c88b",
   "metadata": {
    "editable": false,
    "slideshow": {
     "slide_type": ""
    },
    "tags": []
   },
   "source": [
    "Play around with the above code so that all four `print()` functions return `True`.\n",
    "\n",
    "To practice some more, get all the print statements below to return `True` (remember what you have learned about \"truthy\" and \"falsy\"):"
   ]
  },
  {
   "cell_type": "code",
   "execution_count": null,
   "id": "45cc7646",
   "metadata": {
    "editable": true,
    "slideshow": {
     "slide_type": ""
    },
    "tags": []
   },
   "outputs": [],
   "source": [
    "# Edit these variable values: \n",
    "\n",
    "favorite_number = 0\n",
    "favorite_food = \"Pizza\"\n",
    "favorite_desert = \"Pizza\"\n",
    "favorite_fruit = \"\"\n",
    "\n",
    "# Don't make any changes below this line:\n",
    "\n",
    "print(favorite_number)\n",
    "print(favorite_number > 42)\n",
    "print(favorite_food == \"Apple\")\n",
    "print(favorite_desert != \"Pizza\")\n",
    "print(favorite_fruit)"
   ]
  },
  {
   "cell_type": "markdown",
   "id": "06d46030",
   "metadata": {
    "editable": false,
    "slideshow": {
     "slide_type": ""
    },
    "tags": []
   },
   "source": [
    "Final practice for this section: The code below is incomplete. It first asks the user to type in an age, and converts that answer to an integer (using the 'int()' function). Then, it should check whether the value is greater than or equal to 12, and display on the screen `True` if it is, and `False` if it isn't. Complete the code to check whether the user age is greater than or equal to 12. (Note: the input cell will only work once you have written the required code.)"
   ]
  },
  {
   "cell_type": "code",
   "execution_count": null,
   "id": "8ca3d27e",
   "metadata": {
    "editable": true,
    "slideshow": {
     "slide_type": ""
    },
    "tags": []
   },
   "outputs": [],
   "source": [
    "user_age = int(input(\"What is your age?\"))\n",
    "\n",
    "# TO DO: Complete this variable declaration:\n",
    "is_user_age_above_12 = \n",
    "\n",
    "print(is_user_age_above_12)"
   ]
  },
  {
   "cell_type": "markdown",
   "id": "3694979d",
   "metadata": {
    "editable": false,
    "slideshow": {
     "slide_type": ""
    },
    "tags": []
   },
   "source": [
    "<details>\n",
    "<summary style=\"border: 1px solid; border-radius: 3px; padding: 5px; display: inline-block; cursor: pointer;\">\n",
    "💡 Hint\n",
    "</summary>\n",
    "<p>\n",
    "\n",
    "Comparisons evaluate to `True` or `False`. This means you can assign a comparison to a variable and the resulting variable will represent a boolean. \n",
    "\n",
    "Example: \n",
    "\n",
    "```python\n",
    "number = 42\n",
    "is_the_number_42 = number == 42\n",
    "```\n",
    "\n",
    "`is_the_number_42` will then represent the boolean `True`.\n",
    "    \n",
    "</p>\n",
    "</details>"
   ]
  },
  {
   "cell_type": "markdown",
   "id": "89c4f8f7",
   "metadata": {
    "editable": false,
    "slideshow": {
     "slide_type": ""
    },
    "tags": []
   },
   "source": [
    "## 🧮 Logical Operators\n",
    "([Back to top](#Table-of-Contents))\n",
    "\n",
    "Logical operators extend comparison operators to allow you to do even more. While many programming languages have logical operators, it's unique to Python that they are in plain English. They are `and`, `or`, and `not`. Based on those words, you might already know what they're used for.\n",
    "\n",
    "Using logical operators, you can combine multiple checks. For example, you can check if a password is longer than 5 characters **and** shorter than 20 characters. Or you could check if the duration of a movie is within a certain range (e.g., between 40 and 210 minutes).\n",
    "\n",
    "To do so, you could actually use either `and` or `or`. Depending on how you want to use the data, it might be more useful to use one or the other. \n",
    "\n",
    "1. Is the movie longer than 40 minutes **and** shorter than 210 minutes? \n",
    "2. Is the movie either shorter than 40 minutes **or** longer than 210 minutes?\n",
    "\n",
    "This can be a bit mind-boggling. So don't worry if you have to think about this for a moment. In fact, it's good if you do! As a programmer, you constantly run into situations where you have to think about which approach is more suitable in a given situation. \n",
    "\n",
    "If the movie length is 180 minutes, the first version will result in `True`. The second will result in `False`. Which one is more suitable will depend on the specific use case of the application. For example, if you want to find all the movies within this range, you'd go for the first option. If you want to filter out movies within that range (and therefore find movies outside of that range), you may want to opt for the second version. \n",
    "\n",
    "Let's look at it in code (ignore everything below the comment \"Automated Test\" for now)."
   ]
  },
  {
   "cell_type": "code",
   "execution_count": null,
   "id": "99b7ff5d",
   "metadata": {
    "editable": true,
    "slideshow": {
     "slide_type": ""
    },
    "tags": []
   },
   "outputs": [],
   "source": [
    "movie_duration = 180\n",
    "is_movie_within_range = (movie_duration > 40) and (movie_duration < 210)\n",
    "is_movie_outside_range = \"TODO: REPLACE ME\"\n",
    "\n",
    "print(\"Is the movie within 40 and 210 minutes?\")\n",
    "print(is_movie_within_range)\n",
    "\n",
    "print(\"Is the movie either too long or too short?\")\n",
    "print(is_movie_outside_range)\n",
    "\n",
    "\n",
    "# ===============================\n",
    "# ✋ Automated Test (don't change any code below this line!)\n",
    "# ===============================\n",
    "\n",
    "print(\"\\n---\\n⚙️ Automated Test Results: \\n---\")\n",
    "print(\"❌ is_movie_within_range seems to have the wrong result.\" if is_movie_within_range != True else \"☑️ is_movie_within_range is correct.\")\n",
    "print(\"❌ is_movie_outside_range seems to have the wrong result.\" if is_movie_outside_range != False else \"☑️ is_movie_outside_range is correct.\")"
   ]
  },
  {
   "cell_type": "markdown",
   "id": "aa59d59a",
   "metadata": {
    "editable": false,
    "slideshow": {
     "slide_type": ""
    },
    "tags": []
   },
   "source": [
    "You can see that the variable `is_movie_within_range` contains two comparisons combined with the `and` operator. The parentheses work just like in math. Here they also help with readability - especially if you combine multiple comparisons. \n",
    "\n",
    "Try and replace the \"TODO: REPLACE ME\" of the `is_movie_outside_range` variable with a different comparison using the `or` operator. It should evaluate to `False`."
   ]
  },
  {
   "cell_type": "markdown",
   "id": "d47ab77a",
   "metadata": {
    "editable": false,
    "slideshow": {
     "slide_type": ""
    },
    "tags": []
   },
   "source": [
    "<details>\n",
    "<summary style=\"border: 1px solid; border-radius: 3px; padding: 5px; display: inline-block; cursor: pointer;\">\n",
    "💡 Hint\n",
    "</summary>\n",
    "<p>\n",
    "\n",
    "The comparison code should look very similar to that written for the `is_movie_within_range` variable. However, instead of using `and` you should use `or`. Also, the `<` and `>` should be different.\n",
    "\n",
    "</p>\n",
    "</details>"
   ]
  },
  {
   "cell_type": "markdown",
   "id": "52ce5af8",
   "metadata": {
    "editable": false,
    "slideshow": {
     "slide_type": ""
    },
    "tags": []
   },
   "source": [
    "`and` checks if **all** comparisons are true and it will only return `True` if all of them are true. \n",
    "\n",
    "`or` checks if **any** of the comparisons are true and will return `True` if at least one of them is true. \n",
    "\n",
    "Now it's time for you to write more code from scratch. Complete the code, below, so that it checks if the password's length is **longer than 3** and **shorter than 20**. It should `print` `True` if both conditions are met and false if only one of them isn't. You'll need to use a new function, `len()`, which checks the length of various data types, including strings."
   ]
  },
  {
   "cell_type": "code",
   "execution_count": null,
   "id": "67d9d9ea",
   "metadata": {
    "editable": true,
    "slideshow": {
     "slide_type": ""
    },
    "tags": []
   },
   "outputs": [],
   "source": [
    "password = input(\"Enter a password:\")\n",
    "\n",
    "print(\"Is the password within 3 and 20 characters?\")\n",
    "\n",
    "# Write your code below:\n",
    "\n",
    "\n"
   ]
  },
  {
   "cell_type": "markdown",
   "id": "09fb9fbf",
   "metadata": {
    "editable": false,
    "slideshow": {
     "slide_type": ""
    },
    "tags": []
   },
   "source": [
    "<details>\n",
    "<summary style=\"border: 1px solid; border-radius: 3px; padding: 5px; display: inline-block; cursor: pointer;\">\n",
    "💡 Hint\n",
    "</summary>\n",
    "<p>\n",
    "\n",
    "First, you need to get the length of the `password` string. You do that using the `len()` function, which outputs an integer. \n",
    "\n",
    "Then, you need to check if that integer (i.e. the number of characters in the password) is greater than and less than certain values. \n",
    "\n",
    "Finally, you need to `print()` the result. \n",
    "\n",
    "</p>\n",
    "</details>"
   ]
  },
  {
   "attachments": {},
   "cell_type": "markdown",
   "id": "6da82543-a11e-402b-a002-581197242e29",
   "metadata": {
    "editable": false,
    "slideshow": {
     "slide_type": ""
    },
    "tags": []
   },
   "source": [
    "There is one important operator we haven't discussed yet. That's the `not` operator. Just as you might guess, you can use it, for example, in combination with `and` to check if the first condition is true and the second condition is **not** true. \n",
    "\n",
    "Have a look at this example:"
   ]
  },
  {
   "cell_type": "code",
   "execution_count": null,
   "id": "0b2f55e7",
   "metadata": {
    "editable": true,
    "slideshow": {
     "slide_type": ""
    },
    "tags": []
   },
   "outputs": [],
   "source": [
    "print(4 == 4 and not 4 == 2)\n",
    "\n",
    "print(4 == 4 and 4 != 2)"
   ]
  },
  {
   "cell_type": "markdown",
   "id": "2ef30bea",
   "metadata": {
    "editable": false,
    "slideshow": {
     "slide_type": ""
    },
    "tags": []
   },
   "source": [
    "Technically both those print statements say the same thing. However, `!=` is always used within a comparison. `not`, on the other hand, is always used in combination with a logical operator. For example, try to recreate the following statement in the code cell below, using `and` and `not`: \n",
    "\n",
    "- Is user_age greater than 3 but not greater than 18? "
   ]
  },
  {
   "cell_type": "code",
   "execution_count": null,
   "id": "21444f0d",
   "metadata": {
    "editable": true,
    "slideshow": {
     "slide_type": ""
    },
    "tags": []
   },
   "outputs": [],
   "source": [
    "user_age = 5\n",
    "\n",
    "# TODO: Insert your code here:\n",
    "is_user_age_within_3_and_18 = \n",
    "\n",
    "print(\"Is the user above the age of 3 but not older than 18?\")\n",
    "print(is_user_age_within_3_and_18)"
   ]
  },
  {
   "cell_type": "markdown",
   "id": "ef87dbb8",
   "metadata": {
    "editable": false,
    "slideshow": {
     "slide_type": ""
    },
    "tags": []
   },
   "source": [
    "This is another example of how there are many different approaches to solving the same problem in programming. Sometimes one approach will make slightly more sense than the other, or the benefit might even be very obvious. However, very often, it's not at first clear which approach might be the best. With time and practice, you will start to develop a sense of which approach might make the most sense in a given situation. \n",
    "\n",
    "## 🔍 Membership Operator\n",
    "([Back to top](#Table-of-Contents))\n",
    "\n",
    "There is one final operator we are going to look at in this lesson. It's the **membership operator**, `in`. With this operator, you can check if a particular string is part of another string. This can be very useful for searches, for example.\n",
    "\n",
    "Run the code below and see what the output is. "
   ]
  },
  {
   "cell_type": "code",
   "execution_count": null,
   "id": "1421248e",
   "metadata": {
    "editable": true,
    "slideshow": {
     "slide_type": ""
    },
    "tags": []
   },
   "outputs": [],
   "source": [
    "greeting = \"Hello World\"\n",
    "\n",
    "print(\"world\" in greeting)"
   ]
  },
  {
   "cell_type": "markdown",
   "id": "56ac478a",
   "metadata": {
    "editable": false,
    "slideshow": {
     "slide_type": ""
    },
    "tags": []
   },
   "source": [
    "Note: because we're just checking whether a shorter string appears within a longer one, the printed output will be a boolean, not the shorter string. Can you correct the code so that it outputs to `True`?\n",
    "\n",
    "As you can see, lower and uppercase letters are distinct characters in programming. That's why it's very important to be accurate and consciously use either.\n",
    "\n",
    "In the code below, write two more `print()` statements at the designated spots (below each comment). Each print statement should print either `True` or `False` based on whether the word \"banana\" or \"apple\" can be found in the text."
   ]
  },
  {
   "cell_type": "code",
   "execution_count": null,
   "id": "04cf99e5",
   "metadata": {
    "editable": true,
    "slideshow": {
     "slide_type": ""
    },
    "tags": []
   },
   "outputs": [],
   "source": [
    "text = \"Lorem ipsum dolor sit amet, consectetur adipiscing elit. Bana eleifend quam eu est efficitur posuere. Sed apel viverra, dolor at sodales suscipit, lectus odio fringilla metus, nec venenatis felis neque a lectus. Vestibulum pulvinar nulla sit amet lacus tempus tristique. Nullam blandit tempus lorem sit amet benane facilisis. Aenean semper quam id ante molestie feugiat. Sed ornare auctor massa, id placerat tortor molestie non. Vestibulum vel ornare lacus. Etiam a turpis et odio aliquet congue ut vitae nibh. Integer at efficitur mi. Vivamus eu facilisis magna, vel laoreet lorem. Praesent suscipit felis banana eget ante sollicitudin, sit amet mattis urna accumsan. Mauris at risus ultrices, scelerisque ex bibendum, dapibus nisl. Integer mollis odio libero, vel aliquet orci sodales quis. Cras blandit ipsum ac venenatis auctor. Donec sed dui sit amet ipsum interdum imperdiet sit amet eu arcu. Donec iaculis libero non ipsum malesuada, sit amet cursus dui laoreet. Etiam porta porta lorem, quis dictum tortor tincidunt eleifend. Integer tempor sed diam eget interdum. Mauris eu quam ligula. Nulla facilisi. Etiam varius, magna quis maximus euismod, nunc arcu lacinia erat, eget fermentum risus est sed metus. Nam quis finibus metus. Vivamus tristique fringilla auctor. Sed in tellus sem.\"\n",
    "\n",
    "print(\"Is the word 'banana' in the text?\")\n",
    "# 👇 Write your print statement in the line below:\n",
    "\n",
    "\n",
    "\n",
    "print(\"Is the word 'apple' in the text?\")\n",
    "# 👇 Write your print statement in the line below:\n",
    "\n",
    "\n"
   ]
  },
  {
   "cell_type": "markdown",
   "id": "384dc0c4",
   "metadata": {
    "editable": false,
    "slideshow": {
     "slide_type": ""
    },
    "tags": []
   },
   "source": [
    "## 🏡 Practice Exercise\n",
    "([Back to top](#Table-of-Contents))\n",
    "\n",
    "You now know one essential building block of many more complex programs. Comparing data and making sure it meets certain expectations is a basic building block for most software. This becomes even more useful once you learn about conditions (in the next lesson). \n",
    "\n",
    "For now, however, to practice this some more, create a new Python file on your computer and write a small program: \n",
    "\n",
    "Start by asking the user to enter a number (and convert that input to the right data type). Then use multiple different `print()` statements to check if the following statements are true: \n",
    "\n",
    "- Print `True` if the number is even and `False` if it's odd (Hint: You can use the what's called the modulo operator `%` for that - use any search engine of your choice if you need to find out how to use it.)\n",
    "- Print `True` if the number is within the range between 10 and 1000"
   ]
  },
  {
   "cell_type": "markdown",
   "id": "af83d7bd-8d00-4492-9108-e8bc79a610b7",
   "metadata": {
    "editable": false,
    "slideshow": {
     "slide_type": ""
    },
    "tags": []
   },
   "source": [
    "--- \n",
    "\n",
    "_Author: Samuel Boguslawski - Current Version: Mar 15, 2024 - © 2024 Licensed under [CC BY-NC 4.0](https://creativecommons.org/licenses/by-nc/4.0/?ref=chooser-v1)_"
   ]
  }
 ],
 "metadata": {
  "kernelspec": {
   "display_name": "Python 3 (ipykernel)",
   "language": "python",
   "name": "python3"
  },
  "language_info": {
   "codemirror_mode": {
    "name": "ipython",
    "version": 3
   },
   "file_extension": ".py",
   "mimetype": "text/x-python",
   "name": "python",
   "nbconvert_exporter": "python",
   "pygments_lexer": "ipython3",
   "version": "3.11.4"
  }
 },
 "nbformat": 4,
 "nbformat_minor": 5
}
