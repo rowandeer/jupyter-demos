{
 "cells": [
  {
   "cell_type": "markdown",
   "metadata": {
    "editable": false,
    "slideshow": {
     "slide_type": ""
    },
    "tags": []
   },
   "source": [
    "# Python Basics 6: While Loops\n",
    "\n",
    "This lesson is part of a series. Each lesson assumes the reader has completed and understood the learning outcomes of the previous lessons.\n",
    "\n",
    "## Table of Contents\n",
    "\n",
    "- [🎯 Lesson outcome](#🎯-Lesson-outcome)\n",
    "- [🎢 Loops](#🎢-Loops)\n",
    "- [🔄 While Loops](#🔄-While-Loops)\n",
    "- [🚦 Break & Continue](#🚦-Break-&-Continue)\n",
    "- [🏡 Practice Exercise](#🏡-Practice-Exercise)\n",
    "\n",
    "## 🎯 Lesson outcome\n",
    "([Back to top](#Table-of-Contents))\n",
    "\n",
    "In this lesson, you'll learn about repeating the execution of code over and over again using loops. You will learn to combine the various concepts of loops, conditions, and functions to write software that \"stays open\" and does not shut down after executing a single operation.\n",
    "\n",
    "## 🎢 Loops\n",
    "([Back to top](#Table-of-Contents))\n",
    "\n",
    "Did you ever wonder how software just \"keeps running\" or \"stays on\" until you actively close a window or turn it off?\n",
    "\n",
    "So far, all programs you created do one thing and stop running as soon as the operation is done. For example, the temperature conversion tool stops running after the conversion is done. It shuts down immediately and if you want to run another conversion you have to start it again. \n",
    "\n",
    "Imagine a web browser was to just shut down the moment you entered the URL and opened a website and you had to reopen it every time you wanted to open a new page. \"Here is the website. All done now. Goodbye.\" That would be incredibly useless and annoying.\n",
    "\n",
    "Most software continues to run after an operation has been completed. It lets users repeat an action or do something else. Usually, it keeps running infinitely until the user actively tells the software to stop by closing the window or shutting it down.\n",
    "\n",
    "That's what **loops** are used for - another **control flow** element of most programming languages. \n",
    "\n",
    "Usually, code executes line by line from top to bottom. When it reaches the end it stops. However, with a loop, you can define code to run repeatedly. You can define exactly how often it should be repeated or if it should repeat forever.\n",
    "\n",
    "## 🔄 While Loops\n",
    "([Back to top](#Table-of-Contents))\n",
    "\n",
    "There are multiple different types of loops. In this lesson, we'll look at **while loops**.\n",
    "\n",
    "A while loop repeats the code inside it for as long as (or \"while\") a particular condition is `True`.\n",
    "\n",
    "Run the following code:"
   ]
  },
  {
   "cell_type": "code",
   "execution_count": null,
   "metadata": {
    "editable": true,
    "slideshow": {
     "slide_type": ""
    },
    "tags": []
   },
   "outputs": [],
   "source": [
    "import time\n",
    "\n",
    "counter = 10\n",
    "\n",
    "while counter > 0:\n",
    "  print(counter)\n",
    "\n",
    "  time.sleep(1)\n",
    "  \n",
    "  counter = counter - 1\n",
    "\n",
    "print(\"🎉 Tada!\")"
   ]
  },
  {
   "cell_type": "markdown",
   "metadata": {
    "editable": false,
    "slideshow": {
     "slide_type": ""
    },
    "tags": []
   },
   "source": [
    "Try to understand the code above and why it works the way it does. For example, change the number of the `counter` variable or the argument of the `time.sleep()` function. \n",
    "\n",
    ">🔥 If, after your changes, this window seems to freeze or runs forever, don't worry! When working with loops you have to be a bit more careful. If you misconfigure a loop it could run forever and, in extreme cases, crash the software or even the computer. If that happens just reload the window or restart the Jupyter Notebook (or restart the Kernel: in the `Kernel` menu at the top of the screen, click `Restart Kernel`) and don't worry. These things happen.\n",
    "\n",
    "The `while` keyword starts a `while` loop. Similar to `if`-statements, it's followed with a condition. As long as the condition is evaluated to \"True\", the loop will keep running. Once the condition is \"False,\" the loop will stop running.\n",
    "\n",
    "Just like with conditions and functions, the colon `:` signals to Python that a **code block** is starting. That means all the code that's indented on the lines below will be considered _inside_ the `while` loop. The first line that's not indented anymore will signal the end of the code block. (In this case, it's the `print(\"🎉 Tada!\")` line.)\n",
    "\n",
    "`time.sleep()` is a built-in function that comes with Python, which, as you have seen above, introduces a delay in the running of the program, the length of which is defined in seconds in the argument. So `time.sleep(3)` will introduce a 3-second delay before the program continues running. (You need `import time` to get access to this function, but don't worry about understanding exactly what that does for now: just think of it as allowing a Python program to measure time.) \n",
    "\n",
    "> 💡 You can of course use basic math operations to control the number of times that a while-loop runs without the time.sleep() function. For example:"
   ]
  },
  {
   "cell_type": "code",
   "execution_count": null,
   "metadata": {},
   "outputs": [],
   "source": [
    "rounds = 0\n",
    "\n",
    "while rounds < 5:\n",
    "    print(\"This was one round!\")\n",
    "    rounds = rounds + 1"
   ]
  },
  {
   "cell_type": "markdown",
   "metadata": {
    "editable": false,
    "slideshow": {
     "slide_type": ""
    },
    "tags": []
   },
   "source": [
    "Let's try another example. Many applications require a minimum length for passwords chosen by their users. The code below is a simple implementation of that kind of logic, using an if-else condition. Run the code and submit a password that's shorter than three characters. You'll notice the program asks the user to enter a longer password but then stops. It would be better if the user could immediately try again to enter a new password. You can solve that with a `while` loop. \n",
    "\n",
    "Change the code below so that _while the password length is less than 3_, the user is asked again to input a new password. \n",
    "\n",
    "Use the hints below if you get stuck.\n",
    "\n",
    "> 💡 In programming, there are many different ways to achieve the same outcome. Don't be surprised if your solution to an exercise differs from the hints suggested. If the result works, you have probably found an alternative way to solve the task. "
   ]
  },
  {
   "cell_type": "code",
   "execution_count": null,
   "metadata": {},
   "outputs": [],
   "source": [
    "user_password = \"\"\n",
    "\n",
    "# 👇 Make your edits below this line: \n",
    "\n",
    "\n",
    "\n",
    "user_password = input(\"Please choose a password:\")\n",
    "\n",
    "if len(user_password) < 3:\n",
    "  print(\"The password is too short. Please choose a longer password.\")\n",
    "else:\n",
    "  print(\"Password set!\")"
   ]
  },
  {
   "cell_type": "markdown",
   "metadata": {
    "editable": false,
    "slideshow": {
     "slide_type": ""
    },
    "tags": []
   },
   "source": [
    "<details>\n",
    "<summary style=\"border: 1px solid; border-radius: 3px; padding: 5px; display: inline-block; cursor: pointer;\">\n",
    "💡 Hint 1 - Where to start\n",
    "</summary>\n",
    "<p>\n",
    "\n",
    "You only need to add a single line of code (a repetition of the `user_password = input(\"Please choose a password:\")` line, but within the while loop). But you will also need to change the `if-else` condition to a `while` loop.\n",
    "\n",
    "</p>\n",
    "</details>\n",
    "\n",
    "<br />\n",
    "\n",
    "<details>\n",
    "<summary style=\"border: 1px solid; border-radius: 3px; padding: 5px; display: inline-block; cursor: pointer;\">\n",
    "💡 Hint 2 - How to write the loop\n",
    "</summary>\n",
    "<p>\n",
    "\n",
    "When defining a `while` loop you need to define the condition under which it \"keeps looping.\" The syntax is very similar to that of an `if`-statement. In fact, you can just reuse the condition from the `if`-statement. While the password length is less than 3 you want to keep the loop running. (Don't forget the colon `:`!)\n",
    "\n",
    "</p>\n",
    "</details>\n",
    "\n",
    "<br />\n",
    "\n",
    "<details>\n",
    "<summary style=\"border: 1px solid; border-radius: 3px; padding: 5px; display: inline-block; cursor: pointer;\">\n",
    "💡 Hint 3 - The existing code\n",
    "</summary>\n",
    "<p>\n",
    "\n",
    "The code that's already there can stay as it is. However, it needs to be **inside** a `while` loop. So you need to add one line above all the other code to create a `while` loop. And because the existing code needs to be inside the `while` loop's **code block** you need to indent **all** the following lines using a tab or two spaces.\n",
    "\n",
    "Note that the two lines with the `print` statements are already indented once because they are in the `if` and `else` code blocks. So make sure that they are indented twice!\n",
    "\n",
    "Here is an example of what it looks like when you indent a line twice because a code block is inside another code block:\n",
    "\n",
    "```python\n",
    "counter = 10\n",
    "\n",
    "while counter > 0:\n",
    "  print(counter)\n",
    "\n",
    "  if counter == 1:\n",
    "    print(\"almost there!\")\n",
    "```\n",
    "\n",
    "</p>\n",
    "</details>"
   ]
  },
  {
   "cell_type": "markdown",
   "metadata": {
    "editable": false,
    "slideshow": {
     "slide_type": ""
    },
    "tags": []
   },
   "source": [
    "In case you were wondering: We defined `user_password` in the example above as an empty string first. That's because we use that variable within the loop condition. You can only use variables if they have been defined already. Without that, the code would throw an error. You should try it out! Remove the first line and run the code from above again. Read the error message and try to make sense of it. You'll likely encounter this error in the future again.\n",
    "\n",
    "Let's try another example. While the code above could be part of a user registration process, the next example will focus on the next step: the login process. \n",
    "\n",
    "- Write code that first asks the user to enter a password. \n",
    "- If the password matches the predefined `password` variable, `print` \"You are logged in.\"\n",
    "- If the password is wrong, ask the user to try typing in the password again. \n",
    "- Use a loop to repeat that code for as long as the entered password is not correct. "
   ]
  },
  {
   "cell_type": "code",
   "execution_count": null,
   "metadata": {},
   "outputs": [],
   "source": [
    "password = \"supersecret\"\n",
    "\n",
    "# TODO: Add your code below\n",
    "\n",
    "\n",
    "\n",
    "\n"
   ]
  },
  {
   "cell_type": "markdown",
   "metadata": {
    "editable": false,
    "slideshow": {
     "slide_type": ""
    },
    "tags": []
   },
   "source": [
    "<details>\n",
    "<summary style=\"border: 1px solid; border-radius: 3px; padding: 5px; display: inline-block; cursor: pointer;\">\n",
    "💡 Hint\n",
    "</summary>\n",
    "<p>\n",
    "\n",
    "You will need two separate variables for the password. Make sure not to mix those up. One is the pre-defined `password` you already see there. Another is the user input. You'll have to compare those two. \n",
    "\n",
    "The `while` loop needs to continue running as long as those two passwords aren't equal. \n",
    "\n",
    "You also need to pay attention to when each variable is defined. Look at this example code: \n",
    "\n",
    "```python\n",
    "while favorite_food != \"pizza\":\n",
    "  favorite_food = input(\"What is your favorite food?\")\n",
    "```\n",
    "\n",
    "<br>\n",
    "This code will break. Why? Because you're using the `favorite_food` variable before it has been declared. You can solve that issue by defining the variable as something else (e.g., an empty string, with nothing between the quotation marks) at the start of the program, like so: \n",
    "\n",
    "```python\n",
    "favorite_food = \"\"\n",
    "\n",
    "while favorite_food != \"pizza\":\n",
    "  favorite_food = input(\"What is your favorite food?\")\n",
    "```\n",
    "\n",
    "</p>\n",
    "</details>\n"
   ]
  },
  {
   "cell_type": "markdown",
   "metadata": {
    "editable": false,
    "slideshow": {
     "slide_type": ""
    },
    "tags": []
   },
   "source": [
    "## 🚦 Break & Continue\n",
    "([Back to top](#Table-of-Contents))\n",
    "\n",
    "Sometimes, we want to define a loop that runs forever (until the user shuts it down). This kind of concept is called an **infinite loop**. \n",
    "\n",
    "Web servers that run websites use infinite loops to keep running whenever someone opens the website, instead of shutting down immediately after the first user has looked at the website. \n",
    "Video games use infinite loops to keep running until the player turns off the game.\n",
    "\n",
    "Code executes quite fast. So loops usually run many times per second. Sometimes, when an operation is particularly complicated, the code slows down and the loop runs slower. If you've ever played a video game that stutters or lags, that's exactly what happened. At that moment, the computer cannot handle running the loop fast enough. So you, as the player, notice that things slowed down. \n",
    "\n",
    "So infinite loops are used in all kinds of software. In Python, you can create an infinite while loop quite easily. \n",
    "\n",
    "🔥 **Careful: You can try running the code cell below. But it'll likely cause freezes or crashes in this browser window. If you want to try it anyway, make sure to save any unsaved changes first. You can try to stop the code using the stop button at the top of the screen `⏹`, but you may have to restart the browser if it won't stop. If it does stop and you now have a ridiculously long list of \"Hello, World!\"s to scroll through to get to the next cell, you can delete the `while True:` line and run the cell again with just the single print statement.**"
   ]
  },
  {
   "cell_type": "code",
   "execution_count": null,
   "metadata": {},
   "outputs": [],
   "source": [
    "while True: \n",
    "  print(\"Hello, World!\")"
   ]
  },
  {
   "cell_type": "markdown",
   "metadata": {
    "editable": false,
    "slideshow": {
     "slide_type": ""
    },
    "tags": []
   },
   "source": [
    "A `while` loop keeps running as long as its condition evaluates to `True`. In the code above, we used the literal boolean `True`. So the condition will always be true and the loop will run forever. \n",
    "\n",
    "In most situations, we want to avoid crashing an application. That's what the keywords `break` and `continue` are useful for. \n",
    "\n",
    "As you might guess from the words, `break` will interrupt the loop and stop its execution. `continue` will skip all the code below it and jump to the top of the loop to start the next iteration.\n",
    "\n",
    "Read the following code and the four possibilities given below. Think about what will happen before you execute the code. "
   ]
  },
  {
   "cell_type": "markdown",
   "metadata": {
    "editable": false,
    "slideshow": {
     "slide_type": ""
    },
    "tags": []
   },
   "source": [
    "**What do you think will happen?**\n",
    "\n",
    "- The screen shows \"This message shows on the\" over and over again.\n",
    "- The screen shows \"This message shows on the\" once.\n",
    "- The screen shows \"This message shows on the screen.\" over and over again.\n",
    "- The screen shows \"This message shows on the screen.\" once."
   ]
  },
  {
   "cell_type": "code",
   "execution_count": null,
   "metadata": {},
   "outputs": [],
   "source": [
    "while True:\n",
    "  print(\"This\")\n",
    "  print(\"message\")\n",
    "  print(\"shows\")\n",
    "  print(\"on\")\n",
    "  print(\"the\")\n",
    "  break\n",
    "  print(\"screen.\")"
   ]
  },
  {
   "cell_type": "markdown",
   "metadata": {
    "editable": false,
    "slideshow": {
     "slide_type": ""
    },
    "tags": []
   },
   "source": [
    "As you can see, `break` stops the execution of the loop entirely. That means it will stop looping and won't execute any of the code below (that is within the scope of the while loop). \n",
    "\n",
    "Now, move the `break` keyword so that the entire message (including the last `print()`) shows up, but the loop still only runs once. (It would also work to unindent the final `print()` statement so that it's not in the scope of the `while` loop.)\n",
    "\n",
    "The other keyword we mentioned is `continue`. The use case for that one is a bit more rare than for `break`. But it's still good to know. \n",
    "\n",
    "Let's assume in your application you ask the user for their age and then want to make sure they have in fact entered a number. Remember that you can check that with the built-in `.isnumeric()` function: "
   ]
  },
  {
   "cell_type": "code",
   "execution_count": null,
   "metadata": {
    "editable": true,
    "slideshow": {
     "slide_type": ""
    },
    "tags": []
   },
   "outputs": [],
   "source": [
    "user_age = input(\"What is your age?\")\n",
    "\n",
    "if user_age.isnumeric():\n",
    "  print(\"Your age is:\")\n",
    "  print(user_age)\n",
    "else: \n",
    "  print(\"This is not a number.\")\n",
    "\n",
    "print(\"Great! Thank you for your time!\")"
   ]
  },
  {
   "cell_type": "markdown",
   "metadata": {
    "editable": false,
    "slideshow": {
     "slide_type": ""
    },
    "tags": []
   },
   "source": [
    "Try running the code above a couple of times. Try entering a number once. The other time try entering some letters. \n",
    "\n",
    "So the code works in checking if the user's input is a number. But wouldn't it make a lot more sense to prompt the user to try entering something again until they actually enter a number? \n",
    "\n",
    "- In the cell above, wrap an infinite loop around the existing code. (Pay good attention to the indentations!)\n",
    "- Use what you have learned about `continue` and `break` to stop the loop if the user has entered a number. Make sure the age is displayed as well as the final thank you message.\n",
    "- Ask the user to enter the age again if they didn't enter a number. In that case, the final message should not yet be displayed."
   ]
  },
  {
   "cell_type": "markdown",
   "metadata": {
    "editable": false,
    "slideshow": {
     "slide_type": ""
    },
    "tags": []
   },
   "source": [
    "<details>\n",
    "<summary style=\"border: 1px solid; border-radius: 3px; padding: 5px; display: inline-block; cursor: pointer;\">\n",
    "💡 Hint\n",
    "</summary>\n",
    "<p>\n",
    "\n",
    "- Ensure all the code is inside a `while True:` loop.\n",
    "- You will need to add a `break` if the `user_age` is numeric. But you need to add the `break` below the `print` statements. Otherwise, they won't show. \n",
    "- Similarly, watch out where you add the `continue` keyword, so that all the right `print` statements still show.\n",
    "- You'll need to move the final `print()` statement up to before the `break`.\n",
    "\n",
    "</p>\n",
    "</details>\n"
   ]
  },
  {
   "cell_type": "markdown",
   "metadata": {
    "editable": false,
    "slideshow": {
     "slide_type": ""
    },
    "tags": []
   },
   "source": [
    "In the last lesson, you learned how to write and call **functions** before. They have one feature that is important to know within this context. If a `while` loop is inside a function, the `return` keyword will also interrupt the loop immediately (just like the `break`).\n",
    "\n",
    "Read the code below carefully. Then, run it. Type in your name and then type in \"yes\". Watch the output of the cell."
   ]
  },
  {
   "cell_type": "code",
   "execution_count": null,
   "metadata": {},
   "outputs": [],
   "source": [
    "def greeter():\n",
    "  while True:\n",
    "    name = input(\"What is your name?\")\n",
    "\n",
    "    user_confirmation = input(\"I understood \" + name + \". Is that correct? (Type 'yes')\")\n",
    "\n",
    "    if user_confirmation == \"yes\":\n",
    "      break\n",
    "    \n",
    "greeted_name = greeter()\n",
    "\n",
    "print(greeted_name)"
   ]
  },
  {
   "cell_type": "markdown",
   "metadata": {
    "editable": false,
    "slideshow": {
     "slide_type": ""
    },
    "tags": []
   },
   "source": [
    "As you see, it outputs `None`. Why is that? It's because we `print` the variable `greeted_name`. What value does that variable have? It has whatever `greeter()` returns. However, `greeter()` does not `return` anything. \n",
    "\n",
    "Replace the word `break` with `return name`. Then run the function again.\n",
    "\n",
    "You can see that even though we don't have the `break` keyword anymore, by using `return` we achieve the same result. Both the function and the loop stop immediately. \n",
    "\n",
    "Let's practice this one more time and this time combine the concept with functions. We'll build a simple guessing game. \n",
    "\n",
    "- First, the computer generates a number between 1 and 10. \n",
    "- The user is asked to guess the number. \n",
    "- The computer will tell the player if the correct number is higher or lower. \n",
    "- Then the user gets to guess again. \n",
    "- This continues until the user gets the number right. \n",
    "- Bonus: The number of wrong guesses is counted and displayed in the end as a negative score.\n",
    "\n",
    "If you want a bit of a challenge, try solving this task on your own. If you need a bit more guidance, click on the button below to show instructions.\n",
    "\n",
    "_(Reminder: To generate a random number in Python you can use the built-in `random.randint()` function. In the cell, below, `random` is already imported. So you can call `random.randint(lowest_number, highest_number)` to generate a random number by replacing `lowest_number` and `highest_number` with actual numbers. For example: `random.randint(1, 3)` will generate a random number between `1` and `3`.)_"
   ]
  },
  {
   "cell_type": "markdown",
   "metadata": {
    "editable": false,
    "slideshow": {
     "slide_type": ""
    },
    "tags": []
   },
   "source": [
    "<details>\n",
    "<summary style=\"border: 1px solid; border-radius: 3px; padding: 5px; display: inline-block; cursor: pointer;\">\n",
    "🐣 Instructions\n",
    "</summary>\n",
    "<p>\n",
    "\n",
    "First the computer-generated number: \n",
    "\n",
    "- Start by creating a new function called `generate_random_number`. The function should `return` a random number between `1` and `10`.\n",
    "\n",
    "Next, create a function for the user to choose a number. It'll include some extra logic to avoid false inputs. \n",
    "\n",
    "- Create another function called `get_user_number`. \n",
    "- Inside that function, ask the user to guess a number between 1 and 10 and store the user's input in a variable (e.g., you could call it `user_number`)\n",
    "- Still inside that function, check if `user_number` really is a number. Only if it is, `return` it as an `integer`. (**💡 Remember: if a `while` loop is inside a function, the `return` keyword will have the same effect as `break`!)**\n",
    "- If it's not a number the user should be asked again to guess a number between 1 and 10. \n",
    "- Bonus: Add yet another check to see if the number is in fact greater than 1 and less than 10. If it's not, also, repeat the question and ask the user to input a number again.\n",
    "\n",
    "So we have two pieces of isolated code that can be called and executed individually. Now, we need some initial code that is executed only once as the game starts. Make sure to write the following code outside of any functions. \n",
    "\n",
    "- Display a short message welcoming the user to the game. \n",
    "- Call the `generate_random_number` function and assign it to a global variable (e.g., `computer_number`). We do this once in the beginning because it shouldn't change while the player is guessing. \n",
    "\n",
    "Finally, we get to the **game loop**. This is the interaction the player will repeat over and over until they guess the computer's number correctly. \n",
    "\n",
    "- Create a new infinite loop. The following code will all go inside that.\n",
    "- Call `get_user_number` and assign it to a variable (e.g., `user_number`).\n",
    "- If the two numbers are equal, congratulate the user on winning and stop the loop.\n",
    "- If the user's number is larger than the random number, display \"Too high!\" **and** continue the loop. \n",
    "- If the user's number is smaller, display \"Too low!\" **and** continue the loop. \n",
    "\n",
    "That's it! That's the entire game. Try it out and see if you run into any issues.\n",
    "\n",
    ">🔥 It's very likely that you will run into an error when working on this. For example, you might come across a **TypeError**. Read the error carefully and try to figure out how you could solve the issue. If you get stuck for too long, try the hints below.\n",
    "\n",
    "**Bonus**: If you want, try adding a counter variable. The count should start at 0. Whenever the user is re-prompted to enter a new guess, the counter should be increased by one. In the end, display how many attempts the user needed to complete the game.\n",
    "\n",
    "</p>\n",
    "</details>"
   ]
  },
  {
   "cell_type": "code",
   "execution_count": null,
   "metadata": {},
   "outputs": [],
   "source": [
    "import random\n",
    "\n",
    "# 👇 Add your code below:\n",
    "\n",
    "\n",
    "\n",
    "\n",
    "\n",
    "\n",
    "\n",
    "\n"
   ]
  },
  {
   "cell_type": "markdown",
   "metadata": {
    "editable": false,
    "slideshow": {
     "slide_type": ""
    },
    "tags": []
   },
   "source": [
    "<details>\n",
    "<summary style=\"border: 1px solid; border-radius: 3px; padding: 5px; display: inline-block; cursor: pointer;\">\n",
    "💡 Hint: general\n",
    "</summary>\n",
    "<p>\n",
    "\n",
    "Make sure to pay close attention to the instructions and whether code should be **inside** a function or a loop. Indentation is super important in Python and it's very easy to get that wrong. \n",
    "\n",
    "In the end, there should be:\n",
    "- a very short `generate_random_number()` function\n",
    "- a `get_user_number()` function (with another loop and condition inside)\n",
    "- a global variable `computer_number` and a global `print()` statement\n",
    "- a `while True:` loop containing code to call the previous functions and a condition determining if the loop should keep running\n",
    "\n",
    "</p>\n",
    "</details>\n",
    "\n",
    "\n",
    "<br />\n",
    "\n",
    "\n",
    "<details>\n",
    "<summary style=\"border: 1px solid; border-radius: 3px; padding: 5px; display: inline-block; cursor: pointer;\">\n",
    "💡 Hint: get_user_number()\n",
    "</summary>\n",
    "<p>\n",
    "\n",
    "There are many ways to accomplish this task. So don't be surprised if your approach looks very different. It doesn't necessarily mean it's wrong!\n",
    "\n",
    "One way to solve this is to put the entire contents of the function inside a while loop. Keep in mind that `while True:` starts an infinite loop that will just repeat until you call `return` or `break`. \n",
    "\n",
    "You can use a condition inside the loop to check if the user's input is numeric (using `user_number.isnumeric()`).\n",
    "\n",
    "Here is an example of a condition inside a loop inside a function. Look at it closely and try to see how you can replicate this in the situation above. \n",
    "\n",
    "```python\n",
    "def get_name():\n",
    "  while True:\n",
    "    name = input(\"Please enter any name (at least one character).\")\n",
    "    if name:\n",
    "      return name\n",
    "```\n",
    "\n",
    "</p>\n",
    "</details>\n",
    "\n",
    "\n",
    "<br />\n",
    "\n",
    "\n",
    "<details>\n",
    "<summary style=\"border: 1px solid; border-radius: 3px; padding: 5px; display: inline-block; cursor: pointer;\">\n",
    "💡 Hint: game loop\n",
    "</summary>\n",
    "<p>\n",
    "\n",
    "The game loop is the core of the game. It should be an infinite loop (`while True:`). Inside it should be a variable assignment and a condition. \n",
    "\n",
    "The condition could be a three-part condition using `elif`. First, check if the two numbers are equal. Then, using `elif` you can check if one of them is either greater or less than the other.\n",
    "\n",
    "</p>\n",
    "</details>\n",
    "\n",
    "<br />\n",
    "\n",
    "\n",
    "<details>\n",
    "<summary style=\"border: 1px solid; border-radius: 3px; padding: 5px; display: inline-block; cursor: pointer;\">\n",
    "💡 Hint: TypeError\n",
    "</summary>\n",
    "<p>\n",
    "\n",
    "It's quite likely that you will run into this error. Remember, `input()` always returns a string. However, the computer-generated number is a number. You cannot check if a string is greater than or lesser than a number. So you need to make sure to convert the user input into a number. \n",
    "\n",
    "You can do that inside the `get_user_number()` function, after confirming if the input is numeric. \n",
    "\n",
    "You can do something like `return int(user_number)`.\n",
    "\n",
    "</p>\n",
    "</details>\n"
   ]
  },
  {
   "cell_type": "markdown",
   "metadata": {
    "editable": false,
    "slideshow": {
     "slide_type": ""
    },
    "tags": []
   },
   "source": [
    "This was a bit of a more complex task. Great job if you managed to complete it! If you are still struggling with it, don't worry. These kinds of things aren't easy. It's normal to have to look things up. Make sure to go step by step and try to get one piece working at a time. That's exactly how professional programmers do it!\n",
    "\n",
    "## 🏡 Practice Exercise\n",
    "([Back to top](#Table-of-Contents))\n",
    "\n",
    "In this lesson, we didn't cover much new syntax. But the concept of loops can be a bit tricky - especially when it comes to combining them with everything you have learned before. So take the time to practice the concepts. \n",
    "\n",
    "**Rock-Paper-Scissors Improvement**\n",
    "\n",
    "If you completed the rock-paper-scissors game in the previous lesson, you can take what you have learned here to improve on it. Use a `while`-loop to allow the user to repeatedly play the game after completing it (you could allow the user to keep playing **while** they answer yes, or **while** a pre-specified number of rounds has not yet been reached). \n",
    "\n",
    "Add a scoring system to count how many times either the player won or the computer won (for example, by creating a variable each for the computer's and user's scores, setting them to zero, and adding 1 for each round won)\n",
    "\n",
    "Add some validation to make sure the user only inputs what they are supposed to input. For example, if the user should type in `rock`, `paper`, or `scissors`, you could use a loop to re-prompt them to enter their answer again if they enter anything other than those three words. \n",
    "\n",
    "And don't forget, much like in the examples above, you can use functions to make your code easier to understand - especially if you end up with loops inside loops. "
   ]
  },
  {
   "cell_type": "markdown",
   "metadata": {
    "editable": false,
    "slideshow": {
     "slide_type": ""
    },
    "tags": []
   },
   "source": [
    "--- \n",
    "\n",
    "_Author: Samuel Boguslawski - Current Version: Mar 15, 2024 - © 2024 Licensed under [CC BY-NC 4.0](https://creativecommons.org/licenses/by-nc/4.0/?ref=chooser-v1)_"
   ]
  }
 ],
 "metadata": {
  "kernelspec": {
   "display_name": "Python 3 (ipykernel)",
   "language": "python",
   "name": "python3"
  },
  "language_info": {
   "codemirror_mode": {
    "name": "ipython",
    "version": 3
   },
   "file_extension": ".py",
   "mimetype": "text/x-python",
   "name": "python",
   "nbconvert_exporter": "python",
   "pygments_lexer": "ipython3",
   "version": "3.11.4"
  }
 },
 "nbformat": 4,
 "nbformat_minor": 4
}
