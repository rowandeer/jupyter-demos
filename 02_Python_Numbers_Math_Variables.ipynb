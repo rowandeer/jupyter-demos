{
 "cells": [
  {
   "attachments": {},
   "cell_type": "markdown",
   "id": "29b9c1d3",
   "metadata": {
    "editable": false,
    "slideshow": {
     "slide_type": ""
    },
    "tags": []
   },
   "source": [
    "# Python Basics 2: Numbers, Math, & Variables\n",
    "\n",
    "This lesson is part of a series. Each lesson assumes the reader has completed the previous lessons and achieved the learning outcomes.\n",
    "\n",
    "## Table of Contents\n",
    "\n",
    "- [🎯 Lesson outcome](#🎯-Lesson-outcome)\n",
    "- [1️⃣ Numbers and basic math](#1%EF%B8%8F⃣-Numbers-and-basic-math)\n",
    "- [📂 Variables](#📂-Variables)\n",
    "- [🔄 Combining Data Types](#🔄-Combining-Data-Types)\n",
    "- [🏡 Practice Exercise](#🏡-Practice-Exercise)\n",
    "\n",
    "## 🎯 Lesson outcome\n",
    "([Back to top](#Table-of-Contents))\n",
    "\n",
    "At the end of this lesson, you will be able to use Python for **basic math operations** and use **variables** to store and reuse pieces of data temporarily. In addition to `print()`, you'll get to know `input()`, another pre-defined Python function. It'll allow you to create interactive computer programs where users can enter information. Finally, you'll learn about **data type conversions** to allow you to work with **strings** and **numbers**. \n",
    "\n",
    "## 1️⃣ Numbers and basic math\n",
    "([Back to top](#Table-of-Contents))\n",
    "\n",
    "### Basic Math\n",
    "\n",
    "Remember the little program from the first lesson that allowed users to convert temperature measurements from Fahrenheit to Celsius? When a user enters a value in Fahrenheit, the program converts it to Celsius. \n",
    "\n",
    "To build a program like that, we must do some mathematical conversion.\n",
    "\n",
    "One of the core functionalities of any programming language is to work with data and run (mathematical) operations on it. (But don't worry! This section isn't too long, and we won't go too deep into math.)\n",
    "\n",
    "You can write mathematical operations in Python code and see their evaluated results. Look at some of the examples below. (Remember, you can adjust and execute each line by clicking on it and hitting the \"Run\" button.)"
   ]
  },
  {
   "cell_type": "code",
   "execution_count": null,
   "id": "b1889662",
   "metadata": {
    "editable": true,
    "slideshow": {
     "slide_type": ""
    },
    "tags": []
   },
   "outputs": [],
   "source": [
    "40 + 3"
   ]
  },
  {
   "cell_type": "code",
   "execution_count": null,
   "id": "10388eee",
   "metadata": {
    "editable": true,
    "slideshow": {
     "slide_type": ""
    },
    "tags": []
   },
   "outputs": [],
   "source": [
    "54 - 12"
   ]
  },
  {
   "cell_type": "code",
   "execution_count": null,
   "id": "8a68e176",
   "metadata": {
    "editable": true,
    "slideshow": {
     "slide_type": ""
    },
    "tags": []
   },
   "outputs": [],
   "source": [
    "6 * 7"
   ]
  },
  {
   "cell_type": "code",
   "execution_count": null,
   "id": "2f7b58fe",
   "metadata": {
    "editable": true,
    "slideshow": {
     "slide_type": ""
    },
    "tags": []
   },
   "outputs": [],
   "source": [
    "80 / 4 * (2 + 3) - 58"
   ]
  },
  {
   "cell_type": "markdown",
   "id": "bee7bfd6-1000-4f3c-91aa-910f4788e962",
   "metadata": {
    "editable": false,
    "slideshow": {
     "slide_type": ""
    },
    "tags": []
   },
   "source": [
    "You can write all sorts of math operations, including elements like parentheses. \n",
    "\n",
    "Let's go back to our temperature converter. The mathematical formula to convert Fahrenheit to Celsius looks like this: \n",
    "\n",
    "$Celsius = \\frac{{Fahrenheit - 32}}{{9/5}}$\n",
    "\n",
    "So, if, for example, we wanted to find out what 90 Fahrenheit is in Celsius, we could use the following code to calculate that: "
   ]
  },
  {
   "cell_type": "code",
   "execution_count": null,
   "id": "74093885-b9d1-4d17-a71f-8fab7353e0e7",
   "metadata": {
    "editable": true,
    "slideshow": {
     "slide_type": ""
    },
    "tags": []
   },
   "outputs": [],
   "source": [
    "(90 - 32) * 5/9"
   ]
  },
  {
   "attachments": {},
   "cell_type": "markdown",
   "id": "10333729",
   "metadata": {
    "editable": false,
    "slideshow": {
     "slide_type": ""
    },
    "tags": []
   },
   "source": [
    "Look at the example carefully and try to understand how the mathematical formula converts to code. Try changing the code and rerun it to find out what 50 Fahrenheit is in Celsius!\n",
    "\n",
    "Once you've got a good understanding, try another example: Let's say we want to calculate the average of 24, 95, and 7. We get the average of three numbers by adding them together and dividing the result by 3. \n",
    "\n",
    "In the empty code cell below, use Python code to calculate the average of `24`, `95`, and `7`."
   ]
  },
  {
   "cell_type": "code",
   "execution_count": null,
   "id": "263b1af0",
   "metadata": {
    "editable": true,
    "slideshow": {
     "slide_type": ""
    },
    "tags": []
   },
   "outputs": [],
   "source": [
    "# Add your math operations below\n"
   ]
  },
  {
   "attachments": {},
   "cell_type": "markdown",
   "id": "2f6a9966",
   "metadata": {
    "editable": false,
    "slideshow": {
     "slide_type": ""
    },
    "tags": []
   },
   "source": [
    "<details>\n",
    "<summary style=\"border: 1px solid; border-radius: 3px; padding: 5px; display: inline-block; cursor: pointer;\">\n",
    "💡 Hint\n",
    "</summary>\n",
    "<p>\n",
    "\n",
    "To get the average of several numbers, you first add them all together. Then, you divide the sum by how many numbers you had to begin with. In our case that would be `3`. \n",
    "\n",
    "_Remember: You can use parentheses in math operations!_\n",
    "    \n",
    "</p>\n",
    "</details>"
   ]
  },
  {
   "cell_type": "markdown",
   "id": "01c992a7-ce8e-421e-9e8b-80cae5f99cce",
   "metadata": {
    "editable": false,
    "slideshow": {
     "slide_type": ""
    },
    "tags": []
   },
   "source": [
    "### Integers and Floats\n",
    "\n",
    "You probably noticed above that converting 90 Fahrenheit to Celsius results in an oddly long number like `32.22222222222222`. This is a **float**. We won't go into the mathematical details here. But in Python, there is not just one data type for numbers. Instead, there are actually [three numeric data types](https://docs.python.org/3/library/stdtypes.html#numeric-types-int-float-complex): **integers**, **floats**, and **complex numbers**. We will not talk about complex numbers, as they are a bit more... well... complex. But the types you'll mostly commonly interact with are integers and floats, anyway. \n",
    "\n",
    "Integers are whole numbers without decimal points, while floats (floating-point numbers) include decimal points. Both represent what are called \"real\" (as opposed to \"imaginary\") numbers in mathematics.\n",
    "\n",
    "Why does it even matter? Why can't they all just be numbers? Well, for physical hardware reasons, some other programming languages are stricter about this. In Python, the difference isn't as strict. And if you notice from our example above, the calculation `(90 - 32) * 5/9` was made up of only integers, while the result was a float `32.22222222222222`. So Python already automatically converts the type when necessary. \n",
    "\n",
    "There are some instances when you want to make sure a calculation does not result in a float. For example, let's assume you have an app that deals with money. Whenever you make calculations, you want to make sure you don't end up with a number like `32.22222222222222`. To achieve that, a standard solution is to not use floats in the first place, and instead stick to integers. Rather than \"$32.22,\" you'd use \"3222 cents\" for your code. \n",
    "\n",
    "Python has a way of enforcing specific data types. With the built-in functions `int()` and `float()`, you can convert floats to integers or vice versa and thereby make sure the resulting number is of a specific type. \n",
    "\n",
    "Run the code below to see what I mean:"
   ]
  },
  {
   "cell_type": "code",
   "execution_count": null,
   "id": "994a145d-2f5f-47fd-86d5-2c480e59d07c",
   "metadata": {
    "editable": true,
    "slideshow": {
     "slide_type": ""
    },
    "tags": []
   },
   "outputs": [],
   "source": [
    "int(32.2222222)"
   ]
  },
  {
   "cell_type": "markdown",
   "id": "b7ef6947-649f-41cb-b5f4-437101494b0c",
   "metadata": {
    "editable": false,
    "slideshow": {
     "slide_type": ""
    },
    "tags": []
   },
   "source": [
    "You can also write math operations within the parentheses:"
   ]
  },
  {
   "cell_type": "code",
   "execution_count": null,
   "id": "2a1e56b2-a703-423d-b8fb-8bb8a6a2842d",
   "metadata": {
    "editable": true,
    "slideshow": {
     "slide_type": ""
    },
    "tags": []
   },
   "outputs": [],
   "source": [
    "float(3 + 10)"
   ]
  },
  {
   "cell_type": "markdown",
   "id": "d4f79a87-dda1-44ae-bf2c-aca0d1741290",
   "metadata": {
    "editable": false,
    "slideshow": {
     "slide_type": ""
    },
    "tags": []
   },
   "source": [
    "Now take the temperature conversion from before and change it so that the result will be an **integer**:"
   ]
  },
  {
   "cell_type": "code",
   "execution_count": null,
   "id": "276583cf-c916-4c7b-9218-6a3d77cbfff4",
   "metadata": {
    "editable": true,
    "slideshow": {
     "slide_type": ""
    },
    "tags": []
   },
   "outputs": [],
   "source": [
    "(90 - 32) * 5/9"
   ]
  },
  {
   "attachments": {},
   "cell_type": "markdown",
   "id": "c7d2a590",
   "metadata": {
    "editable": false,
    "slideshow": {
     "slide_type": ""
    },
    "tags": []
   },
   "source": [
    "### Aside: Printing multiple lines of code\n",
    "\n",
    "The Jupyter Notebook will always automatically output the result of the last line of your code on the screen. This means you won't see the results of multiple lines of calculations. (You'll see this by running the code cell below.)"
   ]
  },
  {
   "cell_type": "code",
   "execution_count": null,
   "id": "cd97af25",
   "metadata": {
    "editable": true,
    "slideshow": {
     "slide_type": ""
    },
    "tags": []
   },
   "outputs": [],
   "source": [
    "4 * 8\n",
    "(77 + 12384) * 6\n",
    "21 + 21"
   ]
  },
  {
   "attachments": {},
   "cell_type": "markdown",
   "id": "5abb82ef",
   "metadata": {
    "editable": false,
    "slideshow": {
     "slide_type": ""
    },
    "tags": []
   },
   "source": [
    "Outside of Jupyter Notebooks, if you want to display multiple lines of code on the screen, you should use the `print()` function you learned about before. You can use any kind of math operations inside the parentheses of the `print()` function to see the result on the screen. \n",
    "\n",
    "You can't see the result of one of the lines below. Update the code so that the result for each line is displayed.\n",
    "\n",
    "_(Don't forget, you can click on the code, change it around, and execute it with the \"Run\" button at the top or by hitting `Ctrl` + `Enter` on your keyboard.)_"
   ]
  },
  {
   "cell_type": "code",
   "execution_count": null,
   "id": "a450464c",
   "metadata": {
    "editable": true,
    "slideshow": {
     "slide_type": ""
    },
    "tags": []
   },
   "outputs": [],
   "source": [
    "print(4 * 8)\n",
    "(77 + 12384) * 6\n",
    "print(21 + 21)"
   ]
  },
  {
   "attachments": {},
   "cell_type": "markdown",
   "id": "5310ce82",
   "metadata": {
    "editable": false,
    "slideshow": {
     "slide_type": ""
    },
    "tags": []
   },
   "source": [
    "<details>\n",
    "<summary style=\"border: 1px solid; border-radius: 3px; padding: 5px; display: inline-block; cursor: pointer;\">\n",
    "💡 Hint\n",
    "</summary>\n",
    "<p>\n",
    "\n",
    "The second line is missing a `print()` statement. Ensure the entire statement (including the parentheses) is inside the parentheses of the `print()` function. It might look a bit odd at first, but it's okay to have parentheses inside parentheses in Python.\n",
    "    \n",
    "</p>\n",
    "</details>"
   ]
  },
  {
   "attachments": {},
   "cell_type": "markdown",
   "id": "b28c873c",
   "metadata": {
    "editable": false,
    "slideshow": {
     "slide_type": ""
    },
    "tags": []
   },
   "source": [
    "With this knowledge, you can write code that performs calculations and math operations to create useful tools like the temperature unit converter.\n",
    "\n",
    "## 📂 Variables\n",
    "([Back to top](#Table-of-Contents))\n",
    "\n",
    "You might be thinking that you could just as well use a calculator to do the math we did above - but there are definitely many things that you can do with a programming language that you can't do with a calculator. One power of programming language comes from **variables**, a way to **store data** or remember it for later. \n",
    "\n",
    "All programming languages have **variables**, and you might again be somewhat familiar with the concept from math.\n",
    "\n",
    "Let's take our formula from above: $Celsius = \\frac{{Fahrenheit - 32}}{{9/5}}$\n",
    "\n",
    "In this formula, and in math, the words `Celsius` and `Fahrenheit` would be considered **variables**. In math, they represent placeholders for values that could be inserted later. They can also be re-used in multiple places. \n",
    "\n",
    "We'll come back to this example later. But first, let's consider a different scenario. \n",
    "\n",
    "Let's say you work at a shop, and your job is to analyze the data gathered from the purchases throughout the day. You want to see a sum of all the purchases made in one day. But you're also interested in seeing how much money customers spent on average.\n",
    "\n",
    "You can write a quick computer program to help you with this calculation. \n",
    "\n",
    "First, we calculate the sum of all the money you make from purchases. Then, we calculate the average spending per purchase. \n",
    "\n",
    "One solution would be this:"
   ]
  },
  {
   "cell_type": "code",
   "execution_count": null,
   "id": "332e54bc",
   "metadata": {
    "editable": false,
    "slideshow": {
     "slide_type": ""
    },
    "tags": []
   },
   "outputs": [],
   "source": [
    "# Sum of all purchases\n",
    "print((24 + 95 + 7))\n",
    "\n",
    "# Average of today's purchases\n",
    "print((24 + 95 + 7) / 3)"
   ]
  },
  {
   "attachments": {},
   "cell_type": "markdown",
   "id": "5d76528b",
   "metadata": {
    "editable": false,
    "slideshow": {
     "slide_type": ""
    },
    "tags": []
   },
   "source": [
    "This is not super elegant, but it works. But what if you want to extend your calculations across several days. So, you have an average for each day, and in the end, you want to calculate the average across the different days.\n",
    "\n",
    "Here is what this could look like:"
   ]
  },
  {
   "cell_type": "code",
   "execution_count": null,
   "id": "5fd646d6",
   "metadata": {
    "editable": false,
    "slideshow": {
     "slide_type": ""
    },
    "tags": []
   },
   "outputs": [],
   "source": [
    "# Day 1: Sum of all purchases\n",
    "print((24 + 95 + 7))\n",
    "# Day 1: Average of all purchases\n",
    "print((24 + 95 + 7) / 3)\n",
    "# Day 2: Sum of all purchases\n",
    "print((95 + 2 + 2))\n",
    "# Day 2: Average of all purchases\n",
    "print((95 + 2 + 2) / 3)\n",
    "\n",
    "# Total Average\n",
    "print((24 + 95 + 7 + 95 + 2 + 2) / 6)"
   ]
  },
  {
   "attachments": {},
   "cell_type": "markdown",
   "id": "64a5da57",
   "metadata": {
    "editable": false,
    "slideshow": {
     "slide_type": ""
    },
    "tags": []
   },
   "source": [
    "You can see this starts to get quite repetitive. To avoid some of that repetition, you can use **variables** to reuse the same value or combination of values over and over again. \n",
    "\n",
    "In Python, you create a variable by simply writing a variable name followed by an equal sign `=` and the value you want to assign to the variable. \n",
    "\n",
    "The variable name can be anything you like, so long as it's not the same as a **reserved word**. Reserved words are certain words that have a predefined meaning within the language - like \"print\" in the print() function - and therefore cannot be used as variable names. \n",
    "\n",
    "The value you assign can be a number (whether integer or float), text (i.e. string), or another data type we have not yet covered. For example:"
   ]
  },
  {
   "cell_type": "code",
   "execution_count": 3,
   "id": "949693c5-d3e0-4838-8ede-ae3170d16128",
   "metadata": {
    "editable": false,
    "slideshow": {
     "slide_type": ""
    },
    "tags": []
   },
   "outputs": [],
   "source": [
    "number = 42"
   ]
  },
  {
   "cell_type": "code",
   "execution_count": null,
   "id": "b6222707-2376-417a-a7b0-704a49f51791",
   "metadata": {
    "editable": false,
    "slideshow": {
     "slide_type": ""
    },
    "tags": []
   },
   "outputs": [],
   "source": [
    "text = \"Hello World\""
   ]
  },
  {
   "cell_type": "markdown",
   "id": "1cdeb569-d900-499c-9d53-cb69eaf96a69",
   "metadata": {
    "slideshow": {
     "slide_type": ""
    },
    "tags": []
   },
   "source": [
    "It's also important to note that variable names cannot have spaces and should not use special characters besides `_` underscores. In Python, it's also common practice (although not strictly necessary) to keep variables in lower-case and use underscores if your variable name consists of multiple words. \n",
    "\n",
    "Here is an example: "
   ]
  },
  {
   "cell_type": "code",
   "execution_count": null,
   "id": "345836a7",
   "metadata": {
    "editable": false,
    "slideshow": {
     "slide_type": ""
    },
    "tags": []
   },
   "outputs": [],
   "source": [
    "the_meaning_of_everything = 42"
   ]
  },
  {
   "attachments": {},
   "cell_type": "markdown",
   "id": "2e779ca8",
   "metadata": {
    "editable": false,
    "slideshow": {
     "slide_type": ""
    },
    "tags": []
   },
   "source": [
    "A variable can be reused and represents whatever value has been assigned to it. Run the code example below. Then, try to change the variable value and rerun it. "
   ]
  },
  {
   "cell_type": "code",
   "execution_count": null,
   "id": "b9deacd4",
   "metadata": {
    "editable": true,
    "slideshow": {
     "slide_type": ""
    },
    "tags": []
   },
   "outputs": [],
   "source": [
    "the_meaning_of_everything = 42\n",
    "\n",
    "print(\"The meaning of everything is:\")\n",
    "print(the_meaning_of_everything)\n",
    "print(\"No, seriously! It really is:\")\n",
    "print(the_meaning_of_everything)"
   ]
  },
  {
   "cell_type": "markdown",
   "id": "c8657e35-f193-4350-8caa-1fcbe7695c06",
   "metadata": {
    "editable": false,
    "slideshow": {
     "slide_type": ""
    },
    "tags": []
   },
   "source": [
    "You can use this to make the temperature measurement converter a bit easier to work with:"
   ]
  },
  {
   "cell_type": "code",
   "execution_count": null,
   "id": "a1a9a46c-4a4e-4dfc-8261-dc3994126595",
   "metadata": {
    "editable": true,
    "slideshow": {
     "slide_type": ""
    },
    "tags": []
   },
   "outputs": [],
   "source": [
    "fahrenheit = 90\n",
    "\n",
    "celsius = (fahrenheit - 32) * 5/9\n",
    "\n",
    "print(celsius)"
   ]
  },
  {
   "attachments": {},
   "cell_type": "markdown",
   "id": "2f061c18",
   "metadata": {
    "editable": false,
    "slideshow": {
     "slide_type": ""
    },
    "tags": []
   },
   "source": [
    "Run the code above. Then, try to change the `90` to a different value and rerun it. It might be a bit more code than before. But it's already a lot easier to understand what the code does. It's much more intuitive to reason about it and make adjustments. \n",
    "\n",
    ">💡 That's something to remember for your programming journey: Readability (i.e. being able to quickly understand what code is supposed to do) is extremely important. Even if it requires a few more lines of code, it's generally a good idea to be very explicit about how things work. For example, come up with variable names that describe what they represent. Don't shy away from creating variable names made up of multiple words. Optimizing code for understandability is always better than optimizing it for space.\n",
    "\n",
    "Given that new knowledge, let's return to the above shop example. Use variables to simplify the code we wrote above and make it less repetitive. \n",
    "\n",
    "There is already some code prepared in the box below. Don't remove any of it. Instead, try to add the missing parts to get the code to work. \n",
    "\n",
    "Your day 1 purchases had the following values: 24, 95, and 7\n",
    "\n",
    "Your day 2 purchases had the following values: 95, 2, and 2\n",
    "\n",
    "The output should:\n",
    "- display the sum of all purchases on the first day\n",
    "- display the average purchase value on the first day\n",
    "- display the sum of all purchases on the second day\n",
    "- display the average purchase value on the second day\n",
    "- display the average purchase value across the two days\n",
    "\n",
    "Don't hesitate to run the incomplete code and use the error messages to understand what's missing. \n",
    "\n",
    "The code cell also contains some automated tests at the end. They are print statements that verify that you did the math correctly. Check the output of the tests to see if you made a mistake in any of your calculations. "
   ]
  },
  {
   "cell_type": "code",
   "execution_count": 4,
   "id": "56b2882e",
   "metadata": {
    "editable": true,
    "slideshow": {
     "slide_type": ""
    },
    "tags": []
   },
   "outputs": [],
   "source": [
    "# Day 1\n",
    "day_1_a = 24\n",
    "\n",
    "\n",
    "\n",
    "\n",
    "print(\"On day 1, the total income was: \")\n",
    "print(day_1_total)\n",
    "\n",
    "print(\"On day 1, the average purchase price was: \")\n",
    "print(day_1_average)\n",
    "\n",
    "# Day 2\n",
    "day_2_a = 95\n",
    "\n",
    "\n",
    "\n",
    "\n",
    "print(\"On day 2, the total income was: \")\n",
    "print(day_2_total)\n",
    "\n",
    "print(\"On day 2, the average purchase price was: \")\n",
    "print(day_2_average)\n",
    "\n",
    "# Average across both days\n",
    "\n",
    "\n",
    "\n",
    "print(\"The overall average purchase price is: \")\n",
    "print(total_average)\n",
    "\n",
    "\n",
    "# ===============================\n",
    "# ✋ Automated Test (don't change any code below this line!)\n",
    "# ===============================\n",
    "\n",
    "print(\"\\n---\\n⚙️ Automated Test Results: \\n---\")\n",
    "print(\"❌ day_1_total seems to have the wrong result.\" if day_1_total != 126 else \"☑️ day_1_total is correct.\")\n",
    "print(\"❌ day_1_average seems to have the wrong result.\" if day_1_average != 42.0 else \"☑️ day_1_average is correct.\")\n",
    "print(\"❌ day_2_total seems to have the wrong result.\" if day_2_total != 99 else \"☑️ day_2_total is correct.\")\n",
    "print(\"❌ day_2_average seems to have the wrong result.\" if day_2_average != 33.0 else \"☑️ day_2_average is correct.\")\n",
    "print(\"❌ total_average seems to have the wrong result.\" if total_average != 37.5 else \"☑️ total_average is correct.\")"
   ]
  },
  {
   "attachments": {},
   "cell_type": "markdown",
   "id": "b7f0fbfe",
   "metadata": {
    "editable": false,
    "slideshow": {
     "slide_type": ""
    },
    "tags": []
   },
   "source": [
    "<details>\n",
    "<summary style=\"border: 1px solid; border-radius: 3px; padding: 5px; display: inline-block; cursor: pointer;\">\n",
    "💡 Hint\n",
    "</summary>\n",
    "<p>\n",
    "\n",
    "If you run into issues, make sure to check the error message. You might, e.g., run into a `NameError` that tells you that some `name is not defined`. `name` refers to \"variable name,\" in this case. So look closely and check whether you forgot to assign a variable name, or assigned it incorrectly. Even a tiny typo, like a missing underscore (day1_total, instead of day_1_total, for example) will result in an error. You have to be super precise when talking to computers!\n",
    "    \n",
    "</p>\n",
    "</details>"
   ]
  },
  {
   "cell_type": "markdown",
   "id": "eadae56a-10d6-46ef-9aca-3a5f98b2dbd5",
   "metadata": {
    "editable": false,
    "slideshow": {
     "slide_type": ""
    },
    "tags": []
   },
   "source": [
    "Nice! 🎉\n",
    "\n",
    "You've now learned the most important core concepts of programming. You know about simple data types like strings and numbers. You know how to do basic math. And you know how to store values using variables. \n",
    "\n",
    "## 🔄 Combining Data Types\n",
    "([Back to top](#Table-of-Contents))\n",
    "\n",
    "As we learned in the last lesson, there are [multiple different **data types**](https://docs.python.org/3/library/stdtypes.html#). You have learned about **strings**, **integers**, and **floats**. Finally, you also learned about **variables** in this lesson, which can represent data of specific types.\n",
    "\n",
    "Let's go back to the temperature measurement converter. The last version worked, but we must change the code every time we want to convert a different temperature. If you want to write an application that can be used by other people, you're not going to give them the raw code. Instead, you want them to be able to enter a number and receive the required result. \n",
    "\n",
    "Another pre-defined Python function is `input()`, which is essentially the counterpart to `print()`. When the function `input()` is executed in the code, the code execution stops and waits until the user has input some information. Then, as soon as the user hits the <kbd>Enter</kbd> key, the code keeps running. \n",
    "\n",
    "Try it out. Click on the line below and run it. You should see an input field pop up. Insert a number and hit <kbd>Enter</kbd>, and you'll see the output of what you entered. "
   ]
  },
  {
   "cell_type": "code",
   "execution_count": null,
   "id": "b2b18a48-9dd1-4756-8fd9-afc598312003",
   "metadata": {
    "editable": true,
    "slideshow": {
     "slide_type": ""
    },
    "tags": []
   },
   "outputs": [],
   "source": [
    "input()"
   ]
  },
  {
   "cell_type": "markdown",
   "id": "49d882c1-3370-4ca4-9c8c-7e13655aa843",
   "metadata": {
    "editable": false,
    "slideshow": {
     "slide_type": ""
    },
    "tags": []
   },
   "source": [
    "You can use the user's input in combination with other code by using the `input()` function in a variable, as in the example below\n",
    "\n",
    "Try running it: "
   ]
  },
  {
   "cell_type": "code",
   "execution_count": null,
   "id": "a1ac00af-010e-485c-baf4-5d9ff6fbf815",
   "metadata": {
    "editable": true,
    "slideshow": {
     "slide_type": ""
    },
    "tags": []
   },
   "outputs": [],
   "source": [
    "user_name = input(\"What is your name?\")\n",
    "\n",
    "print(\"Nice to meet you, \" + user_name)"
   ]
  },
  {
   "cell_type": "markdown",
   "id": "123d0086-5819-4bf0-8add-df074f40b42d",
   "metadata": {
    "slideshow": {
     "slide_type": ""
    },
    "tags": []
   },
   "source": [
    "There are three new things to pay attention to in this code. \n",
    "\n",
    "First, you can see that you can insert a string between the parenthesis of the `input()` function. This text is displayed right before the input field. \n",
    "\n",
    "Second, we store whatever the user writes in the variable `user_name` by assigning the variable to the `input()` function. \n",
    "\n",
    "Third, we added whatever is stored in the variable `user_name` to the string `\"Nice to meet you, \"` using the plus `+` sign - just as if were math. \n",
    "\n",
    "In Python, you can add multiple strings together, and they will be combined into a single string. You can do that with the plus `+` sign. Try out the example below: "
   ]
  },
  {
   "cell_type": "code",
   "execution_count": null,
   "id": "c1dba5df-8e45-445f-8d0d-ac691e74c644",
   "metadata": {
    "editable": true,
    "slideshow": {
     "slide_type": ""
    },
    "tags": []
   },
   "outputs": [],
   "source": [
    "\"I like\" + \"pizza!\""
   ]
  },
  {
   "cell_type": "markdown",
   "id": "3ff0b577-dc99-45e5-a1d5-850296f80d1e",
   "metadata": {
    "editable": false,
    "slideshow": {
     "slide_type": ""
    },
    "tags": []
   },
   "source": [
    "Run the code above and observe the output. Something doesn't look quite right. Can you change the strings above to make the output say \"I like pizza!\"? \n",
    "\n",
    "You can add as many strings together as you want, and you can also add strings that have been stored in variables: "
   ]
  },
  {
   "cell_type": "code",
   "execution_count": null,
   "id": "545851de-d2a2-4c64-b457-1c8aa53f841d",
   "metadata": {
    "editable": true,
    "slideshow": {
     "slide_type": ""
    },
    "tags": []
   },
   "outputs": [],
   "source": [
    "name = input(\"What is your name?\")\n",
    "favorite_food = \"pizza\"\n",
    "\n",
    "\"My name is \" + name + \" and my favorite food is \" favorite_food"
   ]
  },
  {
   "cell_type": "markdown",
   "id": "06c310a1-abef-4f17-a4f7-e134cf2db0de",
   "metadata": {
    "editable": false,
    "slideshow": {
     "slide_type": ""
    },
    "tags": []
   },
   "source": [
    "Try to run the code above. There is a bug in the code again. Can you find it? "
   ]
  },
  {
   "cell_type": "markdown",
   "id": "b223ae1f-20ab-42ce-8957-688e72d613e5",
   "metadata": {
    "editable": false,
    "slideshow": {
     "slide_type": ""
    },
    "tags": []
   },
   "source": [
    "<details>\n",
    "<summary style=\"border: 1px solid; border-radius: 3px; padding: 5px; display: inline-block; cursor: pointer;\">\n",
    "💡 Hint\n",
    "</summary>\n",
    "<p>\n",
    "\n",
    "There is a `+` missing. Do you see where?\n",
    "    \n",
    "</p>\n",
    "</details>"
   ]
  },
  {
   "cell_type": "markdown",
   "id": "3e0d43e5-23d7-4db1-a142-d7505e4391db",
   "metadata": {
    "editable": false,
    "slideshow": {
     "slide_type": ""
    },
    "tags": []
   },
   "source": [
    "So now that we know how to combine strings and how to get user input, we can finally complete the temperature measurement converter. \n",
    "\n",
    "Below is our code from before (with an extra `print()` statement - that will help us later). Given what you have learned about the `input()` function, try to change the code below so that instead of predefining the number `90` you ask the user to input the Fahrenheit value and store it in the `fahrenheit` variable. "
   ]
  },
  {
   "cell_type": "code",
   "execution_count": null,
   "id": "46cd6a7d-4a09-4ed6-8e9d-46d308d2ac94",
   "metadata": {
    "editable": true,
    "slideshow": {
     "slide_type": ""
    },
    "tags": []
   },
   "outputs": [],
   "source": [
    "fahrenheit = 90\n",
    "\n",
    "print(fahrenheit)\n",
    "\n",
    "celsius = (fahrenheit - 32) * 5/9\n",
    "\n",
    "print(celsius)"
   ]
  },
  {
   "cell_type": "markdown",
   "id": "63818ee8-973e-45cc-b727-639f03fcb1dd",
   "metadata": {
    "editable": false,
    "slideshow": {
     "slide_type": ""
    },
    "tags": []
   },
   "source": [
    "<details>\n",
    "<summary style=\"border: 1px solid; border-radius: 3px; padding: 5px; display: inline-block; cursor: pointer;\">\n",
    "💡 Hint\n",
    "</summary>\n",
    "<p>\n",
    "\n",
    "Remember that you can assign the `input()` function to a variable. So, in this example, you'll have to assign the `input()` function to the `fahrenheit` variable instead of the number `90`.\n",
    "    \n",
    "</p>\n",
    "</details>"
   ]
  },
  {
   "cell_type": "markdown",
   "id": "f90d759e-3200-4bdc-a66d-d5fb7fb0085e",
   "metadata": {
    "editable": false,
    "slideshow": {
     "slide_type": ""
    },
    "tags": []
   },
   "source": [
    "Now input a value into the box that appears and hit <kbd>Enter</kbd>. If you've done what you were asked **🚨 you will get an error**. Don't worry! We want to use that error to learn the last part of this lesson.\n",
    "\n",
    "Try to look closely at the error and try to understand it. Which line does it appear on? Which specific part of the code is causing the error? What is the error message, and what might it mean? \n",
    "\n",
    "Take a moment to try and understand it before you continue reading. \n",
    "\n",
    "What you see is a `TypeError`. Remember, we talked about **data types** earlier. So, the error is related to that. Next, the message says `unsupported operand type(s) for -: 'str' and 'int'`. `str` stands for \"string\" and `int` for \"integer\" - which is a type of number. Furthermore, the error appears in line 5 for the bit `fahrenheit - 32`. \n",
    "\n",
    "The error says the operand (in this case, the `-` minus) is unsupported for the types `str` and `int` - meaning you cannot use `-` with the two data types string and integer (number).\n",
    "\n",
    "This is a feature of Python. You can use `+` for strings with strings and numbers with numbers. But you cannot use `+` to combine numbers with strings or `-` to subtract numbers from strings. You'll get the same error with the code below: \n"
   ]
  },
  {
   "cell_type": "code",
   "execution_count": null,
   "id": "d2b1e5ac-176a-4642-9f08-8202918f07a3",
   "metadata": {
    "editable": true,
    "slideshow": {
     "slide_type": ""
    },
    "tags": []
   },
   "outputs": [],
   "source": [
    "\"hi\" - 5"
   ]
  },
  {
   "cell_type": "markdown",
   "id": "677e46c4-f698-4009-b6c2-4c11343c8e99",
   "metadata": {
    "editable": false,
    "slideshow": {
     "slide_type": ""
    },
    "tags": []
   },
   "source": [
    "So going back to the original example, `fahrenheit - 32`, the `32` is an integer. So why does Python think `fahrenheit` is a string? \n",
    "\n",
    "That's because, by default, `input()` will always return a string. It doesn't matter if the user enters a number or letter. Because Python doesn't know if the user has entered one or the other, **Python assumes the user has entered a string** and treats everything as such. That is a decision made by the developers of the Python language. Other languages might work differently. But this is how it works in Python and, as Python developers, we have to know that and write code accordingly. \n",
    "\n",
    "There is a simple solution, and you have already learned about it! Remember `int()` and `float()`? Those functions can not only convert one number type to another. They can also be used to convert numbers inside a string into numbers. Conversely, `str()` can convert various data types (including numbers) into strings. \n",
    "\n",
    "Try the code below and play around with it to see what happens. Then, return to the temperature converter code above, and fix the error by converting `fahrenheit` to a number."
   ]
  },
  {
   "cell_type": "code",
   "execution_count": null,
   "id": "7a1ba569-da44-4bcc-8e00-db1f9560112b",
   "metadata": {
    "editable": true,
    "slideshow": {
     "slide_type": ""
    },
    "tags": []
   },
   "outputs": [],
   "source": [
    "output1 = str(42)\n",
    "print(output1)\n",
    "\n",
    "output2 = int(\"3\")\n",
    "print(output2)\n",
    "\n",
    "output3 = float(\"55.33\")\n",
    "print(output3)"
   ]
  },
  {
   "cell_type": "markdown",
   "id": "d6b24773-8695-4b72-990e-6fda04012ee5",
   "metadata": {
    "editable": false,
    "slideshow": {
     "slide_type": ""
    },
    "tags": []
   },
   "source": [
    "<details>\n",
    "<summary style=\"border: 1px solid; border-radius: 3px; padding: 5px; display: inline-block; cursor: pointer;\">\n",
    "💡 Hint\n",
    "</summary>\n",
    "<p>\n",
    "\n",
    "This is what the function should look like using the `input()` function: \n",
    "\n",
    "```python\n",
    "fahrenheit = input()\n",
    "\n",
    "print(fahrenheit)\n",
    "\n",
    "celsius = (fahrenheit - 32) * 5/9\n",
    "\n",
    "print(celsius)\n",
    "```\n",
    "<br />\n",
    "\n",
    "For the calculation `(fahrenheit - 32) * 5/9` to work, the `fahrenheit` variable needs to be converted to a number. To convert a variable to a float, write the variable name inside the parentheses of the `float()` function: `float(variable_to_convert)`. Remember you can use parentheses inside parentheses!\n",
    "\n",
    "You can also use `int()` here - try both and check how the result differs.\n",
    "\n",
    "</p>\n",
    "</details>"
   ]
  },
  {
   "attachments": {},
   "cell_type": "markdown",
   "id": "8a3f4cc6",
   "metadata": {
    "editable": false,
    "slideshow": {
     "slide_type": ""
    },
    "tags": []
   },
   "source": [
    "If you try to convert text to a number, e.g., `int(\"Hello World\")`, you will see that it's impossible. So keep that in mind whenever you use these converters. It's bad practice to write code where you already know it could cause an error based on user input. \n",
    "\n",
    "The temperature converter code above would break if the user entered text instead of numbers. That's not ideal. So, in the next lesson, you will learn about how you can prevent such breakages via what's called **control flow** and **conditions**.\n",
    "\n",
    "## 🏡 Practice Exercise\n",
    "([Back to top](#Table-of-Contents))\n",
    "\n",
    "In this lesson, you got to know two new data types, **integers** and **floats**, and learned about basic math operations. You also learned about **variables** as a way to store data such as strings or numbers. And finally, you learned to convert and combine **data types** and build more interactive programs with the `input()` function. \n",
    "\n",
    "It's a good idea to try and apply these concepts outside of the Jupyter Notebook in your own Python editor. You can have a go at creating a different kind of converter, perhaps one that converts from miles to kilometers values. \n",
    "\n",
    "1. Ensure you have followed the steps from the first lesson to install Python and a code editor on your computer.\n",
    "2. In your code editor, create a new **.py** file, for example, **miles-converter.py**.\n",
    "3. In that file, write code that gets the user's `input()` and stores it in a variable, for example, a variable called `miles`.\n",
    "4. Write a formula that converts that value to something else, such as `kilometers`. Don't forget that you need to convert the data type of the user input.\n",
    "5. Finally, `print()` the result on the screen and save the file.\n",
    "\n",
    "You can try out the file by navigating to the folder containing the **.py**-file in the command line and executing the file with the command `python3 mile-converter.py` (or whichever filename you choose)."
   ]
  },
  {
   "cell_type": "markdown",
   "id": "e98676e3-6778-4dc4-a057-07294891cd74",
   "metadata": {
    "editable": false,
    "slideshow": {
     "slide_type": ""
    },
    "tags": []
   },
   "source": [
    "--- \n",
    "\n",
    "_Author: Samuel Boguslawski - Current Version: Feb 20, 2024 - © 2024 Licensed under [CC BY-NC 4.0](https://creativecommons.org/licenses/by-nc/4.0/?ref=chooser-v1)_"
   ]
  }
 ],
 "metadata": {
  "kernelspec": {
   "display_name": "Python 3 (ipykernel)",
   "language": "python",
   "name": "python3"
  },
  "language_info": {
   "codemirror_mode": {
    "name": "ipython",
    "version": 3
   },
   "file_extension": ".py",
   "mimetype": "text/x-python",
   "name": "python",
   "nbconvert_exporter": "python",
   "pygments_lexer": "ipython3",
   "version": "3.11.3"
  },
  "vscode": {
   "interpreter": {
    "hash": "58243efc57a824e48bd8accfc07ecdf19a1d136d4cb030c6b2d8e282c2acc61d"
   }
  }
 },
 "nbformat": 4,
 "nbformat_minor": 5
}
