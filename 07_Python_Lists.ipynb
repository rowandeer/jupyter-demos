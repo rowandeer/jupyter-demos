{
 "cells": [
  {
   "cell_type": "markdown",
   "metadata": {
    "editable": false,
    "slideshow": {
     "slide_type": ""
    },
    "tags": []
   },
   "source": [
    "# Python Basics 7: Lists\n",
    "\n",
    "This lesson is part of a series. Each lesson assumes the reader has completed and understood the learning outcomes of the previous lessons.\n",
    "\n",
    "## Table of Contents\n",
    "\n",
    "- [🎯 Lesson outcome](#🎯-Lesson-outcome)\n",
    "- [📋 Lists](#📋-Lists)\n",
    "- [📝 Creating Lists](#📝-Creating-Lists)\n",
    "- [👈 Selecting List Items](#👈-Selecting-List-Items)\n",
    "- [✍️ Editing Lists](#✍️-Editing-Lists)\n",
    "- [🏡 Practice Exercise](#🏡-Practice-Exercise)\n",
    "\n",
    "## 🎯 Lesson outcome\n",
    "([Back to top](#Table-of-Contents))\n",
    "\n",
    "In this lesson, you'll learn how to use lists to store more complex data sets and allow users to make various edits to them.\n",
    "\n",
    "## 📋 Lists\n",
    "([Back to top](#Table-of-Contents))\n",
    "\n",
    "So far you have learned about simple data types: numbers, strings, and booleans. \n",
    "\n",
    "But what if you want to store a whole bunch of data? Imagine you want to build a quiz app with 10 questions. How would you add those questions to the code? \n",
    "\n",
    "Sure, you could create one variable per question like this:\n",
    "\n",
    "```python\n",
    "question_1 = \"How tall is the Mount Everest?\"\n",
    "question_2 = \"How old is the oldest tree on earth?\"\n",
    "question_3 = \"How long does it take the earth to circle the sun?\"\n",
    "```\n",
    "\n",
    "You can see doing it this way will take quite some time and would become very tedious if you later decide to change the order of questions or remove or add some in the middle. \n",
    "\n",
    "But **complex data types** make it possible to make those kind of changes much more easily.\n",
    "\n",
    "Complex data types allow you to store a set of many data points (such as many quiz questions) within a single variable. There are a couple of those complex data types. But in this lesson, we're going to look at only one: **lists** (also known as **arrays** in other programming languages).\n",
    "\n",
    "## 📝 Creating Lists\n",
    "([Back to top](#Table-of-Contents))\n",
    "\n",
    "This is how you'd write a **list of strings** (in this case, quiz questions):"
   ]
  },
  {
   "cell_type": "code",
   "execution_count": null,
   "metadata": {},
   "outputs": [],
   "source": [
    "quiz_questions = [\n",
    "  \"How tall is Mount Everest (in meters)?\",\n",
    "  \"How old is the oldest tree on earth (in years)?\",\n",
    "  \"How long does it take the earth to circle the sun (in days)?\"\n",
    "]\n",
    "\n",
    "quiz_answers = [8849, 4853, 365]\n",
    "\n",
    "print(quiz_questions)\n",
    "print(quiz_answers)"
   ]
  },
  {
   "cell_type": "markdown",
   "metadata": {
    "editable": false,
    "slideshow": {
     "slide_type": ""
    },
    "tags": []
   },
   "source": [
    "Much like in other programming languages, you define the start and end of a list with square brackets: `[ ]`. Each item in the list is separated by commas. Line breaks and indentations **don't matter**: as you can see in the example above, the list of questions is separated by line breaks and is indented, while the list of answers is not. Both work! But since the line breaks and indentations make the code easier to read, it's a good idea to use them - at least for longer lists.\n",
    "\n",
    "If you execute the code above, you'll see that the two print statements print the entire lists. But what if you want to work with individual items? \n",
    "\n",
    "## 👈 Selecting List Items\n",
    "([Back to top](#Table-of-Contents))\n",
    "\n",
    "To get an individual list item, you call the variable name of the list, followed by square brackets containing the position number of the item you want. This position number is called the \"**index**\".\n",
    "\n",
    "This is what it looks like:"
   ]
  },
  {
   "cell_type": "code",
   "execution_count": null,
   "metadata": {},
   "outputs": [],
   "source": [
    "quiz_questions = [\n",
    "  \"How tall is Mount Everest (in meters)?\",\n",
    "  \"How old is the oldest tree on earth (in years)?\",\n",
    "  \"How long does it take the earth to circle the sun (in days)?\"\n",
    "]\n",
    "\n",
    "first_question = quiz_questions[0]\n",
    "\n",
    "print(first_question)"
   ]
  },
  {
   "cell_type": "markdown",
   "metadata": {
    "editable": false,
    "slideshow": {
     "slide_type": ""
    },
    "tags": []
   },
   "source": [
    "Play around with the code a bit by changing the number or adding items to the list. _(Don't forget the comma behind each list item when adding new ones!)_ Look at how things change. \n",
    "\n",
    "Did you notice how we used the number `0` to get the first list item instead of the number `1`? That's an important characteristic of lists (and the source of many memes!). Computers count list items starting at **0**. In other words: the **index** of a list always starts with the number `0`."
   ]
  },
  {
   "attachments": {
    "2c38ba5c-6822-4e42-8b98-fa1ae97a6e02.png": {
     "image/png": "[encoded data removed]"
    }
   },
   "cell_type": "markdown",
   "metadata": {
    "editable": false,
    "slideshow": {
     "slide_type": ""
    },
    "tags": []
   },
   "source": [
    "![07_lists.png](attachment:2c38ba5c-6822-4e42-8b98-fa1ae97a6e02.png)"
   ]
  },
  {
   "cell_type": "markdown",
   "metadata": {
    "editable": false,
    "slideshow": {
     "slide_type": ""
    },
    "tags": []
   },
   "source": [
    "Try creating your own list in the code cell below. Assign it to the variable `my_list`. The list should have exactly 8 items.\n",
    "\n",
    "Then, declare a variable called `my_variable` and assign it to the fourth item in the list. \n",
    "\n",
    "If you've done everything right, the automated tests should pass."
   ]
  },
  {
   "cell_type": "code",
   "execution_count": null,
   "metadata": {},
   "outputs": [],
   "source": [
    "\n",
    "\n",
    "\n",
    "\n",
    "\n",
    "# ===============================\n",
    "# ✋ Automated Test (don't change any code below this line!)\n",
    "# ===============================\n",
    "\n",
    "print(\"\\n---\\n⚙️ Automated Test Results: \\n---\")\n",
    "\n",
    "print(\"❌ Test 1 failed. Make sure you have a variable called my_list that contains an list with a length of exactly 8 items.\" if len(my_list) != 8 else \"☑️ Test 1 passed. The list length is correct.\")\n",
    "print(\"❌ Test 2 failed. Make sure you have a variable my_variable that's assigned to the fourth value of the list. Don't forget lists start counting at 0.\" if my_variable != my_list[3] else \"☑️ Test 2 passed. You selected the fourth item.\")"
   ]
  },
  {
   "cell_type": "markdown",
   "metadata": {
    "editable": false,
    "slideshow": {
     "slide_type": ""
    },
    "tags": []
   },
   "source": [
    "<details>\n",
    "<summary style=\"border: 1px solid; border-radius: 3px; padding: 5px; display: inline-block; cursor: pointer;\">\n",
    "💡 Hint\n",
    "</summary>\n",
    "<p>\n",
    "\n",
    "Remember, you define a list like this: \n",
    "\n",
    "```python\n",
    "this_is_a_list = [\"first item\", \"another item\", \"yet another item\"]\n",
    "```\n",
    "\n",
    "<br>\n",
    "Lists start counting at `0`. So to get the second item, you use `this_is_a_list[1]`.\n",
    "\n",
    "</p>\n",
    "</details>\n"
   ]
  },
  {
   "cell_type": "markdown",
   "metadata": {
    "editable": false,
    "slideshow": {
     "slide_type": ""
    },
    "tags": []
   },
   "source": [
    "## ✍️ Editing Lists\n",
    "([Back to top](#Table-of-Contents))\n",
    "\n",
    "Just like with all data types, Python comes with a variety of built-in functions and methods for performing actions on lists (have a look back at the \"Control Flow\" section of Lesson 4 if you need a reminder of the difference between functions and methods). \n",
    "\n",
    "You can conveniently `sort` list items, `count` how often a particular item shows up in a list, `reverse` the item order, or `insert` items in specific positions. It's worth scrolling through the [official documentation](https://docs.python.org/3/tutorial/datastructures.html#more-on-lists) of all the available methods to get an idea of what you can do.\n",
    "\n",
    "You can even use the function `len()` (which you already know from working with strings) on lists to determine how many items are in a list, like this:"
   ]
  },
  {
   "cell_type": "code",
   "execution_count": null,
   "metadata": {},
   "outputs": [],
   "source": [
    "pizza_ingredients = [\"dough\", \"tomato sauce\", \"cheese\"]\n",
    "\n",
    "number_of_ingredients = len(pizza_ingredients)\n",
    "\n",
    "print(number_of_ingredients)"
   ]
  },
  {
   "cell_type": "markdown",
   "metadata": {
    "editable": false,
    "slideshow": {
     "slide_type": ""
    },
    "tags": []
   },
   "source": [
    "We're now going to look at changing, adding, and removing list items. That should give you enough starting knowledge to also try out some of the other [available methods](https://docs.python.org/3/tutorial/datastructures.html#more-on-lists).\n",
    "\n",
    "### Changing List Items\n",
    "\n",
    "Changing items in a list is done in a similar way to assigning a variable. But here, the variable name (that stores the list) needs to be combined with the square brackets containing the **index** number of the list item. However, you can only change items that already exist in the list! Using an index that doesn't exist in the list will cause an error. \n",
    "\n",
    "Run the two code cells below, read the error, and then try to fix it so that it works without errors. Then do the same with the second example."
   ]
  },
  {
   "cell_type": "code",
   "execution_count": null,
   "metadata": {},
   "outputs": [],
   "source": [
    "# Example 1:\n",
    "\n",
    "favorite_cookies = []\n",
    "\n",
    "favorite_cookies[0] = \"Chocolate Chip\"\n",
    "\n",
    "print(favorite_cookies)"
   ]
  },
  {
   "cell_type": "code",
   "execution_count": null,
   "metadata": {},
   "outputs": [],
   "source": [
    "# Example 2:\n",
    "\n",
    "favorite_animals = [\"penguin\", \"alpaca\"]\n",
    "\n",
    "favorite_animals[2] = \"giraffe\"\n",
    "\n",
    "print(favorite_animals)"
   ]
  },
  {
   "cell_type": "markdown",
   "metadata": {
    "editable": false,
    "slideshow": {
     "slide_type": ""
    },
    "tags": []
   },
   "source": [
    "### Adding List Items\n",
    "\n",
    "You saw above how you can replace already existing list items, but what if you want to keep the existing list and add something new to it? To do this, you need to use one of Python's built-in **methods**. _(Remember, methods are just functions called on particular code elements using dot notation. Methods only work on the data type they are designed to work with: so a method that is for lists won't work with variables, for example.)_\n",
    "\n",
    "One of such methods is `.append()`.\n",
    "\n",
    "You can use it on an empty list `[]` or you can use it on a list that already has items in it. \n",
    "\n",
    "Run the example below:"
   ]
  },
  {
   "cell_type": "code",
   "execution_count": null,
   "metadata": {},
   "outputs": [],
   "source": [
    "favorite_cookies = []\n",
    "\n",
    "favorite_cookies.append(\"Chocolate Chip\")\n",
    "\n",
    "print(favorite_cookies)"
   ]
  },
  {
   "cell_type": "markdown",
   "metadata": {
    "editable": false,
    "slideshow": {
     "slide_type": ""
    },
    "tags": []
   },
   "source": [
    "Now, you give it a try. Add an animal to the list below:"
   ]
  },
  {
   "cell_type": "code",
   "execution_count": null,
   "metadata": {},
   "outputs": [],
   "source": [
    "favorite_animals = [\"penguin\", \"alpaca\"]\n",
    "\n",
    "# 👇 Add your code below\n",
    "\n",
    "\n",
    "\n",
    "\n",
    "# 👆 Add your code above\n",
    "\n",
    "print(favorite_animals)"
   ]
  },
  {
   "cell_type": "markdown",
   "metadata": {
    "editable": false,
    "slideshow": {
     "slide_type": ""
    },
    "tags": []
   },
   "source": [
    "Ok, let's try something a bit bigger and more useful. We'll build a quick shopping list tool.\n",
    "\n",
    "- In the code cell below, create a variable called `shopping_list` and assign it to an empty list.\n",
    "- Create a function called `add_item()`.\n",
    "- Inside that function, ask the user to input a new item for the shopping list and assign it to a variable (e.g., `new_item`).\n",
    "- Still, inside the function, append that item to the `shopping_list` variable.\n",
    "- Below, and outside of the function, create a loop.\n",
    "- Inside the loop, call the `add_item()` function. \n",
    "- Then - still inside the loop - ask the user if they want to add another item. If they input \"yes\" jump to the start of the loop. If they input \"no\" stop the loop.\n",
    "- At the end of the program (and outside the loop) display the complete `shopping_list` on the screen.\n",
    "- Run the code and add a few items to the list to check your code works and get the test to pass."
   ]
  },
  {
   "cell_type": "code",
   "execution_count": null,
   "metadata": {},
   "outputs": [],
   "source": [
    "# 👇 Add your code below\n",
    "\n",
    "\n",
    "\n",
    "\n",
    "\n",
    "\n",
    "# ===============================\n",
    "# ✋ Automated Test (don't change any code below this line!)\n",
    "# ===============================\n",
    "\n",
    "# Test 1\n",
    "print(\"\\n---\\n⚙️ Automated Test Results: \\n---\")\n",
    "\n",
    "print(\"❌ Test 1 failed. shopping_list is not a list.\" if not isinstance(shopping_list, list) else \"☑️ Test 1 passed.\")"
   ]
  },
  {
   "cell_type": "markdown",
   "metadata": {
    "editable": false,
    "slideshow": {
     "slide_type": ""
    },
    "tags": []
   },
   "source": [
    "<details>\n",
    "<summary style=\"border: 1px solid; border-radius: 3px; padding: 5px; display: inline-block; cursor: pointer;\">\n",
    "💡 Hint\n",
    "</summary>\n",
    "<p>\n",
    "\n",
    "- You declare an empty list like this: `my_list = []`\n",
    "- Make sure you pay attention to the exact naming and spacing of things. \n",
    "- You can append the user input to a list like this: \n",
    "\n",
    "```python\n",
    "list_of_names = []\n",
    "\n",
    "user_name = input(\"What is your name\")\n",
    "\n",
    "list_of_names.append(user_name)\n",
    "```\n",
    "\n",
    "- Remember: You can create an infinite loop with `while True:`, jump back to the beginning with `continue`, and stop it with `break`.\n",
    "\n",
    "</p>\n",
    "</details>"
   ]
  },
  {
   "cell_type": "markdown",
   "metadata": {
    "editable": false,
    "slideshow": {
     "slide_type": ""
    },
    "tags": []
   },
   "source": [
    "There are other ways to add items to lists. For example, you can use `.extend()` to combine two lists. Or you can use `.insert()` to add items at a specific position instead of at the end. \n",
    "\n",
    "Again, you can have a look at the overview of methods in the [documentation](https://docs.python.org/3/tutorial/datastructures.html#more-on-lists) to see some more examples.\n",
    "\n",
    "### Removing List Items\n",
    "\n",
    "There are a couple of methods for removing list items. \n",
    "\n",
    "You can use `.remove()` to remove items via their exact value. Look at the following example: "
   ]
  },
  {
   "cell_type": "code",
   "execution_count": null,
   "metadata": {},
   "outputs": [],
   "source": [
    "favorite_animals = [\"penguin\", \"monkey\", \"alpaca\", \"giraffe\", \"deer\", \"monkey\"]\n",
    "\n",
    "favorite_animals.remove(\"alpaca\")\n",
    "\n",
    "print(favorite_animals)"
   ]
  },
  {
   "cell_type": "markdown",
   "metadata": {
    "editable": false,
    "slideshow": {
     "slide_type": ""
    },
    "tags": []
   },
   "source": [
    "Run the code. Then, replace `favorite_animals.remove(\"alpaca\")` with `favorite_animals.remove(\"monkey\")` and see what happens. \n",
    "\n",
    "Notice how the word \"monkey\" exists twice in the list. Using `.remove(\"monkey\")` will remove only the first instance. But what if you want to remove the second instance or both of them?\n",
    "\n",
    "In that case `.pop()` might be the better option. With this method you don't specify the **value** you want to remove but instead the **index** of the item you want to remove. Check this out: "
   ]
  },
  {
   "cell_type": "code",
   "execution_count": null,
   "metadata": {},
   "outputs": [],
   "source": [
    "favorite_animals = [\"penguin\", \"monkey\", \"alpaca\", \"giraffe\", \"deer\", \"monkey\"]\n",
    "\n",
    "favorite_animals.pop(5)\n",
    "\n",
    "print(favorite_animals)"
   ]
  },
  {
   "cell_type": "markdown",
   "metadata": {
    "editable": false,
    "slideshow": {
     "slide_type": ""
    },
    "tags": []
   },
   "source": [
    "Now you see that the second instant of \"monkey\" has been removed. Add another line with a second .pop() method to remove the first instance of \"monkey\" too, and then run the code again to check you did it right.\n",
    "\n",
    "Even when you do want to remove the first (or only) instance of an item, `.pop()` is considered safer and more accurate. This is because the values of a list might change, while the index is a reliable way to select the specific item in the list. \n",
    "\n",
    "But it's still good to know how to work with both. So for the next practice exercise, we're going to stick with `.remove()` and we'll use `.pop()` in a later exercise. \n",
    "\n",
    "Let's say the user has already created a shopping list. Now, let's write some code that allows them to remove specific items from the list. \n",
    "\n",
    "- Create a function called `remove_item()`.\n",
    "- Inside the function, declare a variable (e.g., `user_choice`) and assign it to the `input()` of the user. Ask the user to enter the exact shopping item they'd like to remove. \n",
    "- Then (still inside the function), remove the item from the `shopping_list` list.\n",
    "- Below and outside of the function, create a loop. \n",
    "- Inside the loop, execute `remove_item()`.\n",
    "- Afterward, inside the loop, ask the user if they'd like to remove another item. If they say \"yes\", restart the loop. If not, stop the loop. \n",
    "- At the end of the program (outside of any function or loop), print the remaining list.\n",
    "- Run your code and remove a couple of list items to check it works."
   ]
  },
  {
   "cell_type": "code",
   "execution_count": null,
   "metadata": {},
   "outputs": [],
   "source": [
    "shopping_list = [\"cookies\", \"chocolate\", \"potatoes\", \"bananas\", \"flowers\", \"beans\"]\n",
    "\n",
    "# 👇 Add your code below\n",
    "\n",
    "\n",
    "\n",
    "\n"
   ]
  },
  {
   "cell_type": "markdown",
   "metadata": {
    "editable": false,
    "slideshow": {
     "slide_type": ""
    },
    "tags": []
   },
   "source": [
    "<details>\n",
    "<summary style=\"border: 1px solid; border-radius: 3px; padding: 5px; display: inline-block; cursor: pointer;\">\n",
    "💡 Hint\n",
    "</summary>\n",
    "<p>\n",
    "\n",
    "You can remove items based on user input like this: \n",
    "\n",
    "```python\n",
    "names = [\"Samantha\", \"Samoa\", \"Sammy\", \"Sam\"]\n",
    "\n",
    "name_to_remove = input(\"Which name should be removed from the list?\")\n",
    "\n",
    "names.remove(name_to_remove)\n",
    "```\n",
    "\n",
    "<br>\n",
    "There are multiple ways to write a loop checking if the user wants to remove another item. One way would be to declare a variable as the string \"yes\" and keep running the loop as long as that variable still equals \"yes\".\n",
    "\n",
    "```python\n",
    "\n",
    "should_repeat = \"yes\"\n",
    "\n",
    "while should_repeat == \"yes\":\n",
    "  # do something ...\n",
    "\n",
    "  should_repeat = input(\"Do you want to run this loop again?\")\n",
    "```\n",
    "\n",
    "<br>\n",
    "Alternatively, you can work with an infinite loop and the words `break` and `continue`.\n",
    "\n",
    "</p>\n",
    "</details>"
   ]
  },
  {
   "cell_type": "markdown",
   "metadata": {
    "editable": false,
    "slideshow": {
     "slide_type": ""
    },
    "tags": []
   },
   "source": [
    "You will run into a `ValueError` if you try to enter a list item name that isn't part of the list (or if you spell it wrong!). That's because the `.remove()` method can only delete items that exist in the list. \n",
    "\n",
    "Software should always be built robustly, with proper **error handling** in place. An app shouldn't just crash if the user makes a mistake. It should tell users how to achieve the task they intended to complete.\n",
    "\n",
    "The **membership operator** `in` can help here. It can be used to check if an item exists in a list. (It can also be used, for example, to check whether a string is part of a longer string.)\n",
    "\n",
    "Run the code below. Then change the list items so that the other `print()` statement shows on the screen. "
   ]
  },
  {
   "cell_type": "code",
   "execution_count": null,
   "metadata": {},
   "outputs": [],
   "source": [
    "pizza_ingredients = [\"dough\", \"tomato sauce\", \"cheese\"]\n",
    "\n",
    "if \"cheese\" in pizza_ingredients:\n",
    "  print(\"This pizza has dairy in it.\")\n",
    "else:\n",
    "  print(\"There is no dairy in this pizza!\")"
   ]
  },
  {
   "cell_type": "markdown",
   "metadata": {
    "editable": false,
    "slideshow": {
     "slide_type": ""
    },
    "tags": []
   },
   "source": [
    "You can see using the **membership operator** together with an **if statement** can be quite useful. \n",
    "\n",
    "Go back to your shopping list code above and add a condition to the `remove_item()` function. Only if the user's input (`user_choice`) is `in` the `shopping_list`, remove the item from the list. If it's not part of the list, display the message \"The item you selected is not part of the list.\""
   ]
  },
  {
   "cell_type": "markdown",
   "metadata": {
    "editable": false,
    "slideshow": {
     "slide_type": ""
    },
    "tags": []
   },
   "source": [
    "<details>\n",
    "<summary style=\"border: 1px solid; border-radius: 3px; padding: 5px; display: inline-block; cursor: pointer;\">\n",
    "💡 Hint\n",
    "</summary>\n",
    "<p>\n",
    "\n",
    "You will have to combine multiple pieces of code and pay close attention to indentation. \n",
    "\n",
    "Make sure you add the condition in the right place. You can only check if the `user_choice` is in the list **after** you declare that variable. Here is a similar example: \n",
    "\n",
    "```python\n",
    "names = [\"Samantha\", \"Samoa\", \"Sammy\", \"Sam\"]\n",
    "\n",
    "def remove_name():\n",
    "  name_to_remove = input(\"Which name should be removed from the list?\")\n",
    "  \n",
    "  if name_to_remove in names:\n",
    "    names.remove(name_to_remove)\n",
    "  else:\n",
    "    print(\"The name is not part of the list.\")\n",
    "```\n",
    "\n",
    "</p>\n",
    "</details>"
   ]
  },
  {
   "cell_type": "markdown",
   "metadata": {
    "editable": false,
    "slideshow": {
     "slide_type": ""
    },
    "tags": []
   },
   "source": [
    "## 🏡 Practice Exercise\n",
    "([Back to top](#Table-of-Contents))\n",
    "\n",
    "In this lesson, you learned a new data type: the **list**.\n",
    "\n",
    "With everything you have learned in this and previous lessons, you can now build a small **to-do list application**. (For now, the to-do list application will not be too smart as it'll \"forget\" the list whenever the program stops and starts again. So it'll not be ready for users yet. Once you learn about databases or the file system, you can build programs that \"remember\" data even if the program is turned off and on again. That's a topic for another time, though...) \n",
    "\n",
    "1. First, start by creating a variable with an empty list to contain the tasks.\n",
    "2. Create a function that lets users input items to be appended to the list.\n",
    "3. Create a second function that lets users remove items from a list by entering the **index**. Try using `.pop()` instead of `.remove()` this time. Use a longer condition (with `elif`) to check if the user input is numeric. Also, check that the input number is greater than or equal to `0` **and** lesser than the length of the task list. \n",
    "> - Remember: To perform comparisons with user input you need to work with numbers - not strings! And the same is true with the .pop() method.\n",
    "> - You can use len() to count items in a list.\n",
    "4. Lastly, create an application loop. Display a message to the user asking them to choose whether they want to add a task, remove a task, or exit the program. Depending on the user's input, either execute one of the two functions, repeat the question, or exit the loop (and the application).\n",
    "5. After every time you add or remove a task, print the current version of the to-do list on the screen."
   ]
  },
  {
   "cell_type": "markdown",
   "metadata": {
    "editable": false,
    "slideshow": {
     "slide_type": ""
    },
    "tags": []
   },
   "source": [
    "--- \n",
    "\n",
    "_Author: Samuel Boguslawski - Current Version: Mar 21, 2024 - © 2024 Licensed under [CC BY-NC 4.0](https://creativecommons.org/licenses/by-nc/4.0/?ref=chooser-v1)_"
   ]
  }
 ],
 "metadata": {
  "kernelspec": {
   "display_name": "Python 3 (ipykernel)",
   "language": "python",
   "name": "python3"
  },
  "language_info": {
   "codemirror_mode": {
    "name": "ipython",
    "version": 3
   },
   "file_extension": ".py",
   "mimetype": "text/x-python",
   "name": "python",
   "nbconvert_exporter": "python",
   "pygments_lexer": "ipython3",
   "version": "3.10.10"
  }
 },
 "nbformat": 4,
 "nbformat_minor": 4
}
