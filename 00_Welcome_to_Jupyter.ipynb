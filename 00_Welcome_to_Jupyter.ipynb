{
 "cells": [
  {
   "cell_type": "markdown",
   "metadata": {
    "editable": true,
    "slideshow": {
     "slide_type": ""
    },
    "tags": []
   },
   "source": [
    "# 👋 Welcome To Jupyter!\n",
    "\n",
    "Welcome to this quick introduction to Jupyter Notebooks. Keep reading if you want to find out **how to navigate and work with Jupyter Notebooks**.\n",
    "\n",
    "## 🤨 What is this? \n",
    "\n",
    "Essentially, a Jupyter Notebook is **just a file** - like a Word document or a PDF. It's a combination of what's called [\"markdown\"](https://www.markdownguide.org/getting-started/) text and **interactive code** (mostly Python, but other code also works.)\n",
    "\n",
    "Just like you need the program Microsoft Word to open a Word file or a PDF reader to open a PDF file, you need a particular program to open Jupyter Notebook files. The fact that you're reading this means that you are currently using one such program. The two main programs to work with notebooks are **JupyterLab** and **Jupyter Notebook**. Typically, they run inside a web browser. To learn more, you can check the [official website](https://jupyter.org/try).\n",
    "\n",
    "## 📺 What is this interface?\n",
    "\n",
    "At first glance, the interface can be a bit overwhelming. There are a lot of buttons and places to click. **Most can be ignored** for now, as you only need them once you create your own Jupyter Notebook files and work with multiple files simultaneously.\n",
    "\n",
    "If the program you're using to view the notebook uses **JupyterLab**, you'll see a list of files on the left. That's where you can open, create, delete, and move Jupyter Notebooks files (but also other files.) You open a file by double-clicking on it. At the top, you have the usual navigations for saving, downloading, editing, and more. The actual Notebook file takes up the most space on the screen. Most likely, you only have to worry about that space for now and can ignore the rest. \n",
    "\n",
    "## 📝 How to work with Jupyter Notebooks?\n",
    "\n",
    "### Cells\n",
    "\n",
    "A Jupyter Notebook is split into multiple **cells**. A cell is usually either a bit of what's called **Markdown text** (like what you're reading right now) or a piece of **code**. You can **select cells** by clicking on them or using the arrow keys on your keyboard."
   ]
  },
  {
   "cell_type": "markdown",
   "metadata": {
    "editable": true,
    "slideshow": {
     "slide_type": ""
    },
    "tags": []
   },
   "source": [
    "_(This is a separate cell from the one above - but it's also a Markdown text cell.)_"
   ]
  },
  {
   "cell_type": "code",
   "execution_count": null,
   "metadata": {
    "editable": true,
    "slideshow": {
     "slide_type": ""
    },
    "tags": []
   },
   "outputs": [],
   "source": [
    "# And this is a cell of Python code"
   ]
  },
  {
   "cell_type": "markdown",
   "metadata": {
    "editable": true,
    "slideshow": {
     "slide_type": ""
    },
    "tags": []
   },
   "source": [
    "Cells can be moved around, and new cells can be created between existing cells. \n",
    "\n",
    "### Modes\n",
    "\n",
    "When you open a notebook, you're just **viewing** the file. You can **edit** individual cells by entering **Edit Mode**. You do that by selecting a cell and hitting your keyboard's <kbd>Enter</kbd> key. To exit the **Edit Mode**, press the <kbd>Esc</kbd> key. (You can also be in edit mode in mulitple cells - you don't need to exit edit mode in one cell to enter it in another one.)\n",
    "\n",
    ">🛠 **Try it now!** Don't worry about breaking anything. Unless you view this Jupyter Notebook specifically in a shared, collaborative environment, nobody else can see what you changed here."
   ]
  },
  {
   "cell_type": "markdown",
   "metadata": {
    "editable": false,
    "slideshow": {
     "slide_type": ""
    },
    "tags": []
   },
   "source": [
    "#### Side Note: Cell Metadata\n",
    "\n",
    "Some Jupyter Notebooks may have cells that aren't editable. For example, try entering **Edit Mode** on this cell. You will notice that you aren't able to change the text here. That's because you can configure individual cells to be **editable** or **read-only**. You do that by editing the so-called **metadata** of a cell. That's hidden data that's not visible in the editor but can be used to configure specific cells. Going into the details of that is beyond the scope of this  introduction. But I wanted to mention it here so you're not confused when you come across Jupyter Notebooks where you can't edit cells.\n",
    "\n",
    "Editing metadata looks different depending on where you open a Jupyter Notebook. In a JupyterLab environment like this one, you can see two cogwheels at the top right corner of the interface. Clicking on those will reveal an interface to edit cell metadata. "
   ]
  },
  {
   "cell_type": "markdown",
   "metadata": {
    "editable": true,
    "slideshow": {
     "slide_type": ""
    },
    "tags": []
   },
   "source": [
    "### Working with interactive code\n",
    "\n",
    "The core feature of Jupyter Notebooks is that you can **execute code** within them (what programmers call executing code \"inline\") and see the results immediately below. Most commonly, Jupyter Notebooks use Python code. \n",
    "\n",
    "Check the example below. Click on the cell that says `4 + 3`. Then click on the \"Play\" (aka \"Run\") button `▶` at the top to execute the code in that cell. Alternatively, you can select the code cell and then use the **keyboard shortcut** <kbd>Ctrl</kbd> + <kbd>Enter</kbd>"
   ]
  },
  {
   "cell_type": "code",
   "execution_count": 2,
   "metadata": {
    "editable": true,
    "slideshow": {
     "slide_type": ""
    },
    "tags": []
   },
   "outputs": [],
   "source": [
    "4 + 3"
   ]
  },
  {
   "cell_type": "markdown",
   "metadata": {
    "editable": true,
    "slideshow": {
     "slide_type": ""
    },
    "tags": []
   },
   "source": [
    "After running, you should see the result `7` right underneath the code cell block. \n",
    "\n",
    "Try out what you've learned before in the code cell below. Select the cell below, enter **Edit Mode** with <kbd>Enter</kbd>, change some of the code (for example, change the text `replace_me_with_your_name`), and then execute the code by running the cell with <kbd>Ctrl</kbd> + <kbd>Enter</kbd>."
   ]
  },
  {
   "cell_type": "code",
   "execution_count": 4,
   "metadata": {
    "editable": true,
    "slideshow": {
     "slide_type": ""
    },
    "tags": []
   },
   "outputs": [],
   "source": [
    "your_name = 'replace_me_with_your_name'\n",
    "\n",
    "print(f'Hello there, {your_name}!')"
   ]
  },
  {
   "cell_type": "markdown",
   "metadata": {},
   "source": [
    "> 💡 Very occasionally, you may run into an issue where a code cell doesn't run when you hit run. If this happens, save your work (<kbd>Ctrl</kbd> + <kbd>S</kbd> or hit the floppy disc symbol &#128190;) and try logging out and back into CodingLabs. Sometimes you just need to switch it off and on again!"
   ]
  },
  {
   "cell_type": "markdown",
   "metadata": {
    "editable": true,
    "slideshow": {
     "slide_type": ""
    },
    "tags": []
   },
   "source": [
    "### Magic\n",
    "\n",
    "Some special commands called [magic commands](https://ipython.readthedocs.io/en/stable/interactive/magics.html) can be added to **code cells** in Jupyter - and yup, that's their actual name. \n",
    "\n",
    "They usually add some automatic functionality in the background for you. For the most part, you don't need to worry about them. But since you may encounter them, you should at least know what they are. \n",
    "\n",
    "**Magic commands** always start with one or two `%` percentage signs. An example would be the `%html` command that displays HTML code in the Jupyter Notebook when executed. "
   ]
  },
  {
   "cell_type": "code",
   "execution_count": 5,
   "metadata": {
    "editable": true,
    "slideshow": {
     "slide_type": ""
    },
    "tags": []
   },
   "outputs": [],
   "source": [
    "%%html\n",
    "\n",
    "<p>Hello I am some <strong style=\"color:red;\">HTML</strong>!</p>\n",
    "\n",
    "<details>\n",
    "  <summary style=\"border: 1px solid; border-radius: 3px; padding: 5px; display: inline-block; cursor: pointer; margin-top: 10px;\">\n",
    "    <b>Click to see a picture of Jupiter.</b>\n",
    "  </summary>\n",
    "  <p>\n",
    "    <img src=\"https://images.pexels.com/photos/12498752/pexels-photo-12498752.jpeg?auto=compress&cs=tinysrgb&w=1260&h=750&dpr=1\" alt=\"jupiter planet\" style=\"max-width: 200px;\"/>\n",
    "  <p>\n",
    "</details>"
   ]
  },
  {
   "cell_type": "markdown",
   "metadata": {
    "editable": true,
    "slideshow": {
     "slide_type": ""
    },
    "tags": []
   },
   "source": [
    "If you run the cell above, you'll see the output is the **interpreted HTML**. \n",
    "\n",
    "## 🚀 What next?\n",
    "\n",
    "Now you know the most important things about working with Jupyter Notebooks. There is much more you can do, and once you start creating your own notebooks, there will be more to learn. But, in most situations, when working with existing notebooks, you'll likely only need to know how to **edit and execute code cells**.\n",
    "\n",
    "Most importantly: **Don't shy away from trying things out!** You can't break anything :) \n",
    "\n",
    "## 🎹 Shortcut Cheat Sheet\n",
    "\n",
    "- <kbd>↑</kbd> <kbd>↓</kbd> : Select cells\n",
    "- <kbd>Enter</kbd> : Edit Mode\n",
    "- <kbd>Esc</kbd> : Exit Edit Mode\n",
    "- <kbd>Ctrl</kbd> + <kbd>Enter</kbd> : Execute code in selected cell\n",
    "\n",
    "**Advanced:**\n",
    "- <kbd>Shift</kbd> + <kbd>Enter</kbd> : Execute cell and select the one below\n",
    "- <kbd>b</kbd> (outside of Edit Mode) : Create a new cell below the selected cell\n",
    "- <kbd>a</kbd> (outside of Edit Mode) : Create a new cell above the selected cell\n",
    "- <kbd>m</kbd> (outside of Edit Mode) : Turn cell into Markdown\n",
    "- <kbd>y</kbd> (outside of Edit Mode) : Turn cell into code"
   ]
  },
  {
   "cell_type": "markdown",
   "metadata": {
    "editable": false,
    "slideshow": {
     "slide_type": ""
    },
    "tags": []
   },
   "source": [
    "--- \n",
    "\n",
    "_Author: Samuel Boguslawski - Current Version: Mar 5, 2024 - © 2024 Licensed under [CC BY-NC 4.0](https://creativecommons.org/licenses/by-nc/4.0/?ref=chooser-v1)_"
   ]
  }
 ],
 "metadata": {
  "kernelspec": {
   "display_name": "Python 3 (ipykernel)",
   "language": "python",
   "name": "python3"
  },
  "language_info": {
   "codemirror_mode": {
    "name": "ipython",
    "version": 3
   },
   "file_extension": ".py",
   "mimetype": "text/x-python",
   "name": "python",
   "nbconvert_exporter": "python",
   "pygments_lexer": "ipython3",
   "version": "3.10.10"
  }
 },
 "nbformat": 4,
 "nbformat_minor": 4
}
