{
 "cells": [
  {
   "attachments": {},
   "cell_type": "markdown",
   "id": "28687565-b075-4fe6-bf57-3678f6fe6f9d",
   "metadata": {
    "editable": true,
    "slideshow": {
     "slide_type": ""
    },
    "tags": []
   },
   "source": [
    "# Python Basics 5: Functions & Scope\n",
    "\n",
    "This lesson is part of a series. Each lesson assumes the reader has completed and understood the learning outcomes of the previous lessons.\n",
    "\n",
    "## Table of Contents\n",
    "\n",
    "- [🎯 Lesson outcome](#🎯-Lesson-outcome)\n",
    "- [⚙️ Functions](#⚙️-Functions)\n",
    "- [🌍 Block Scope](#🌍-Block-Scope)\n",
    "- [🎁 Return Values](#🎁-Return-Values)\n",
    "- [✉️ Function Arguments](#✉️-Function-Arguments)\n",
    "- [🏡 Practice Exercise](#🏡-Practice-Exercise)\n",
    "\n",
    "## 🎯 Lesson outcome\n",
    "([Back to top](#Table-of-Contents))\n",
    "\n",
    "After completing this lesson, you'll be able to write reusable code using **functions**. You will know how to further compartmentalize code into separate pieces and, using functions, write understandable and self-explanatory code. \n",
    "\n",
    "## ⚙️ Functions\n",
    "([Back to top](#Table-of-Contents))\n",
    "\n",
    "You have been working with functions from the very first lesson - e.g., `print()` is a function. In this lesson, we're going to look at how they work.\n",
    "\n",
    "Functions are another aspect of the overall **control flow** topic. They allow you to write one or multiple lines of code to be executed later or multiple times in the program. Let's look at some examples.\n",
    "\n",
    "Read the code before executing it and try to predict in which order the different `print()` and `input()` statements are executed and appear on the screen. Then, run the code:"
   ]
  },
  {
   "cell_type": "code",
   "execution_count": null,
   "id": "4a3faf5b-6e40-4957-bd7b-34c32dee6a99",
   "metadata": {
    "editable": true,
    "slideshow": {
     "slide_type": ""
    },
    "tags": []
   },
   "outputs": [],
   "source": [
    "age = \"0\"\n",
    "\n",
    "def ask_for_age():\n",
    "    age = input(\"So how old are you really?\")\n",
    "    print(\"Ok, your age is actually \" + age)\n",
    "\n",
    "print(\"Your age can't possibly be \" + age)\n",
    "\n",
    "ask_for_age()"
   ]
  },
  {
   "cell_type": "markdown",
   "id": "cb568c64-7492-4abc-8a33-f7cb5c165c4d",
   "metadata": {
    "editable": true,
    "slideshow": {
     "slide_type": ""
    },
    "tags": []
   },
   "source": [
    "Did the code run in the order you expected? If not, what was different? Can you guess how the code works based on what you previously learned? \n",
    "\n",
    "You can see a new keyword: `def`. `def` tells Python you are about to **define** a **function**. Like variables, you are free to name functions whatever you like - as long as you don't name them the same as an already **reserved word** (like `print` or `if`). Also, just like variables, functions can't have spaces or special characters (besides underscores `_`). It's common practice to keep function names lowercase and use underscores `_` to create names of multiple words. Additionally, it's always a good idea to choose a function name that describes exactly what the function does.\n",
    "\n",
    "**❌ Bad Example**: `foo()`\n",
    "\n",
    "**✅ Good Example**: `display_welcome_message()`\n",
    "\n",
    "The parentheses `()` after the function name are very important. They serve a purpose we'll talk about in the section below. For now, we keep them empty. \n",
    "\n",
    "Like with `if` statements, function definitions start a **code block** with a colon `:`. All indented lines of code that follow are considered **code inside the function**. The first line that's not indented signals to Python that the code block has ended. \n",
    "\n",
    "In the example above, there are two lines **inside** the function. The final `print()` statement is no longer indented and, therefore, not part of the function.\n",
    "\n",
    "It's very important to understand that no matter where in the code a function is defined, the code inside the function **is not executed until the function is \"called\"** (you \"call\" a function - which means to execute it - by writing its name together with parentheses `()`, as you see in the last line of the example above). \n",
    "\n",
    "Take a close look at the order of lines from the example above. First, you see \"So how old are you really?\", but that's not the first thing you see when you run the code. The first line that get's printed actually appears in the final `print()` statement of the code - \"Your age can't possibly be ...\". That's because it is only **after** that line is printed that the `ask_for_age()` function is called. \n",
    "\n",
    "Ok, that was a lot of explanation. Let's take a look at another example. Again, try to understand the code before executing it: "
   ]
  },
  {
   "cell_type": "code",
   "execution_count": null,
   "id": "74883f0c-05c4-4217-a072-0a20c7b07f8d",
   "metadata": {
    "editable": true,
    "slideshow": {
     "slide_type": ""
    },
    "tags": []
   },
   "outputs": [],
   "source": [
    "def miles_to_meters():\n",
    "    meters_per_mile = 1609.34\n",
    "    meters = miles * meters_per_mile\n",
    "    print(meters)\n",
    "\n",
    "miles = 9\n",
    "miles_to_meters()\n",
    "\n",
    "miles_to_meters()\n",
    "\n",
    "miles = 1\n",
    "miles_to_meters()"
   ]
  },
  {
   "cell_type": "markdown",
   "id": "0c8dd4fb-e970-4c09-ad18-d93d86a808e4",
   "metadata": {},
   "source": [
    "Here, you see another purpose of functions. They allow you to run the same code multiple times at any point in the program without writing the same code repeatedly. \n",
    "\n",
    "Try editing the code above so that all three `print()` statements return a different number."
   ]
  },
  {
   "cell_type": "markdown",
   "id": "9cd35098-dc62-4eb3-a505-5cc33ce7760a",
   "metadata": {},
   "source": [
    "<details>\n",
    "<summary style=\"border: 1px solid; border-radius: 3px; padding: 5px; display: inline-block; cursor: pointer;\">\n",
    "💡 Hint\n",
    "</summary>\n",
    "<p>\n",
    "\n",
    "The `miles_to_meters()` function is **called** three times because there are three lines with the function's name in it. That means the code inside the function's code block is executed three times. \n",
    "\n",
    "You can see inside the function code that the variable `miles` is used. You can change the value of the `miles` variable by assigning it a different value. The value used within the execution of the function will be whatever the variable has last been set to.\n",
    "    \n",
    "</p>\n",
    "</details>"
   ]
  },
  {
   "cell_type": "markdown",
   "id": "94038bbe-fbf4-41d9-8720-b93b0b9e6412",
   "metadata": {
    "editable": true,
    "slideshow": {
     "slide_type": ""
    },
    "tags": []
   },
   "source": [
    "Now it's your turn to write a function. \n",
    "\n",
    "1. Write a function that prints a message asking the user for their name and then prints a greeting with the user's name. \n",
    "2. Call the function twice.\n",
    "3. Run the code and input 2 different names when prompted. "
   ]
  },
  {
   "cell_type": "code",
   "execution_count": null,
   "id": "549c3e61-f407-45e6-b890-e02547c6f0e1",
   "metadata": {
    "editable": true,
    "slideshow": {
     "slide_type": ""
    },
    "tags": []
   },
   "outputs": [],
   "source": [
    "# Write your greeting function here: \n",
    "\n",
    "\n",
    "\n"
   ]
  },
  {
   "cell_type": "markdown",
   "id": "5c247c64-ef7d-47ef-9cae-ef17f2db5618",
   "metadata": {
    "editable": true,
    "slideshow": {
     "slide_type": ""
    },
    "tags": []
   },
   "source": [
    "<details>\n",
    "<summary style=\"border: 1px solid; border-radius: 3px; padding: 5px; display: inline-block; cursor: pointer;\">\n",
    "💡 Hint\n",
    "</summary>\n",
    "<p>\n",
    "\n",
    "1. Look at the examples above and pay close attention to indentation. Also, ensure you're not missing the parentheses `()` and the colon `:`.\n",
    "2. First, define the function. It should define a **variable** and assign it to an `input()` function that asks the user for their name.\n",
    "3. On the second line, inside the function, `print()` out a greeting. You can use the `+` operator to add two strings together. This allows you to customize a standard greeting by combining it with the variable you defined with the `input()`.\n",
    "4. To call the function, you write its name followed by parentheses `()`. Ensure not to indent the line where you call the function.\n",
    "5. You can call a function multiple times on multiple lines. \n",
    "    \n",
    "</p>\n",
    "</details>"
   ]
  },
  {
   "cell_type": "markdown",
   "id": "f37cbe38-f559-41ca-8513-950ccfaf60d4",
   "metadata": {},
   "source": [
    "## 🌍 Block Scope\n",
    "([Back to top](#Table-of-Contents))\n",
    "\n",
    "With the code above, you just encountered another important concept in programming: **scope**.\n",
    "\n",
    "If you assign variables (or define a function) **inside a code block**, the variable (or function) is only available **inside that same code block**. \n",
    "\n",
    "Try the code below."
   ]
  },
  {
   "cell_type": "code",
   "execution_count": null,
   "id": "5056e20b-6450-4427-b862-6c671889e094",
   "metadata": {},
   "outputs": [],
   "source": [
    "\n",
    "def define_name_and_greet():\n",
    "    name = \"Carla\"\n",
    "\n",
    "define_name_and_greet()\n",
    "\n",
    "print(\"Hello, \" + name)"
   ]
  },
  {
   "cell_type": "markdown",
   "id": "2a1ced80-883c-4dd0-817b-a07d061fb44d",
   "metadata": {},
   "source": [
    "Look closely at the error message. Can you spot what went wrong? We define a function and then call it. So why does it throw an error? \n",
    "\n",
    "What you encountered here is the concept of **scope**. The variable `name` was defined inside the function. The print statement, however, is not inside that function and therefore is not **within the scope** of the code block of the function. This means the print statement does not have access to anything that appears in the function.\n",
    "\n",
    "With that in mind, fix the code block above and get the greeting to print on the screen."
   ]
  },
  {
   "cell_type": "markdown",
   "id": "019ec319-1ee2-4b5a-a9a8-853e84a2245b",
   "metadata": {},
   "source": [
    "<details>\n",
    "<summary style=\"border: 1px solid; border-radius: 3px; padding: 5px; display: inline-block; cursor: pointer;\">\n",
    "💡 Hint\n",
    "</summary>\n",
    "<p>\n",
    "\n",
    "You have to move the `print()` statement so that it's within the same **scope** as the variable definition. (Make sure to pay attention to the indentation!)\n",
    "\n",
    "(You could also move the variable definition outside of the function; however, that would make the function obsolete.)\n",
    "\n",
    "</p>\n",
    "</details>"
   ]
  },
  {
   "cell_type": "markdown",
   "id": "2b916ee0-22e6-442b-beb9-287abfb2c29e",
   "metadata": {},
   "source": [
    "A variable or function can be accessed from within a code block if it was defined in the **parent scope** - that's the scope directly around the code block - or in the **global scope** - which is accessible from any part of the code. \n",
    "\n",
    ">💡 In Python, you can tell visually by the indentation level if a variable or function is defined inside a particular **scope**. It's called the **\"global scope\"** if a variable or function is not indented at all, and therefore not defined inside the scope of any code block. \n",
    ">\n",
    ">The difference between **parent** and **global** scope only really becomes important when you start writing more complex programs; in this example, the **parent scope** is also the **global scope**.\n",
    "\n",
    "Have a look at the following example and try to work out what will print before you run it:"
   ]
  },
  {
   "cell_type": "code",
   "execution_count": null,
   "id": "3244dc2f-6619-43fb-b378-5e79836860dc",
   "metadata": {},
   "outputs": [],
   "source": [
    "age = 42\n",
    "\n",
    "def print_age_and_name():\n",
    "    name = \"Carla\"\n",
    "\n",
    "    print(age)\n",
    "    print(name)\n",
    "\n",
    "print_age_and_name()\n",
    "\n",
    "# print(age)\n",
    "# print(name)"
   ]
  },
  {
   "cell_type": "markdown",
   "id": "67c302a3-6a53-41cb-a4a0-211d4dd16cc7",
   "metadata": {},
   "source": [
    "Try uncommenting the two last `print()` statements (to \"uncomment\" a line, you remove the `#` symbol). Which one throws an error? Can you see why?\n",
    "\n",
    "The `age` variable is defined in the **global** or **parent** scope **outside** of the function. That means the variable is available when used with `print()` outside of the `print_age_and_name()` function. The `name` variable, however, is within the **function scope**, and therefore is not available outside of it.\n",
    "\n",
    "But what if you need to use something generated _within_ a function _outside_ of it?\n",
    "\n",
    "To do that, we need to learn about **return values**."
   ]
  },
  {
   "cell_type": "markdown",
   "id": "1ffe0ed6",
   "metadata": {},
   "source": [
    "## 🎁 Return Values\n",
    "([Back to top](#Table-of-Contents))\n",
    "\n",
    "To make a function produce a result that can be used elsewhere in your program, you use a **return** statement. \n",
    "\n",
    "Let's have a look at how this works. Have a look at the code below and try to guess the output before you run it:"
   ]
  },
  {
   "cell_type": "code",
   "execution_count": null,
   "id": "703d1501-c332-46a7-8529-3e9648e7fb70",
   "metadata": {
    "editable": true,
    "slideshow": {
     "slide_type": ""
    },
    "tags": []
   },
   "outputs": [],
   "source": [
    "def add_two_numbers():\n",
    "    4 + 2\n",
    "\n",
    "result = add_two_numbers()\n",
    "\n",
    "print(result)"
   ]
  },
  {
   "cell_type": "markdown",
   "id": "956882a8-8b58-456d-ba2c-0eb03c94e22b",
   "metadata": {
    "editable": true,
    "slideshow": {
     "slide_type": ""
    },
    "tags": []
   },
   "source": [
    "A simple function that adds the numbers `4` and `2` is defined. We then assign the function to a variable called `result`. But when you `print()` the `result`, it returns `None`. That's because we haven't told the function to **return** anything, which means what happens _within_ the function is not accessible in the **global scope** where the `print()` statement appears.\n",
    "\n",
    "Try running this code instead:"
   ]
  },
  {
   "cell_type": "code",
   "execution_count": null,
   "id": "5e3a172b-3996-4e80-bc33-7a3317bb16f2",
   "metadata": {
    "editable": true,
    "slideshow": {
     "slide_type": ""
    },
    "tags": []
   },
   "outputs": [],
   "source": [
    "def add_two_numbers():\n",
    "    return 4 + 2\n",
    "\n",
    "result = add_two_numbers()\n",
    "\n",
    "print(result)"
   ]
  },
  {
   "cell_type": "markdown",
   "id": "5c96adab-a221-4525-97b8-51484e421bf0",
   "metadata": {
    "editable": true,
    "slideshow": {
     "slide_type": ""
    },
    "tags": []
   },
   "source": [
    "Notice how the number `6` is now displayed? That's because we added the `return` keyword to the function, which means that the output of the function is made available beyond the function's scope. \n",
    "\n",
    "It's crucial to know that the `return` keyword inside a function **ends the function execution**. Therefore, it should be on the final line of a function's code block, as any code below will be ignored. \n",
    "\n",
    "Try this:"
   ]
  },
  {
   "cell_type": "code",
   "execution_count": null,
   "id": "8e68136a-14d8-4029-a34e-a8360bf5eb17",
   "metadata": {
    "editable": true,
    "slideshow": {
     "slide_type": ""
    },
    "tags": []
   },
   "outputs": [],
   "source": [
    "def add_two_numbers():\n",
    "    return 4 + 2\n",
    "    print(\"The result has been calculated:\")\n",
    "\n",
    "result = add_two_numbers()\n",
    "\n",
    "print(result)"
   ]
  },
  {
   "cell_type": "markdown",
   "id": "33541d14-0704-4102-97b3-4f4a951f7000",
   "metadata": {
    "editable": true,
    "slideshow": {
     "slide_type": ""
    },
    "tags": []
   },
   "source": [
    "Edit the code above so that the text `\"The result has been calculated:\"` shows up. It should appear **before** the actual result."
   ]
  },
  {
   "cell_type": "markdown",
   "id": "c84eca98-1374-496e-b864-077d4bd7f238",
   "metadata": {
    "editable": true,
    "slideshow": {
     "slide_type": ""
    },
    "tags": []
   },
   "source": [
    "<details>\n",
    "<summary style=\"border: 1px solid; border-radius: 3px; padding: 5px; display: inline-block; cursor: pointer;\">\n",
    "💡 Hint\n",
    "</summary>\n",
    "<p>\n",
    "\n",
    "You need to move the `print(\"The result has been calculated:\")` statement **above** the line with the `return` statement. Make sure you keep them on the same level of indentation, though.\n",
    "    \n",
    "</p>\n",
    "</details>"
   ]
  },
  {
   "cell_type": "markdown",
   "id": "bb6f5b1f",
   "metadata": {},
   "source": [
    "## ✉️ Function Arguments\n",
    "([Back to top](#Table-of-Contents))\n",
    "\n",
    "Functions have one more key feature that makes them even more useful: **arguments** (also known as **parameters**).\n",
    "\n",
    "Previously, you learned that functions always have parentheses. Those actually serve a purpose. You can define **arguments** within parentheses. Those **arguments** are essentially **variables only available within the scope of the function** code block. \n",
    "\n",
    "Why is this useful?\n",
    "\n",
    "Well, remember the first exercise in this lesson, when we defined a variable `age` and then changed it inside a function? What we did there was not actually best practice, or what programmers call \"clean code\". \n",
    "\n",
    "Variables that are defined **outside the scope of a code block** are considered **global variables** because they are \"globally\" available throughout the entire code and inside all the code blocks. \n",
    "\n",
    "This might seem quite practical at first. But as code gets more and more complex, it gets harder to keep track of these variables and all the places in the code where they might be changed. Additionally, as you saw with the `miles_to_meters()` function, changing a global variable means it's overwritten and the previous value is gone - which is considered bad practice. \n",
    "\n",
    "It's considered best practice to keep the use of global variables to a minimum and to use **arguments** instead. (When you're just starting to learn programming, it might be hard to understand why. But don't worry, it will become clearer as you progress in your programming journey!) So let's take a look at how they work.\n",
    "\n",
    "Run the code block below: "
   ]
  },
  {
   "cell_type": "code",
   "execution_count": null,
   "id": "220d74bc",
   "metadata": {},
   "outputs": [],
   "source": [
    "def greet_name(user_name):\n",
    "  print(\"Hello, \" + user_name + \"!\")\n",
    "\n",
    "greet_name(\"Mohammed\")\n",
    "\n",
    "# greet_name(\"Mo\")"
   ]
  },
  {
   "cell_type": "markdown",
   "id": "83e3e045",
   "metadata": {},
   "source": [
    "There are two important new things to see here: \n",
    "\n",
    "1. When defining the \"`greet_name`\" function, we also define an **argument** called `user_name` in the parentheses. \n",
    "2. When calling the function with `greet_name(\"Mohammed\")` we define the **value** for the **argument** `user_name` to be the string `\"Mohammed\"`.\n",
    "\n",
    "Naming an **argument** follows the same rules as naming variables or functions. So it can be anything you like that's not a **reserved word**. You see in the `print()` statement that you can use the **argument** just as you would use any other variable. \n",
    "\n",
    "The really useful thing about functions is that every time you call a function, you can define the **argument** to be something else. \n",
    "\n",
    "In the code above, one line is commented out. Remove the `#` hash symbol and run it again. Do you understand what happens there? Try adding a few more function calls, each with a different name. \n",
    "\n",
    "We're going to practice that some more in a second. But first, you should know one more thing about **arguments**: Functions can have more than one argument. You define multiple arguments by simply separating them with commas. Look at the code below. It's the addition function from earlier - but this time using arguments:"
   ]
  },
  {
   "cell_type": "code",
   "execution_count": null,
   "id": "fb014730",
   "metadata": {},
   "outputs": [],
   "source": [
    "def add_two_numbers(number1, number2):\n",
    "    print(\"The result has been calculated:\")\n",
    "    return number1 + number2\n",
    "    \n",
    "\n",
    "result1 = add_two_numbers(4, 2)\n",
    "print(result1)\n",
    "\n",
    "# 👇 Add your code below:\n",
    "\n"
   ]
  },
  {
   "cell_type": "markdown",
   "id": "8f544aa3",
   "metadata": {},
   "source": [
    "Try adding some code to calculate the sum of two different numbers, store them in a different variable (e.g., `result2`), and print the the value of that variable.\n",
    "\n",
    "To practice this again, rewrite the temperature measurement calculator in the code cell below. For reference, here is the calculator code from the previous lessons: \n",
    "\n",
    "```python\n",
    "fahrenheit = input(\"Fahrenheit:\")\n",
    "\n",
    "if fahrenheit.isnumeric():\n",
    "    celsius = (int(fahrenheit) - 32) * 5/9\n",
    "    print(celsius)\n",
    "else:\n",
    "    print(\"Please enter a number.\")\n",
    "```\n",
    "\n",
    "Right now, this code can only be executed once. If you want to calculate multiple different values you'd have to rewrite the same code over and over again. To avoid that you can move part of the code into a function. \n",
    "\n",
    "You'll have to combine what you have learned about **arguments**, `return`, and **conditions** to complete this task. \n",
    "\n",
    ">💡 It's tempting to think it's enough to _understand_ a concept and move on. But much like learning an instrument, learning to program is - for a large part - also about practicing. You internalize what you have learned only by doing it repeatedly. So, I encourage you to rewrite the code by hand in the exercise below, including the parts you think you may already know. \n",
    "\n",
    "There are a few automated tests already in the code cell below. Instead of fixing them all at once, follow the instructions below one by one. After completing each of the points below one more of the tests should pass. So don't worry if the rest fails for now. Your goal is to get them to pass one by one. \n",
    "\n",
    "1. Create a new function called `fahrenheit_to_celcius` with one argument named `fahrenheit`. You can leave the function empty for now and just get it to `return` fahrenheit (we'll change this in the next step). Run the code cell and get the first test to pass.\n",
    "\n",
    "2. Next, add a condition to the function scope that checks if `fahrenheit` is numeric. If it is **not** numeric the function should `return` the exact string `\"Please enter a number.\"`. If it **is** numeric just `return` the `fahrenheit` variable for now. Run the code cell again and get the second test to pass.\n",
    "\n",
    "3. Now let's make the function actually do what it's supposed to do! Add the formula including the conversion to an integer - `(int(fahrenheit) - 32) * 5/9` - to the function so that if the `fahrenheit` variable is numeric, the converted value gets returned. Run the code cell and get the third test to pass."
   ]
  },
  {
   "cell_type": "code",
   "execution_count": null,
   "id": "3039c345-6bdd-43b4-b02c-be65585b785e",
   "metadata": {
    "editable": true,
    "slideshow": {
     "slide_type": ""
    },
    "tags": []
   },
   "outputs": [],
   "source": [
    "# Write your code here:\n",
    "\n",
    "\n",
    "\n",
    "\n",
    "\n",
    "\n",
    "\n",
    "\n",
    "\n",
    "\n",
    "# ===============================\n",
    "# ✋ Automated Test (don't change any code below this line!)\n",
    "# ===============================\n",
    "print(\"\\n---\\n⚙️ Automated Test Results: \\n---\")\n",
    "# Test 1\n",
    "try: \n",
    "  # Test 1\n",
    "  import inspect\n",
    "  test_1 = len(inspect.getfullargspec(fahrenheit_to_celcius).args) > 0 and inspect.getfullargspec(fahrenheit_to_celcius).args[0] == 'fahrenheit'\n",
    "  print(\"❌ Test 1 failed. Function argument named 'fahrenheit' appears to be missing.\" if not test_1 else \"☑️ Test 1 passed.\")\n",
    "\n",
    "  # Test 2\n",
    "  test_2 = fahrenheit_to_celcius(\"text\")\n",
    "  expected_result_2 = \"Please enter a number.\"\n",
    "  print(\"❌ Test 2 failed. The returned string is not 'Please enter a number.' Check for typos or missing characters.\" if test_2 != expected_result_2 else \"☑️ Test 2 passed.\")\n",
    "\n",
    "  # Test 3\n",
    "  test_3 = fahrenheit_to_celcius(\"32\")\n",
    "  expected_result_3 = 0.0\n",
    "  print(\"❌ Test 3 failed. Make sure to use the correct formula.\" if test_3 != expected_result_3 else \"☑️ Test 3 passed.\")\n",
    "  \n",
    "except NameError: print(\"❌ Test 1 failed. There seems to be no function 'fahrenheit_to_celcius' defined.\")"
   ]
  },
  {
   "cell_type": "markdown",
   "id": "c6b9c46a",
   "metadata": {},
   "source": [
    "<details>\n",
    "<summary style=\"border: 1px solid; border-radius: 3px; padding: 5px; display: inline-block; cursor: pointer;\">\n",
    "💡 Hint\n",
    "</summary>\n",
    "<p>\n",
    "\n",
    "1. You don't need to `print` anything. Remember you can use the `return` keyword to make a value accessible beyond the function's scope.\n",
    "2. Don't forget to use parentheses to call functions!\n",
    "3. If you run into errors try to read and understand what's going on. Pay attention to indentation and small typos. Also, follow the instructions from top to bottom, getting each of the three tests to pass one at a time. \n",
    "    \n",
    "</p>\n",
    "</details>"
   ]
  },
  {
   "cell_type": "markdown",
   "id": "e2f1888c",
   "metadata": {},
   "source": [
    "Alright, that was a lot! But now, you know some of the most important programming concepts. By combining **variables**, **conditions**, and **functions** with **return** values and **arguments**, you are already able to write small computer programs. \n",
    "\n",
    "Let's give it a try and create a small estimation quiz game! The player will play against a (rather dumb) computer trying to guess a number. Whoever guesses the number closest to the right answer wins. \n",
    "\n",
    "Here is an example order of events in the game. Read them carefully and then try to turn them into code, below: \n",
    "\n",
    "1. The player sees a welcome message and the question \"How high is Mount Everest in meters?\"\n",
    "2. The player can enter a number in an `input()` field. (That number should be stored in a variable for later.)\n",
    "3. The computer randomly generates a number within a given range (e.g., between `1000` and `10000`.)\n",
    "4. The correct answer (`8849`) should be stored in a variable somewhere in the code. \n",
    "5. Now, the difference between the correct answer and the user's choice needs to be calculated (e.g., by subtracting the user's choice number from the correct answer.) Keep in mind that you may have to convert the user's input into an **integer**. \n",
    "6. Do the same thing for the computer's choice (though this won't need to be converted into an integer!). \n",
    "7. Compare the two results and determine whether the user's choice or the computer's choice is closer to the correct answer. \n",
    "8. The player sees a message on the screen declaring either them or the computer the winner. \n",
    "9. Repeat this process for two more questions of your choice. For example, you could let people guess the distance from Earth to the moon or the amount of water on Earth.\n",
    "\n",
    "For that last part of the task, try using **functions** to reuse as much as possible of the code you've already written. If you're not sure how to do that, a helpful approach (also used by professionals) can be to start by writing a simple, \"ugly\" implementation of the code. That means don't use functions and just write the code for the second question below the code for the first question. This way, you visualize easily which parts of your code are repeated. In the next step, you can then try to think about how to combine those repeated parts of the code into **functions** with **arguments**. This part of the programming process is called **refactoring** - you change your previously messy code into something that's cleaner and more maintainable (e.g., by using functions). Try thinking about this for a while, but if you get stuck for too long, check the hint below.\n",
    "\n",
    ">💡 Note: Python comes with a built-in function to randomly generate numbers within a range. The code cell below already contains some code that will likely look unfamiliar to you at the moment (i.e. `import random` and `.randint`, though maybe you can guess that `.randint` has something to do with a **ran**dom **int**eger!). You'll learn more about this kind of code later. For now, just know you can use the `random_number_within_range()` function anywhere in your code below. You can define the first and second argument as the lowest and highest number of the range within which the number should be generated. For example, like this: `random_number_within_range(0, 10000)`\n",
    "\n",
    "This exercise may take you a bit longer. Don't hesitate to use search engines or scan through previous lessons for help. Don't get discouraged if it takes a bit longer - that's very normal!"
   ]
  },
  {
   "cell_type": "code",
   "execution_count": null,
   "id": "85d80c19",
   "metadata": {},
   "outputs": [],
   "source": [
    "# This code will generate a random number:\n",
    "import random\n",
    "\n",
    "def random_number_within_range(lowest_number, highest_number):\n",
    "  return random.randint(lowest_number, highest_number)\n",
    "\n",
    "# 👇 Add your code below:\n",
    "\n",
    "\n",
    "\n",
    "\n",
    "\n",
    "\n"
   ]
  },
  {
   "cell_type": "markdown",
   "id": "2c69e7b2",
   "metadata": {},
   "source": [
    "<details>\n",
    "<summary style=\"border: 1px solid; border-radius: 3px; padding: 5px; display: inline-block; cursor: pointer;\">\n",
    "💡 Hint\n",
    "</summary>\n",
    "<p>\n",
    "\n",
    "For the first part of the exercise, you should be able to re-use what you have learned in previous lessons about conditions and comparisons. Don't forget to convert strings to integers in the right places. \n",
    "\n",
    "When refactoring code into functions, you start by identifying which parts of the code are repeated and which parts are different. Let's look at one example: \n",
    "\n",
    "```python\n",
    "import random \n",
    "\n",
    "# Game 1\n",
    "game_1_player_choice = int(input(\"Enter a number between 1 and 6\"))\n",
    "game_1_computer_choice = random.randint(1, 6)\n",
    "print(\"The computer chose\", game_1_computer_choice, \"and the player chose\", game_1_player_choice)\n",
    "\n",
    "# Game 2\n",
    "game_2_player_choice = int(input(\"Enter a number between 1 and 100\"))\n",
    "game_2_computer_choice = random.randint(1, 100)\n",
    "print(\"The computer chose\", game_2_computer_choice, \"and the player chose\", game_2_player_choice)\n",
    "```\n",
    "\n",
    "<br>\n",
    "In the example above, a lot of the code looks very similar but there are small differences. For example, the string of the `input()` function in one example says \"1 and 6\" and the other says \"1 and 100\". Similarly, the `random.randint()` function uses the values `1` and `6` the first time and `1` and `100` the second time. So the code is largely the same. The only difference is the range defined by two numbers. This tells us that with some changes to the code, we can move all of the code into a function with two **arguments** for the two numbers.\n",
    "\n",
    "Take a good look at the code below:\n",
    "\n",
    "```python\n",
    "import random \n",
    "\n",
    "def run_game(start_range, end_range):\n",
    "  game_1_player_choice = int(input(\"Enter a number between \" + str(start_range) + \" and \" + str(end_range)))\n",
    "  game_1_computer_choice = random.randint(start_range, end_range)\n",
    "  print(\"The computer chose\", game_1_computer_choice, \"and the player chose\", game_1_player_choice)\n",
    "\n",
    "run_game(1, 6)\n",
    "run_game(1, 100)\n",
    "```\n",
    "\n",
    "<br>\n",
    "We replaced the two numbers with two argument names `start_range` and `end_range`. Because those values are **integers** we need to convert them into **strings** if we want to combine them with other strings. We use the `str()` function for that. \n",
    "\n",
    "Finally, we call the function twice and can now call it many more times without repeating a lot of the code.\n",
    "\n",
    "Knowing the code from this example, try to refactor your question game code. \n",
    "\n",
    "> 💡 Since you will be working with implementing different questions each time, your function will likely have four arguments, something like `def guessing_game(question, correct_answer, start_range, end_range)`. If you were then to call the function with the Mount Everest example above, you would call `guessing_game(\"How high is Mount Everest in meters?\", 8849, 0, 10000)`.\n",
    "    \n",
    "</p>\n",
    "</details>"
   ]
  },
  {
   "attachments": {},
   "cell_type": "markdown",
   "id": "b4705963-b7e8-49d8-964a-14db43867c3d",
   "metadata": {
    "slideshow": {
     "slide_type": ""
    },
    "tags": []
   },
   "source": [
    "## 🏡 Practice Exercise\n",
    "([Back to top](#Table-of-Contents))\n",
    "\n",
    "You now know how to write reusable code using **functions**, **arguments**, and `return` statements. You also learned about **scope** and **local** vs **global** or **parent** variables. It can be very complicated to try and understand all of these concepts at once. But the good news is that these are core elements you'll be using when writing code all the time. So you will be practicing them a lot. And you can start practicing right now with the following exercise: \n",
    "\n",
    "**Rock-Paper-Scissors Game**\n",
    "\n",
    "Now, this is another difficult one. It'll require a lot of thinking and using a combination of functions and multiple conditions. But you know all the tools for creating this game. \n",
    "\n",
    "1. Create a new Python file on your computer. \n",
    "2. At the top of the file copy and paste the code to randomly generate a number in Python. You'll need it for the computer's choice: \n",
    "\n",
    "```python\n",
    "# This code will generate a random number:\n",
    "import random\n",
    "\n",
    "def random_number_within_range(lowest_number, highest_number):\n",
    "  return random.randint(lowest_number, highest_number)\n",
    "```\n",
    "\n",
    "3. Start the game by asking the user for their choice of \"rock\", \"paper\", or \"scissors\".\n",
    "4. Let the computer randomly choose among those three options. The easiest way to do that is to generate a random number between 1 and 3 and let each number represent one of the three choices. \n",
    "5. Now, for the complicated part. You will need to use multiple conditions to compare the computer choice and the user choice and determine who won. There are many different ways to solve this task! So don't get stuck trying to find the \"correct\" answer: you just need an answer that _works_. \n",
    "6. Print on the screen whether the player or the computer won. _(Tip: Also print the computer's and player's choice again. This will help you check that the code is working as intended.)_\n",
    "7. Given what you have learned above about **functions** and **refactoring**, let the player repeat the game three times. If you haven't already, you may check the last hint to help you get started. _(You will learn in future lessons how to let the player repeat a game indefinitely. For now, just use functions to repeat the game three times.)_"
   ]
  },
  {
   "cell_type": "markdown",
   "id": "11a687e2-6aaa-4843-8be0-9c5c022e3752",
   "metadata": {
    "editable": false,
    "slideshow": {
     "slide_type": ""
    },
    "tags": []
   },
   "source": [
    "--- \n",
    "\n",
    "_Author: Samuel Boguslawski - Current Version: Mar 5, 2024 - © 2024 Licensed under [CC BY-NC 4.0](https://creativecommons.org/licenses/by-nc/4.0/?ref=chooser-v1)_"
   ]
  }
 ],
 "metadata": {
  "kernelspec": {
   "display_name": "Python 3 (ipykernel)",
   "language": "python",
   "name": "python3"
  },
  "language_info": {
   "codemirror_mode": {
    "name": "ipython",
    "version": 3
   },
   "file_extension": ".py",
   "mimetype": "text/x-python",
   "name": "python",
   "nbconvert_exporter": "python",
   "pygments_lexer": "ipython3",
   "version": "3.10.10"
  }
 },
 "nbformat": 4,
 "nbformat_minor": 5
}
