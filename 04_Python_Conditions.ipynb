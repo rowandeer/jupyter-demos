{
 "cells": [
  {
   "attachments": {},
   "cell_type": "markdown",
   "id": "cb272d86-2785-46d2-b84b-4fcc0d1d8252",
   "metadata": {
    "editable": true,
    "slideshow": {
     "slide_type": ""
    },
    "tags": []
   },
   "source": [
    "# Python Basics 4: Conditions\n",
    "\n",
    "This lesson is part of a series. Each lesson assumes the reader has completed and understood the learning outcomes of the previous lessons.\n",
    "\n",
    "## Table of Contents\n",
    "\n",
    "- [🎯 Lesson outcome](#🎯-Lesson-outcome)\n",
    "- [🚦 Control Flow](#🚦-Control-Flow)\n",
    "- [🔀 if-else](#🔀-if-else)\n",
    "- [🧱 Code Blocks](#🧱-code-blocks)\n",
    "- [↩️ elif (\"else if\")](#↩️-elif-else-if)\n",
    "- [🏡 Practice Exercise](#🏡-Practice-Exercise)\n",
    "\n",
    "## 🎯 Lesson outcome\n",
    "([Back to top](#Table-of-Contents))\n",
    "\n",
    "In this lesson, you'll learn about **control flow** and **conditions** in computer programs and how they work. You can write programs that only perform a particular task if a condition is met. This allows you to start writing more complex programming logic. \n",
    "\n",
    "## 🚦 Control Flow\n",
    "([Back to top](#Table-of-Contents))\n",
    "\n",
    "The term **control flow** describes the order in which code is executed. Generally, code is executed line by line, top to bottom. Check out the example below. Before executing the code, try to guess the output of each of the `print()` statements."
   ]
  },
  {
   "cell_type": "code",
   "execution_count": null,
   "id": "4c7ef22c-4be9-4b59-a4f3-ce59b8f3400b",
   "metadata": {
    "editable": true,
    "slideshow": {
     "slide_type": ""
    },
    "tags": []
   },
   "outputs": [],
   "source": [
    "favorite_food = \"pizza\"\n",
    "\n",
    "print(\"My favorite food is \" + favorite_food)\n",
    "\n",
    "favorite_food = \"watermelon\"\n",
    "\n",
    "print(\"Actually, it's \" + favorite_food)"
   ]
  },
  {
   "cell_type": "markdown",
   "id": "efdc5885-5cc4-4db9-ab36-7fb9d3d7b32e",
   "metadata": {
    "slideshow": {
     "slide_type": ""
    },
    "tags": []
   },
   "source": [
    "You can see that both `print()` functions return the `favorite_food` variable. But each time, the variable represents a different value. That's because we changed the value of the variable in between the two print functions. \n",
    "\n",
    "Code gets executed line by line, which becomes even more obvious when using the `input()` function you learned about in the second lesson:"
   ]
  },
  {
   "cell_type": "code",
   "execution_count": null,
   "id": "f1162828-a164-41e8-a855-5ce0d31d8aaa",
   "metadata": {
    "editable": true,
    "slideshow": {
     "slide_type": ""
    },
    "tags": []
   },
   "outputs": [],
   "source": [
    "favorite_food = \"pizza\"\n",
    "\n",
    "print(\"My favorite food is \" + favorite_food)\n",
    "\n",
    "favorite_food = input()\n",
    "\n",
    "print(\"Actually, it's \" + favorite_food)"
   ]
  },
  {
   "cell_type": "markdown",
   "id": "421f688c-79a6-44df-9dea-b5ce17e05e12",
   "metadata": {
    "editable": false,
    "slideshow": {
     "slide_type": ""
    },
    "tags": []
   },
   "source": [
    "Running the code above, you'll notice that the second `print()` function is not executed until the user has hit <kbd>Enter</kbd> after inserting something into the input field. The entire execution of the code pauses until the `input()` function is completed. Only then will the rest of the code below that line continue running. \n",
    "\n",
    "Sometimes, this kind of top-to-bottom execution is not what we want as programmers. Sometimes, we want to repeat a line of code many times. For example, imagine a digital clock. It should update the time displayed on the screen every second.\n",
    "\n",
    "At other times, we want to execute some code only if a particular condition is met. For example, only if it's stormy outside should a weather app send a warning notification to the user.\n",
    "\n",
    "Those are just some examples of how we might want to alter our code's **control flow**. Keep that in mind, as we will return to it later in this lesson."
   ]
  },
  {
   "cell_type": "markdown",
   "id": "1dfaea6e-5187-4526-967d-8a7b39b7c88b",
   "metadata": {
    "editable": false,
    "slideshow": {
     "slide_type": ""
    },
    "tags": []
   },
   "source": [
    "## 🔀 if-else\n",
    "([Back to top](#Table-of-Contents))\n",
    "\n",
    "In the previous lesson, you learned about comparisons and booleans. The most common scenario where you'd need them is when writing **conditions**. A condition, in code, lets you write some code that is only executed **if** some condition is met. For example, only if the user's age is greater than 14, will they be allowed to purchase a product from your e-commerce website. \n",
    "\n",
    "Let's demonstrate what this looks like with a simple chatbot program:"
   ]
  },
  {
   "cell_type": "code",
   "execution_count": null,
   "id": "82eabb8a-9b48-4fea-99c1-4d42ca8235d4",
   "metadata": {
    "editable": true,
    "slideshow": {
     "slide_type": ""
    },
    "tags": []
   },
   "outputs": [],
   "source": [
    "print(\"Hi 👋! I'm Iris, your friendly chat bot!\")\n",
    "user_name = input(\"What is your name?\")\n",
    "print(\"Nice to meet you, \" + user_name + \"!\")\n",
    "\n",
    "user_age = input(\"And may I ask how old you are?\")\n",
    "\n",
    "if int(user_age) > 14:\n",
    "    print(\"Oh what a great age!\")\n",
    "else:\n",
    "    print(\"Nice! And you're already learning to program? That's crazy!\")"
   ]
  },
  {
   "cell_type": "markdown",
   "id": "8b069b19-a76a-4b96-bb7d-0138a45b53d7",
   "metadata": {
    "editable": false,
    "slideshow": {
     "slide_type": ""
    },
    "tags": []
   },
   "source": [
    "Run the code above. Make sure you answer the second question with a **number**. Otherwise, the code will break (as described in the lesson about numbers). Try to run it a few times, entering one age below 14 and one 14 or above. You will see that a different message is printed out in each situation. \n",
    "\n",
    "If you look at the code, you'll probably already notice which part of the code is responsible for the different output. It's what's called an `if-else` statement. Take a look at this simplified version of the code: "
   ]
  },
  {
   "cell_type": "code",
   "execution_count": null,
   "id": "f510a3e5-1620-4c87-9432-5335d4e76484",
   "metadata": {
    "editable": true,
    "slideshow": {
     "slide_type": ""
    },
    "tags": []
   },
   "outputs": [],
   "source": [
    "user_age = 42\n",
    "\n",
    "if user_age > 14:\n",
    "    print(\"Oh what a great age!\")\n",
    "else:\n",
    "    print(\"Nice! And you're already learning to program? That's crazy!\")"
   ]
  },
  {
   "cell_type": "markdown",
   "id": "c4828df1-8875-4654-ae81-079be7c76f4c",
   "metadata": {
    "editable": false,
    "slideshow": {
     "slide_type": ""
    },
    "tags": []
   },
   "source": [
    "`If` the value of the `user_age` variable (`42`) is greater than `14`, print out the first message. Otherwise (`else`), print the second message. \n",
    "\n",
    "You can even write a condition without the `else` part. Check out this example: "
   ]
  },
  {
   "cell_type": "code",
   "execution_count": null,
   "id": "2f8ae193-fab8-44a8-9c0d-abdbf2d66a51",
   "metadata": {
    "editable": true,
    "slideshow": {
     "slide_type": ""
    },
    "tags": []
   },
   "outputs": [],
   "source": [
    "print(\"Hi 👋! I'm Iris, your friendly chat bot!\")\n",
    "user_name = input(\"What is your name?\")\n",
    "\n",
    "if user_name:\n",
    "    print(\"Nice to meet you, \" + user_name)\n",
    "\n",
    "print(\"Oh well. See you next time!\")"
   ]
  },
  {
   "cell_type": "markdown",
   "id": "cca9b3db-992e-4f61-b704-4a8680d88a4c",
   "metadata": {
    "editable": false,
    "slideshow": {
     "slide_type": ""
    },
    "tags": []
   },
   "source": [
    "Run this code a couple of times. First, enter a name. Then, don't enter anything at all, but only hit the <kbd>Enter</kbd> key on the keyboard. Notice what's printed out in each situation.\n",
    "\n",
    "If you don't enter any text, the `user_name` variable stays empty, whic means the line \"Nice to meet you [...]\" is not printed out.\n",
    "\n",
    "When Python detects an `if` statement in the code, it will look at the code that follows the `if` and see whether it evaluates to `True`. As you have learned above, comparisons like `user_age > 14` evaluate to `True`. But what about `user_name` in the example above? \n",
    "\n",
    "As you have learned previously, a string with any number of characters is considered \"truthy\" while a string without any characters is considered \"falsy\". That means if `user_name` is empty Python treats it as if its value were `False`. But if there is at least one character, Python treats it as `True`."
   ]
  },
  {
   "cell_type": "markdown",
   "id": "ba0e8a18-05c3-4139-b4ba-c6be66a037b2",
   "metadata": {
    "editable": false,
    "slideshow": {
     "slide_type": ""
    },
    "tags": []
   },
   "source": [
    "## 🧱 Code Blocks\n",
    "([Back to top](#Table-of-Contents))\n",
    "\n",
    "When working with conditions, Python has to know which code is part of the condition and which isn't. Look at this code from before: "
   ]
  },
  {
   "cell_type": "code",
   "execution_count": null,
   "id": "5d11b12b-8c1b-43e0-bb5b-b91a7ead12ae",
   "metadata": {
    "editable": true,
    "slideshow": {
     "slide_type": ""
    },
    "tags": []
   },
   "outputs": [],
   "source": [
    "print(\"Hi 👋! I'm Iris, your friendly chat bot!\")\n",
    "user_name = input(\"What is your name?\")\n",
    "\n",
    "if user_name:\n",
    "    print(\"Nice to meet you, \" + user_name)\n",
    "\n",
    "print(\"Oh well. See you next time!\")"
   ]
  },
  {
   "cell_type": "markdown",
   "id": "228fe144-5078-4cfe-8c21-186e62cc7e1e",
   "metadata": {
    "editable": false,
    "slideshow": {
     "slide_type": ""
    },
    "tags": []
   },
   "source": [
    "How does Python know that the last `print()` statement is no longer part of the condition and should be printed out anyway?\n",
    "\n",
    "Maybe you have already guessed the answer based on how the code is laid out. Programming languages have different methods of **grouping code** into what are called **blocks**. A code block is a group of one or more lines of code that all belong together. In if-statements, a code block defines which code should be executed only if a particular condition is met. Otherwise, the code block will be ignored.\n",
    "\n",
    "In Python, code blocks are defined using **indentation**. (Other programming languages use parenthesis or specific special characters.) \n",
    "\n",
    ">💡 **It's crucial to remember**: In Python, it has a functional impact whether or not code is indented!\n",
    ">\n",
    ">Most commonly, indentations are done with the <kbd>Tab</kbd> key, and it also works to use two or four spaces (but just one space won't work).\n",
    "\n",
    "Indentation alone is not enough, though. You can also see a colon (`:`) at the end of the `if`- and `else` statements. Those colons are essential as they tell Python, \"Now follows a code block.\" Python will consider all the indented lines below a colon as belonging to the code block. As soon as a line is un-indented again, Python considers the block to have ended.\n",
    "\n",
    "You can even create **nested blocks** - which means you can write a block inside a block inside a block inside a block ..."
   ]
  },
  {
   "cell_type": "code",
   "execution_count": null,
   "id": "12000ce6-81b6-4985-b4a8-7e8f8f29e36b",
   "metadata": {
    "editable": true,
    "slideshow": {
     "slide_type": ""
    },
    "tags": []
   },
   "outputs": [],
   "source": [
    "print(\"Hi 👋! I'm Iris, your friendly chat bot!\")\n",
    "user_name = input(\"What is your name?\")\n",
    "\n",
    "if user_name:\n",
    "    if user_name == \"Iris\":\n",
    "        print(\"How funny! That's my name, too!\")\n",
    "    else:\n",
    "        print(\"What a beautiful name!\")\n",
    "else:\n",
    "    print(\"Fine. Don't tell me your name.\")"
   ]
  },
  {
   "cell_type": "markdown",
   "id": "afae3a4b",
   "metadata": {},
   "source": [
    "Try running the code above a few times to get to every possible `print()` output. And as usual, feel free to edit and break things to see how they work.\n",
    "\n",
    "Then, give the following exercise a try. You see that there are two variables defined: `favorite_food` (which is set to \"pizza\") and `response` (which is set to an empty string \"\"). There are also some automated tests. \n",
    "\n",
    "Write an if-else-statement. If the `favorite_food` variable is equal to `\"pizza\"`, set the `response` variable to any string (e.g., \"I like Pizza, too!\"). If it's not \"pizza\", set it to a different message (e.g., \"That's also a nice food!\").\n",
    "\n",
    "The automated test will only pass if you set the `response` variable to different values within an if-else-statement. Play around with the different parts and see what happens. Again, don't be afraid to break things! "
   ]
  },
  {
   "cell_type": "code",
   "execution_count": null,
   "id": "d791d754-8a3f-46cc-bba9-eb4c2cf3a826",
   "metadata": {
    "editable": true,
    "slideshow": {
     "slide_type": ""
    },
    "tags": []
   },
   "outputs": [],
   "source": [
    "favorite_food = \"pizza\"\n",
    "response = \"\"\n",
    "\n",
    "# 👇 TODO: Add your code below this line\n",
    "\n",
    "\n",
    "\n",
    "\n",
    "\n",
    "\n",
    "\n",
    "\n",
    "# 👆 Add your code ABOVE this line (don't change anything below!)\n",
    "\n",
    "print(response)\n",
    "\n",
    "# ===============================\n",
    "# Automated Test\n",
    "# ===============================\n",
    "\n",
    "print(\"\\n---\\n⚙️ Automated Test Results: \\n---\")\n",
    "print(\"❌ Response does not seem to be changed\" if not response else \"☑️ Test passed.\")"
   ]
  },
  {
   "cell_type": "markdown",
   "id": "b4a29f18",
   "metadata": {},
   "source": [
    "<details>\n",
    "<summary style=\"border: 1px solid; border-radius: 3px; padding: 5px; display: inline-block; cursor: pointer;\">\n",
    "💡 Hint\n",
    "</summary>\n",
    "<p>\n",
    "\n",
    "- Don't forget to indent properly with either a single tab or two or four spaces. \n",
    "- Don't forget the colons.\n",
    "- You can set variables inside if-else-statements like this: \n",
    "\n",
    "```python\n",
    "if 3 > 2:\n",
    "  my_variable = \"Success!\"\n",
    "```\n",
    "\n",
    "</p>\n",
    "</details>"
   ]
  },
  {
   "cell_type": "markdown",
   "id": "11db11e0-bc6a-49aa-bb8f-c179d84761e6",
   "metadata": {
    "editable": false,
    "slideshow": {
     "slide_type": ""
    },
    "tags": []
   },
   "source": [
    "Alright. Let's practice writing some more conditions from scratch.\n",
    "\n",
    "In the cell below, we started creating a chatbot that takes food orders. Complete the code with the following features: \n",
    "\n",
    "1. Check whether the user has entered any order. If the user hasn't entered an order, return an error message telling the user that they need to enter an order. If the user has made an order, `print()` a message confirming the order they made.\n",
    "2. **Only if** an order is made, create a new variable called `amount` and assign it to an `input()` function. Ask the user how many meals they want and store the result in the `amount` variable.\n",
    "3. If the `amount` is \"truthy,\" print the message telling the user which meal they have ordered and how many times. Otherwise, return the message \"Oh, I will cancel the order then.\" "
   ]
  },
  {
   "cell_type": "code",
   "execution_count": null,
   "id": "7367eb0f-a98b-4e6a-9514-7249d23c353a",
   "metadata": {
    "editable": true,
    "slideshow": {
     "slide_type": ""
    },
    "tags": []
   },
   "outputs": [],
   "source": [
    "print(\"Hi 👋! I'm Iris, the food order chat bot of your favorite restaurant!\")\n",
    "food_order = input(\"What is the name of the meal you'd like to order?\")\n",
    "\n",
    "# 👇  Write your code below:\n",
    "\n",
    "\n"
   ]
  },
  {
   "attachments": {},
   "cell_type": "markdown",
   "id": "8d3e9c0a-1f9f-42c9-834d-1caa94e42594",
   "metadata": {
    "editable": false,
    "slideshow": {
     "slide_type": ""
    },
    "tags": []
   },
   "source": [
    "<details>\n",
    "<summary style=\"border: 1px solid; border-radius: 3px; padding: 5px; display: inline-block; cursor: pointer;\">\n",
    "💡 Hint\n",
    "</summary>\n",
    "<p>\n",
    "\n",
    "1. To check whether a variable exists, you must see if it's \"truthy.\" All you need to do for that is to write `if variable_name:` and replace `variable_name` with the name of the variable you'd like to check. Don't forget that you need the colon `:` at the end of the `if` statement. And pay close attention to the indentation.\n",
    "2. You can add many lines of code within a single code block. So, to create a new variable `amount` inside the condition, ensure it's indented right below the `if` statement. Here is an example, where the variable `user_age` is only created **if** the variable `user_name` is truthy (i.e. has some data assigned to it):\n",
    "\n",
    "```python\n",
    "if user_name:\n",
    "    user_age = input(\"How old are you?\")\n",
    "```\n",
    "\n",
    "3. You can write conditions inside conditions. Make sure that the code block of the second condition is indented **twice** like the last line in the example below:\n",
    "\n",
    "```python\n",
    "if user_name: \n",
    "    user_age = input(\"How old are you?\")\n",
    "    if user_age: \n",
    "        print(user_age)\n",
    "```\n",
    "    \n",
    "</p>\n",
    "</details>"
   ]
  },
  {
   "cell_type": "markdown",
   "id": "2a47e305-fd93-4325-bdb9-1d6ca04293c6",
   "metadata": {
    "editable": false,
    "slideshow": {
     "slide_type": ""
    },
    "tags": []
   },
   "source": [
    "If you run into any issues, first try to understand the error message. Also, compare your attempt with the bits of example code above. And finally, you can use search engines or an LLM to help you identify where you may have made a mistake. \n",
    "\n",
    "Let's return to the temperature measurement converter for the final exercise. Our code so far looks something like this:"
   ]
  },
  {
   "cell_type": "code",
   "execution_count": null,
   "id": "f42e5845-ff35-4812-816e-d3a4a9ad30f1",
   "metadata": {
    "editable": true,
    "slideshow": {
     "slide_type": ""
    },
    "tags": []
   },
   "outputs": [],
   "source": [
    "fahrenheit = input(\"Fahrenheit:\")\n",
    "\n",
    "celsius = (int(fahrenheit) - 32) * 5/9\n",
    "\n",
    "print(celsius)"
   ]
  },
  {
   "cell_type": "markdown",
   "id": "72c8186d-afa1-4efe-9927-7c668978c155",
   "metadata": {
    "editable": false,
    "slideshow": {
     "slide_type": ""
    },
    "tags": []
   },
   "source": [
    "The code works if you enter a number. But it'll break if you enter any other characters. That's because `int()`, which you learnt about in lesson 2, can only convert a string to numbers if the string only contains digits. \n",
    "\n",
    "So how can we write a program that accounts for this potential issue?\n",
    "\n",
    "One way is by combining what you learned above with another built-in function of Python: `.isnumeric()` \n",
    "\n",
    "This is a function (or strictly speaking a **method**; see below) that you can _attach_ to a string (or a variable representing a string), and it'll return either `True` or `False` depending on whether or not the contents of the string are a **positive integer**; i.e. whether or not it **is numeric**.\n",
    "\n",
    ">💡**What are \"methods\"?** \n",
    "- Methods are a special type of **function** (you premember that `print()` and `input()` are functions) that work with particular objects in your code. The `.isnumeric()` method works with strings, for example. \n",
    "\n",
    "- While a function is always followed by parentheses, you can recognize a method because it starts with a period `.` _and_ is followed by parentheses `()`. \n",
    "\n",
    "- You call a method by appending it to the required object using what's called **dot notation**. So you can call `.isnumeric()` by appending it to any string or variable. There must be **no space before or after the dot**, like this: `variable_with_numbers.isnumeric()` or `\"3456\".isnumeric()`\n",
    "\n",
    "- Don't worry about memorizing all the terminology right now. But you'll likely encounter the word \"method\" again, so it's useful to know that it's a kind of function that can be called on a particular object in your code.\n",
    "\n",
    "- Like with functions, there are some methods that are pre-defined in the Python language, but it's also possible to create your own (though learning how to do that is beyond the scope of this lesson!).\n",
    "\n",
    "Look at these code cells and guess whether they will return `True` or `False` before you run them:"
   ]
  },
  {
   "cell_type": "code",
   "execution_count": null,
   "id": "122275e4-342e-4a5b-bafa-a8c3f61a9405",
   "metadata": {
    "editable": true,
    "slideshow": {
     "slide_type": ""
    },
    "tags": []
   },
   "outputs": [],
   "source": [
    "\"this is not a number\".isnumeric()"
   ]
  },
  {
   "cell_type": "code",
   "execution_count": null,
   "id": "dfcb7ddb-fe9a-4670-b288-f14f988aa228",
   "metadata": {
    "editable": true,
    "slideshow": {
     "slide_type": ""
    },
    "tags": []
   },
   "outputs": [],
   "source": [
    "\"42\".isnumeric()"
   ]
  },
  {
   "cell_type": "code",
   "execution_count": null,
   "id": "7002acd1-7b65-41a2-9d44-85e3b7d4e2de",
   "metadata": {
    "editable": true,
    "slideshow": {
     "slide_type": ""
    },
    "tags": []
   },
   "outputs": [],
   "source": [
    "number = \"1\"\n",
    "\n",
    "number.isnumeric()"
   ]
  },
  {
   "cell_type": "markdown",
   "id": "fcdd65e3-da6f-469d-8952-9d3462bf6c55",
   "metadata": {
    "editable": false,
    "slideshow": {
     "slide_type": ""
    },
    "tags": []
   },
   "source": [
    "Now, with that newly gained knowledge, re-write the temperature measurement converter. You can copy and paste the code we did so far from above, but you need to edit it so that it will only calculate and `print` the Celsius value **if** the `fahrenheit` variable is a **positive integer**. If it isn't, it should return a message to the user to please enter a positive, whole number."
   ]
  },
  {
   "cell_type": "code",
   "execution_count": null,
   "id": "b62622ec-3ed0-4585-a04f-ca3f917b7989",
   "metadata": {
    "editable": true,
    "slideshow": {
     "slide_type": ""
    },
    "tags": []
   },
   "outputs": [],
   "source": [
    "fahrenheit = input(\"Fahrenheit:\")\n",
    "\n",
    "# 👇  Write your code below:\n",
    "\n",
    "\n",
    "\n",
    "\n"
   ]
  },
  {
   "attachments": {},
   "cell_type": "markdown",
   "id": "3f50b9bd-f66b-4994-9aeb-7ca00d4c3ec7",
   "metadata": {
    "editable": false,
    "slideshow": {
     "slide_type": ""
    },
    "tags": []
   },
   "source": [
    "<details>\n",
    "<summary style=\"border: 1px solid; border-radius: 3px; padding: 5px; display: inline-block; cursor: pointer;\">\n",
    "💡 Hint\n",
    "</summary>\n",
    "<p>\n",
    "\n",
    "- Don't forget the colon `:` after `if` and `else` statements and to indent the correct lines.\n",
    "- The assignment of the `celsius` variable should only happen inside the `if` code block. \n",
    "- The `if` statement should check if `fahrenheit` is a number with the `.isnumeric()` function.\n",
    "    \n",
    "</p>\n",
    "</details>"
   ]
  },
  {
   "cell_type": "markdown",
   "id": "ae446e6d",
   "metadata": {},
   "source": [
    "## ↩️ elif (\"else if\")\n",
    "([Back to top](#Table-of-Contents))\n",
    "\n",
    "There is one more piece of conditions we haven't covered yet. That's this scenario: \"If the first condition is true, do one thing. If that's not true, but this other condition is true, do this other thing. And only if neither of those things is true, do this third thing.\"\n",
    "\n",
    "You can chain multiple different if-else-statements with the keyword `elif` (short for \"else if\"). Look at this example and take a moment to think about which of the `print()` statements will be printed out. Once you've worked it out, run the code:"
   ]
  },
  {
   "cell_type": "code",
   "execution_count": null,
   "id": "84eedc51",
   "metadata": {},
   "outputs": [],
   "source": [
    "if 3 < 2:\n",
    "  print(\"This does not make sense!\")\n",
    "elif 2 < 2: \n",
    "  print(\"This still does not make sense!\")\n",
    "else:\n",
    "  print(\"Make it make sense!\")"
   ]
  },
  {
   "cell_type": "markdown",
   "id": "03fc116e",
   "metadata": {},
   "source": [
    "Now add another `elif` statement with a new `print()`. Make sure to add that right above the `else` statement. Without changing any of the existing statements, make it so that your new `print()` statement gets printed."
   ]
  },
  {
   "cell_type": "markdown",
   "id": "28c00681",
   "metadata": {},
   "source": [
    "<details>\n",
    "<summary style=\"border: 1px solid; border-radius: 3px; padding: 5px; display: inline-block; cursor: pointer;\">\n",
    "💡 Hint\n",
    "</summary>\n",
    "<p>\n",
    "\n",
    "You can chain multiple `elif` statements like this: \n",
    "\n",
    "```python\n",
    "if 2 > 2:\n",
    "  print(\"this does not run\")\n",
    "elif 2 < 2:\n",
    "  print(\"this does not run\")\n",
    "elif 2 + 2 == 4:\n",
    "  print(\"this runs\")\n",
    "else:\n",
    "  print(\"this does not run\")\n",
    "```\n",
    "\n",
    "Make sure you pay attention to indentation and the colons. \n",
    "\n",
    "</p>\n",
    "</details>"
   ]
  },
  {
   "cell_type": "markdown",
   "id": "bc40e80d",
   "metadata": {},
   "source": [
    "Now let's revisit the food ordering chatbot. Let's assume you've already written the part of the code that collects the order. We now focus only on letting the user choose the amount. \n",
    "\n",
    "Make use of `elif` to write the following condition:\n",
    "\n",
    "- The first condition should display a message if the user's input is **not** numeric\n",
    "- The second condition should display a message if the user's order is `0`\n",
    "- The third condition should display a message if the order is too high - let's say greater than 10\n",
    "- Finally, if none of those conditions are true, respond to the user saying that the order has been taken\n",
    "\n",
    "Do all that in the code cell below.\n",
    "\n",
    "_(By the way: This is precisely how many form validations work in software. Whenever you try to fill out an online form and see a message telling you to change something about your input, it's probably code just like what you are about to write.)_"
   ]
  },
  {
   "cell_type": "code",
   "execution_count": null,
   "id": "2e416fe4",
   "metadata": {},
   "outputs": [],
   "source": [
    "print(\"So you would like to order pizza!\")\n",
    "order_amount = input(\"How many pizzas would you like to order?\")\n",
    "\n",
    "# 👇 Write your code below:\n",
    "\n",
    "\n"
   ]
  },
  {
   "cell_type": "markdown",
   "id": "e27fac07",
   "metadata": {},
   "source": [
    "<details>\n",
    "<summary style=\"border: 1px solid; border-radius: 3px; padding: 5px; display: inline-block; cursor: pointer;\">\n",
    "💡 Hint\n",
    "</summary>\n",
    "<p>\n",
    "\n",
    "Sometimes writing the most efficient kind of condition in code is a bit counterintuitive. You may think you start with the \"working\" condition (i.e. that the user enters a number between 1 and 9). However, in this scenario, it makes more sense to check if a condition is **not** true. So you need to make use of the `not` operator, the `!=` bang operator, or the `False` boolean.\n",
    "\n",
    "Let's say you start by writing this:\n",
    "\n",
    "```python\n",
    "\n",
    "if order_amount.isnumeric():\n",
    "  print(\"Great! Order was submitted\")\n",
    "elif order_amount == 0:\n",
    "  print(\"You need to order at least one pizza!\")\n",
    "```\n",
    "\n",
    "In this example, the second print statement would not run even if the user enters 0, because 0 is numeric, and so the first condition is already satisfied and the second condition doesn't get checked. \n",
    "\n",
    "That's why sometimes it makes more sense to check for the opposite condition so that you're able to check for multiple conditions in a row. E.g.\n",
    "\n",
    "```python\n",
    "\n",
    "if order_amount.isnumeric() == False:\n",
    "    print(\"You need to enter a number!\")\n",
    "elif order_amount == \"0\":\n",
    "    print(\"You need to order at least one pizza!\")\n",
    "```\n",
    "</p>\n",
    "</details>"
   ]
  },
  {
   "attachments": {},
   "cell_type": "markdown",
   "id": "6da82543-a11e-402b-a002-581197242e29",
   "metadata": {
    "editable": false,
    "slideshow": {
     "slide_type": ""
    },
    "tags": []
   },
   "source": [
    "## 🏡 Practice Exercise\n",
    "([Back to top](#Table-of-Contents))\n",
    "\n",
    "You now have learned one of the most important programming concepts: conditions. Conditions are the key building block of most programming logic. They allow you to build powerful software and react to user input.\n",
    "\n",
    "To practice this further, create a new Python file on your computer. You can expand on the chatbot idea and build more complex conversations. Come up with different responses and reactions based on the user's input. \n",
    "\n",
    "For example: \n",
    "- Write a chatbot that reacts differently to different kinds of food orders\n",
    "- Write a condition that checks that the user has input at least one character for the order name\n",
    "- Write a condition that checks that the length of the order string isn't longer than a certain length\n",
    "\n",
    "Alternatively, you could try and come up with a very simple version of a text adventure, like the classic [Zork](https://en.wikipedia.org/wiki/Zork) or other interactive stories. \n",
    "\n",
    "Make sure to spend some time with this to get used to writing longer and more complex code."
   ]
  },
  {
   "cell_type": "markdown",
   "id": "af83d7bd-8d00-4492-9108-e8bc79a610b7",
   "metadata": {
    "editable": false,
    "slideshow": {
     "slide_type": ""
    },
    "tags": []
   },
   "source": [
    "--- \n",
    "\n",
    "_Author: Samuel Boguslawski - Current Version: Feb 20, 2024 - © 2024 Licensed under [CC BY-NC 4.0](https://creativecommons.org/licenses/by-nc/4.0/?ref=chooser-v1)_"
   ]
  }
 ],
 "metadata": {
  "kernelspec": {
   "display_name": "Python 3 (ipykernel)",
   "language": "python",
   "name": "python3"
  },
  "language_info": {
   "codemirror_mode": {
    "name": "ipython",
    "version": 3
   },
   "file_extension": ".py",
   "mimetype": "text/x-python",
   "name": "python",
   "nbconvert_exporter": "python",
   "pygments_lexer": "ipython3",
   "version": "3.10.10"
  }
 },
 "nbformat": 4,
 "nbformat_minor": 5
}
