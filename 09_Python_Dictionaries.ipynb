{
 "cells": [
  {
   "cell_type": "markdown",
   "metadata": {
    "editable": false,
    "slideshow": {
     "slide_type": ""
    },
    "tags": []
   },
   "source": [
    "# Python Basics 9: Dictionaries\n",
    "\n",
    "This lesson is part of a series. Each lesson assumes the reader has completed and understood the learning outcomes of the previous lessons.\n",
    "\n",
    "## Table of Contents\n",
    "\n",
    "- [🎯 Lesson outcome](#🎯-Lesson-outcome)\n",
    "- [📖 Dictionaries](#📖-Dictionaries)\n",
    "- [📝 Creating Dictionaries](#📝-Creating-Dictionaries)\n",
    "- [👈 Selecting Dictionary Items](#👈-Selecting-Dictionary-Items)\n",
    "- [✍️ Editing Dictionaries](#✍️-Editing-Dictionaries)\n",
    "- [🌳 Data Structures](#🌳-Data-Structures)\n",
    "- [🏡 Practice Exercise](#🏡-Practice-Exercise)\n",
    "\n",
    "## 🎯 Lesson outcome\n",
    "([Back to top](#Table-of-Contents))\n",
    "\n",
    "In this lesson, you'll learn one of the most important complex data types of all: dictionaries. You'll learn to represent the data of your application in complex data structures, and to reason about which kinds of data an application needs and how the different data types relate to each other.\n",
    "\n",
    "## 📖 Dictionaries\n",
    "([Back to top](#Table-of-Contents))\n",
    "\n",
    "Much like a **list**, a **dictionary** is another **complex data type** - which means it represents multiple data points at once (just like a list). In other programming languages, it's also known as a **hash** or **object** (although both those terms can also mean slightly different things, so be careful!), but thankfully Python names things in a more human-understandable way. That's why a list in Python is called a list (and not an \"array\"). \n",
    "\n",
    "So what's a dictionary? Outside of programming, a dictionary is of course a book or online resource that pairs terms with a definition or a translation, like this: \n",
    "\n",
    "```\n",
    "python: \"a very large snake that kills animals for food by wrapping itself around them and crushing them\"\n",
    "software: \"the instructions that control what a computer does\"\n",
    "jupiter: \"the fifth planet from the Sun, after Mars and before Saturn\"\n",
    "```\n",
    "\n",
    "[Source: Cambridge Dictionary](https://dictionary.cambridge.org/)\n",
    "\n",
    "A dictionary in Python does something similar. But while a classic dictionary pairs words and definitions, a Python dictionary pairs what we call **keys** and **values**.\n",
    "\n",
    "The **value** in a dictionary can be any data type: strings, numbers, lists, tuples (or even other dictionaries! 🤯).\n",
    "\n",
    "The **key** is used to access that value. Each **key** must be unique.\n",
    "\n",
    "While a list works when you just need to collect lots of single pieces of information together, dictionaries are useful when you want to connect sets of two pieces of information together: for example names and telephone numbers in a contacts application, or dates and text entries in a journal application.\n",
    "\n",
    "## 📝 Creating Dictionaries\n",
    "([Back to top](#Table-of-Contents))\n",
    "\n",
    "Imagine a simple contacts app that lists multiple names and their corresponding phone number. You could try to store the data in a list of strings:\n",
    "\n",
    "```python\n",
    "contacts = [\n",
    "  \"Jorge 123-456-7890\",\n",
    "  \"Lin 980-765-4321\",\n",
    "  \"Ana 321-654-0987\"\n",
    "]\n",
    "```\n",
    "\n",
    "But that has multiple downsides. You have the phone number and name both in the same string and would need to find a way to separate them if you want to call someone straight from the app. You may want to display the name and the number in separate places, or edit just one of those pieces of information.\n",
    "\n",
    "So it makes a lot more sense to create a **dictionary** in this situation. Have a look at this example and run the cell:"
   ]
  },
  {
   "cell_type": "code",
   "execution_count": null,
   "metadata": {},
   "outputs": [],
   "source": [
    "contacts = {\n",
    "  \"Jorge\": \"123-456-7890\",\n",
    "  \"Lin\": \"980-765-4321\",\n",
    "  \"Ana\": \"321-654-0987\"\n",
    "}\n",
    "\n",
    "print(contacts)"
   ]
  },
  {
   "cell_type": "markdown",
   "metadata": {
    "editable": false,
    "slideshow": {
     "slide_type": ""
    },
    "tags": []
   },
   "source": [
    "You can see that dictionaries have some similarities with lists. But instead of square brackets, you signal the start and end of a dictionary with curly brackets `{ }`.\n",
    "\n",
    "Each element in a dictionary always has to be a pair of a **key** and a **value**. The **key** comes first, followed by a colon (`:`), and then the **value**. \n",
    "\n",
    "The different items are separated by commas (just like in lists).\n",
    "\n",
    "And much like with lists, it's common practice to write dictionaries over multiple lines as you see above, with one item on each line ending with a comma. However, shorter dictionaries can also be written in a single line: "
   ]
  },
  {
   "cell_type": "code",
   "execution_count": null,
   "metadata": {},
   "outputs": [],
   "source": [
    "user_ages = {\"Jorge\": 21, \"Lin\": 32, \"Ana\": 42}\n",
    "\n",
    "print(user_ages)"
   ]
  },
  {
   "cell_type": "markdown",
   "metadata": {
    "editable": false,
    "slideshow": {
     "slide_type": ""
    },
    "tags": []
   },
   "source": [
    "In both code cells above, try adding, changing, and removing some pairs of keys and values and run the cells again. Play around with it a bit until you feel comfortable with how it works. \n",
    "\n",
    "**Keys** always have to be **immutable** data types (like strings or numbers or even tuples). They cannot change while the code is running. The only way to change a key would be to delete the key-value pair and add a new one with the new key to the dictionary. (More on that below.) They also need to be **unique** values: so you cannot have two entries with the same key in one dictionary.\n",
    "\n",
    "**Values**, however, are dynamic and can be changed throughout the application runtime (you'll learn more about changing values in just a moment). They also don't need to be unique: so two different keys could have the same value in one dictionary.\n",
    "\n",
    "It's your turn. Create a new dictionary that could be used by a local library to record how many copies of each book is available:\n",
    "- Assign it to the variable that's already there. \n",
    "- The **key** should be the name of the book. \n",
    "- The **value** should be an integer. \n",
    "- The dictionary should have at least three entries. \n",
    "\n",
    "Then, run the cell to get the two tests to pass."
   ]
  },
  {
   "cell_type": "code",
   "execution_count": null,
   "metadata": {},
   "outputs": [],
   "source": [
    "library_books = \n",
    "\n",
    "\n",
    "\n",
    "\n",
    "\n",
    "# ===============================\n",
    "# ✋ Automated Test (don't change any code below this line!)\n",
    "# ===============================\n",
    "\n",
    "print(\"\\n---\\n⚙️ Automated Test Results: \\n---\")\n",
    "\n",
    "print(\"❌ Test 1 failed. Did you assign the variable library_books to be a dictionary?\" if not isinstance(library_books, dict) else \"☑️ Test 1 passed.\")\n",
    "print(\"❌ Test 2 failed. The dictionary should have at least 3 key-value pairs.\" if len(library_books) < 3 else \"☑️ Test 2 passed.\")"
   ]
  },
  {
   "cell_type": "markdown",
   "metadata": {
    "editable": false,
    "slideshow": {
     "slide_type": ""
    },
    "tags": []
   },
   "source": [
    "## 👈 Selecting Dictionary Items\n",
    "([Back to top](#Table-of-Contents))\n",
    "\n",
    "When you use a normal dictionary, you know a word that you want to look up the definition for. Likewise, with a programming dictionary, you use the **key** to find out its **value**. \n",
    "\n",
    "Finding a value in a Python dictionary is similar to finding items in a list: "
   ]
  },
  {
   "cell_type": "code",
   "execution_count": null,
   "metadata": {},
   "outputs": [],
   "source": [
    "contacts = {\n",
    "  \"Jorge\": \"123-456-7890\",\n",
    "  \"Lin\": \"980-765-4321\",\n",
    "  \"Ana\": \"321-654-0987\"\n",
    "}\n",
    "\n",
    "anas_phone_number = contacts[\"Ana\"]\n",
    "\n",
    "print(anas_phone_number)"
   ]
  },
  {
   "cell_type": "markdown",
   "metadata": {
    "editable": false,
    "slideshow": {
     "slide_type": ""
    },
    "tags": []
   },
   "source": [
    "As you can see, you write the name of the variable representing a dictionary (here, `contacts`) followed by square brackets. Inside those square brackets, you write the **key** name (`\"Ana\"`). \n",
    "\n",
    "Try it out. Assign a new variable in the code cell above and print a different phone number. \n",
    "\n",
    "### Aside: Loops & Dictionaries\n",
    "\n",
    "Remember how you can use a `for`-loop to loop through items in a list? You can use a `for`-loop on a dictionary, too. In that case, the loop will iterate over the **keys** of the dictionary.\n",
    "\n",
    "First, run the code below to see what happens. Then add another print statement so that each iteration displays both the ingredient **and** how much of it to use.\n",
    "\n",
    "> To display the **value** of a key-value pair, you call it with the key name, like this: `dictionary_name[key_name]`."
   ]
  },
  {
   "cell_type": "code",
   "execution_count": null,
   "metadata": {},
   "outputs": [],
   "source": [
    "recipe = {\n",
    "    \"salted butter softened\": \"227g\",\n",
    "    \"granulated sugar\": \"232g\",\n",
    "    \"light brown sugar packed\": \"213g\",\n",
    "    \"pure vanilla extract\": \"2 tsp\",\n",
    "    \"large eggs\": \"2\",\n",
    "    \"all-purpose flour\": \"427g\",\n",
    "    \"baking soda\": \"1 tsp\",\n",
    "    \"baking powder\": \"½ tsp\",\n",
    "    \"sea salt\": \"1 tsp\",\n",
    "    \"chocolate chips\": \"396g\"\n",
    "}\n",
    "\n",
    "for ingredient in recipe:\n",
    "  print(ingredient)\n",
    "  # 👇 Add your code here:\n",
    "\n",
    "  \n"
   ]
  },
  {
   "cell_type": "markdown",
   "metadata": {
    "editable": false,
    "slideshow": {
     "slide_type": ""
    },
    "tags": []
   },
   "source": [
    "<details>\n",
    "<summary style=\"border: 1px solid; border-radius: 3px; padding: 5px; display: inline-block; cursor: pointer;\">\n",
    "💡 Hint\n",
    "</summary>\n",
    "<p>\n",
    "\n",
    "We see that `print(ingredient)` prints out each of the **key** names, since the variable `ingredient` stands for each key name in each iteration of the for-loop. \n",
    "\n",
    "As we learnt above, to access the **values**, you also need to use the key names. To access a value directly, you could write `print(recipe[\"chocolate chips\"])` - i.e. using the specific key name. This would return `\"396g\"`.\n",
    "\n",
    "We know that `ingredient` respresents each key for each iteration of the `for-loop`. So how would you adapt `print(recipe[\"chocolate chips\"])` to use in the loop?\n",
    "</p>\n",
    "</details>\n"
   ]
  },
  {
   "cell_type": "markdown",
   "metadata": {
    "editable": false,
    "slideshow": {
     "slide_type": ""
    },
    "tags": []
   },
   "source": [
    "Combining lists and loops or dictionaries and loops is extremely common and an important skill to practice. It's normal if it takes a while to wrap your head around how they work. Practice will help you get better!\n",
    "\n",
    ">💡 An alternative way to iterate over dictionaries is by using the `.items()` method on the dictionary. This gives you access to both the key and the value as a **tuple** in each iteration (similar to how `enumerate()` gives you access to the index and the item of a list). It would go beyond the scope of this course to go in depth here. But if you're interested, take a look at [the official documentation](https://docs.python.org/3/tutorial/datastructures.html#looping-techniques) to find out more.\n",
    "\n",
    "## ✍️ Editing Dictionaries\n",
    "([Back to top](#Table-of-Contents))\n",
    "\n",
    "Many of the same built-in functions that work on lists also work on dictionaries. But - good news - most interactions with dictionaries are even simpler than with lists!\n",
    "\n",
    "### Changing Dictionary Items\n",
    "\n",
    "Similar to lists, you can change individual dictionary values by calling them (using the key, as you learned before) and assigning a new value using the equal sign (`=`). Run the code below to see how this works:"
   ]
  },
  {
   "cell_type": "code",
   "execution_count": null,
   "metadata": {},
   "outputs": [],
   "source": [
    "contacts = {\n",
    "  \"Samantha\": \"123-456-7890\",\n",
    "  \"Sammy\": \"980-765-4321\",\n",
    "  \"Sam\": \"321-654-0987\"\n",
    "}\n",
    "\n",
    "print(\"Before:\", contacts)\n",
    "\n",
    "contacts[\"Sam\"] = \"777-324-1234\"\n",
    "\n",
    "print(\"After:\", contacts)"
   ]
  },
  {
   "cell_type": "markdown",
   "metadata": {
    "editable": false,
    "slideshow": {
     "slide_type": ""
    },
    "tags": []
   },
   "source": [
    "### Adding Dictionary Items\n",
    "\n",
    "Using that same syntax, you can also add new key-value pairs to a dictionary. So, unlike with lists, you **can** declare a **key** that does not yet exist in the dictionary by just assigning it, in the same way as you'd change an item value.\n",
    "\n",
    "Try it out!\n",
    "\n",
    "In the example below, add a new name and corresponding phone number: "
   ]
  },
  {
   "cell_type": "code",
   "execution_count": null,
   "metadata": {},
   "outputs": [],
   "source": [
    "contacts = {\n",
    "  \"Samantha\": \"123-456-7890\",\n",
    "  \"Sammy\": \"980-765-4321\",\n",
    "  \"Sam\": \"321-654-0987\"\n",
    "}\n",
    "\n",
    "print(\"Before:\", contacts)\n",
    "\n",
    "# 👇 Add your code below\n",
    "\n",
    "\n",
    "\n",
    "\n",
    "\n",
    "# 👆 Add your code above\n",
    "\n",
    "print(\"After:\", contacts)\n",
    "\n",
    "\n",
    "# ===============================\n",
    "# ✋ Automated Test (don't change any code below this line!)\n",
    "# ===============================\n",
    "\n",
    "print(\"\\n---\\n⚙️ Automated Test Results: \\n---\")\n",
    "\n",
    "print(\"❌ Test 1 failed. Don't just change an existing value. Add a new key that does not yet exist.\" if len(contacts) < 4 else \"☑️ Test 1 passed.\")"
   ]
  },
  {
   "cell_type": "markdown",
   "metadata": {
    "editable": false,
    "slideshow": {
     "slide_type": ""
    },
    "tags": []
   },
   "source": [
    "### Removing Dictionary Items\n",
    "\n",
    "As mentioned above, some of the same methods that work on lists also work on dictionaries. For example, that's true for `.pop()`. However, the more common way to remove items from a dictionary is by using the `del` keyword.\n",
    "\n",
    ">💡 Why are there sometimes several ways to do a similar thing?\n",
    "Python has been around for a long time (since 1991). Many programming languages that have been around for a while evolve over time (in 2024, we are on Python version 3). People want to improve the language, make it more intuitive, more easy, or add new features to it. But how do you change a programming language without causing all existing software written in that programming language to break? You add to it without removing the old parts. \n",
    ">\n",
    ">This is why many older programming langauges often have multiple different ways to do the same thing. So don't be surprised if you find Python code examples written slightly differently from what you have learned so far. As with `del` and `.pop()`, it's very likely that there are simply various alternatives to doing a similar (but maybe slightly different) thing.\n",
    "\n",
    "Run the code below. Then try adding a new key and deleting another one. You could also try using `.pop()`."
   ]
  },
  {
   "cell_type": "code",
   "execution_count": null,
   "metadata": {},
   "outputs": [],
   "source": [
    "contacts = {\n",
    "  \"Samantha\": \"123-456-7890\",\n",
    "  \"Sammy\": \"980-765-4321\",\n",
    "  \"Sam\": \"321-654-0987\"\n",
    "}\n",
    "\n",
    "print(\"Contacts before deletion:\", contacts)\n",
    "\n",
    "del contacts[\"Sam\"]\n",
    "\n",
    "\n",
    "\n",
    "print(\"Contacts after deletion:\", contacts)"
   ]
  },
  {
   "cell_type": "markdown",
   "metadata": {
    "editable": false,
    "slideshow": {
     "slide_type": ""
    },
    "tags": []
   },
   "source": [
    "Now you know all the important aspects of creating and editing dictionaries. Let's practice this with an example. We'll build an interactive shopping list that allows users to add both items and amounts.\n",
    "\n",
    "- In the code cell below, create a variable called `shopping_list` and assign it to an empty dictionary.\n",
    "- Then create a loop. In it, ask the user to input the name of an item they would like to add. Assign the response to a variable. \n",
    "- Still in the loop, ask the user to input the amount for the entered item.\n",
    "- Bonus: For an extra challenge, add a validation feature here to make sure the user enters a number as the amount. \n",
    "- Then, still in the loop, add a new item to the `shopping_list` dictionary, where the key is the name of the item and the value is the amount. \n",
    "- Print the shopping list.\n",
    "- As the final step in the loop, ask the user if they want to add another item. If they do, go through the previous steps again. If they don't, print the entire dictionary one last time. Then, end the program."
   ]
  },
  {
   "cell_type": "code",
   "execution_count": null,
   "metadata": {},
   "outputs": [],
   "source": [
    "\n",
    "\n",
    "\n",
    "\n",
    "\n",
    "\n",
    "\n",
    "\n",
    "# ===============================\n",
    "# ✋ Automated Test (don't change any code below this line!)\n",
    "# ===============================\n",
    "\n",
    "print(\"\\n---\\n⚙️ Automated Test Results: \\n---\")\n",
    "\n",
    "print(\"❌ Test 1 failed. Make sure to assign the variable shopping_list to a dictionary\" if not isinstance(shopping_list, dict) else \"☑️ Test 1 passed.\")"
   ]
  },
  {
   "cell_type": "markdown",
   "metadata": {
    "editable": false,
    "slideshow": {
     "slide_type": ""
    },
    "tags": []
   },
   "source": [
    "<details>\n",
    "<summary style=\"border: 1px solid; border-radius: 3px; padding: 5px; display: inline-block; cursor: pointer;\">\n",
    "💡 Hint\n",
    "</summary>\n",
    "<p>\n",
    "\n",
    "- You can assign an empty dictionary like this: `some_dictionary = {}`\n",
    "- The loop could be an infinite loop. And you could use `break` or `continue` to determine if it keeps running. \n",
    "- Don't forget to pay attention to the indentations. \n",
    "\n",
    "</p>\n",
    "</details>"
   ]
  },
  {
   "cell_type": "markdown",
   "metadata": {
    "editable": false,
    "slideshow": {
     "slide_type": ""
    },
    "tags": []
   },
   "source": [
    "## 🌳 Data Structures\n",
    "([Back to top](#Table-of-Contents))\n",
    "\n",
    "You now have learned the essential tools to create what programmers call **data structures**. Most software consists of two main elements: **algorithms** and **data structures**. Algorithms are the logical parts of your code, such as **conditions** and **loops**. **Data structures** represent the data of your application, which is sometimes stored temporarily (in a variable) and sometimes stored for longer (e.g., in databases, or as files.)\n",
    "\n",
    "A dictionary is perfect for relatively simple data sets like the shopping list you made above. But what if you need more than two data points per item? What if you want to record not just the item and the amount, but also a category label, whether or not the item has been purchased yet, a date of purchase, and a picture of the item? \n",
    "\n",
    "You would need a dictionary for each item, with keys and values for each of those bits of information. And then you'd need a list of dictionaries...\n",
    "\n",
    "And a list of dictionaries is a perfect example of what is known as a **complex data structure**: a combination of different data types and/or data structures that allows programmers to organize and work with a whole load of related data. That's where programming becomes really powerful!\n",
    "\n",
    "Here is an example shopping list that includes all those data points mentioned above: \n",
    "\n",
    "```python \n",
    "shopping_list = [\n",
    "  { \n",
    "    \"name\": \"Apple\", \n",
    "    \"amount\": 6,\n",
    "    \"category\": \"Fruit\", \n",
    "    \"purchased_already\": False,\n",
    "    \"purchase_date\": None, \n",
    "    \"picture\": \"https://commons.wikimedia.org/wiki/File:A_Gala_Apple.jpg\" \n",
    "  },\n",
    "  { \n",
    "    \"name\": \"Banana\", \n",
    "    \"amount\": 3,\n",
    "    \"category\": \"Fruit\", \n",
    "    \"purchased_already\": True,\n",
    "    \"purchase_date\": \"Dec 20th, 2023\", \n",
    "    \"picture\": \"https://commons.wikimedia.org/wiki/File:Banana_8.jpg\" \n",
    "  },\n",
    "  { \n",
    "    \"name\": \"Broccoli\", \n",
    "    \"amount\": 1,\n",
    "    \"category\": \"Vegetable\", \n",
    "    \"purchased_already\": False,\n",
    "    \"purchase_date\": None, \n",
    "    \"picture\": \"https://commons.wikimedia.org/wiki/File:Broccoli_bunches.jpg\" \n",
    "  }\n",
    "]\n",
    "```\n",
    "In the code above, you see a list of dictionaries. Each list item is its own dictionary. Each dictionary represents one shopping list item and each item has the same six keys. \n",
    "\n",
    "Below is the same list in a code cell. Try adding a fourth shopping list item with all the same keys but different values. Then run the code and make sure all tests pass. _(As usual, pay close attention to the use of special characters. It's easy to make mistakes like missing quotes or commas.)_"
   ]
  },
  {
   "cell_type": "code",
   "execution_count": null,
   "metadata": {},
   "outputs": [],
   "source": [
    "shopping_list = [\n",
    "  { \n",
    "    \"name\": \"Apple\", \n",
    "    \"amount\": 6,\n",
    "    \"category\": \"Fruit\", \n",
    "    \"purchased_already\": False,\n",
    "    \"purchase_date\": None, \n",
    "    \"picture\": \"https://commons.wikimedia.org/wiki/File:A_Gala_Apple.jpg\" \n",
    "  },\n",
    "  { \n",
    "    \"name\": \"Banana\", \n",
    "    \"amount\": 3,\n",
    "    \"category\": \"Fruit\", \n",
    "    \"purchased_already\": True,\n",
    "    \"purchase_date\": \"Dec 20th, 2023\", \n",
    "    \"picture\": \"https://commons.wikimedia.org/wiki/File:Banana_8.jpg\" \n",
    "  },\n",
    "  { \n",
    "    \"name\": \"Broccoli\", \n",
    "    \"amount\": 1,\n",
    "    \"category\": \"Vegetable\", \n",
    "    \"purchased_already\": False,\n",
    "    \"purchase_date\": None, \n",
    "    \"picture\": \"https://commons.wikimedia.org/wiki/File:Broccoli_bunches.jpg\" \n",
    "  }\n",
    "]\n",
    "\n",
    "print(shopping_list)\n",
    "\n",
    "\n",
    "# ===============================\n",
    "# ✋ Automated Test (don't change any code below this line!)\n",
    "# ===============================\n",
    "\n",
    "print(\"\\n---\\n⚙️ Automated Test Results: \\n---\")\n",
    "\n",
    "print(\"❌ Test 1 failed. The list should have exactly 4 items.\" if len(shopping_list) != 4 else \"☑️ Test 1 passed.\")\n",
    "print(\"❌ Test 2 failed. The fourth item should be a dictionary.\" if not isinstance(shopping_list[3], dict) else \"☑️ Test 2 passed.\")"
   ]
  },
  {
   "cell_type": "markdown",
   "metadata": {
    "editable": false,
    "slideshow": {
     "slide_type": ""
    },
    "tags": []
   },
   "source": [
    "So how do we navigate to values within a dictionary?\n",
    "\n",
    "To find and use values from complex data types, you chain multiple square brackets, like this: `print(list_name[index_number][key_name])`. \n",
    "\n",
    "Have a look at the example below and think about what the `print(shopping_list[0][\"amount\"])` will output before you run it. \n",
    "\n",
    "Then, uncomment the other two print statements and add a line of code below each to answer the question _(Type each line out instead of copy-pasting, as this will help you learn the syntax!)_"
   ]
  },
  {
   "cell_type": "code",
   "execution_count": null,
   "metadata": {},
   "outputs": [],
   "source": [
    "shopping_list = [\n",
    "  { \n",
    "    \"name\": \"Apple\", \n",
    "    \"amount\": 6,\n",
    "    \"purchased_already\": False,\n",
    "    \"category\": \"Fruit\", \n",
    "    \"purchase_date\": None, \n",
    "    \"picture\": \"https://commons.wikimedia.org/wiki/File:A_Gala_Apple.jpg\" \n",
    "  },\n",
    "  { \n",
    "    \"name\": \"Banana\", \n",
    "    \"amount\": 3,\n",
    "    \"purchased_already\": True,\n",
    "    \"category\": \"Fruit\", \n",
    "    \"purchase_date\": \"Dec 20th, 1923\", \n",
    "    \"picture\": \"https://commons.wikimedia.org/wiki/File:Banana_8.jpg\" \n",
    "  },\n",
    "  { \n",
    "    \"name\": \"Broccoli\", \n",
    "    \"amount\": 1,\n",
    "    \"purchased_already\": False,\n",
    "    \"category\": \"Vegetable\", \n",
    "    \"purchase_date\": None, \n",
    "    \"picture\": \"https://commons.wikimedia.org/wiki/File:Broccoli_bunches.jpg\" \n",
    "  }\n",
    "]\n",
    "\n",
    "print(\"How many apples should we purchase?\")\n",
    "print(shopping_list[0][\"amount\"])\n",
    "\n",
    "# print(\"When were the bananas purchased?\")\n",
    "\n",
    "\n",
    "# print(\"An image of broccoli:\")\n"
   ]
  },
  {
   "cell_type": "markdown",
   "metadata": {
    "editable": false,
    "slideshow": {
     "slide_type": ""
    },
    "tags": []
   },
   "source": [
    "Lists of dictionaries are common but not the only possible complex data structure. In fact, you can mix and match all sorts of data types. You can have lists of tuples, lists of lists, and dictionaries with many different dictionaries nested inside of them!\n",
    "\n",
    "For example, **lists of lists** are commonly used to represent two-dimensional game data. For example, if you build a chess game, you'll need to represent the board as a complex data structure. A common way to do that is to have the main or outer list representing all the rows, with each inner list made up of individual items for the columns, like this:"
   ]
  },
  {
   "cell_type": "code",
   "execution_count": null,
   "metadata": {},
   "outputs": [],
   "source": [
    "chess_board = [\n",
    "    ['R', 'N', 'B', 'Q', 'K', 'B', 'N', 'R'],\n",
    "    ['P', 'P', 'P', 'P', 'P', 'P', 'P', 'P'],\n",
    "    [' ', ' ', ' ', ' ', ' ', ' ', ' ', ' '],\n",
    "    [' ', ' ', ' ', ' ', ' ', ' ', ' ', ' '],\n",
    "    [' ', ' ', ' ', ' ', ' ', ' ', ' ', ' '],\n",
    "    [' ', ' ', ' ', ' ', ' ', ' ', ' ', ' '],\n",
    "    ['p', 'p', 'p', 'p', 'p', 'p', 'p', 'p'],\n",
    "    ['r', 'n', 'b', 'q', 'k', 'b', 'n', 'r']\n",
    "]"
   ]
  },
  {
   "cell_type": "markdown",
   "metadata": {
    "editable": false,
    "slideshow": {
     "slide_type": ""
    },
    "tags": []
   },
   "source": [
    "You can also nest multiple lists and dictionaries to create complex structures, like the following example for our shopping list. Look at it closely and try to spot all the nested structures. \n",
    "\n",
    "Then, get the test to pass by replacing the string assigned to the variable `broccoli_icon` with the code that will select the actual icon 🥦 (i.e. the final value you can see in the complex data structure). To do this, you will have to chain multiple square brackets to each other. You may to run the code multiple times and inspect what `print()` returns to get closer to the right result. "
   ]
  },
  {
   "cell_type": "code",
   "execution_count": null,
   "metadata": {},
   "outputs": [],
   "source": [
    "shopping_list_by_category = {\n",
    "  \"fruit\": [\n",
    "    { \n",
    "      \"name\": \"Apple\", \n",
    "      \"amount\": 6,\n",
    "      \"purchased_already\": False,\n",
    "      \"purchase_date\": None, \n",
    "      \"picture\": {\n",
    "        \"url\": \"https://commons.wikimedia.org/wiki/File:A_Gala_Apple.jpg\",\n",
    "        \"icon\": \"🍎\"\n",
    "      }\n",
    "    },\n",
    "    { \n",
    "      \"name\": \"Banana\", \n",
    "      \"amount\": 3,\n",
    "      \"purchased_already\": True,\n",
    "      \"purchase_date\": \"Dec 20th, 2023\", \n",
    "      \"picture\": {\n",
    "        \"url\": \"https://commons.wikimedia.org/wiki/File:Banana_8.jpg\",\n",
    "        \"icon\": \"🍌\"\n",
    "      }\n",
    "    }\n",
    "  ],\n",
    "  \"vegetables\": [\n",
    "    { \n",
    "      \"name\": \"Broccoli\", \n",
    "      \"amount\": 1,\n",
    "      \"purchased_already\": False,\n",
    "      \"category\": \"Vegetable\", \n",
    "      \"purchase_date\": None, \n",
    "      \"picture\": {\n",
    "        \"url\":  \"https://commons.wikimedia.org/wiki/File:Broccoli_bunches.jpg\",\n",
    "        \"icon\": \"🥦\"\n",
    "      }\n",
    "    }\n",
    "  ]\n",
    "}\n",
    "\n",
    "\n",
    "broccoli_icon = \"Replace this string with code!\"\n",
    "\n",
    "print(broccoli_icon)\n",
    "\n",
    "\n",
    "# ===============================\n",
    "# ✋ Automated Test (don't change any code below this line!)\n",
    "# ===============================\n",
    "\n",
    "print(\"\\n---\\n⚙️ Automated Test Results: \\n---\")\n",
    "\n",
    "print(\"❌ Test 1 failed. Did you select the right item?\" if broccoli_icon != \"🥦\" else \"☑️ Test 1 passed.\")\n",
    "\n"
   ]
  },
  {
   "cell_type": "markdown",
   "metadata": {
    "editable": false,
    "slideshow": {
     "slide_type": ""
    },
    "tags": []
   },
   "source": [
    "\n",
    "<details>\n",
    "<summary style=\"border: 1px solid; border-radius: 3px; padding: 5px; display: inline-block; cursor: pointer;\">\n",
    "💡 Hint 1\n",
    "</summary>\n",
    "<p>\n",
    "\n",
    "The nesting goes as follows:\n",
    "- a dictionary `shopping_list_by_category`, which contains two keys, `\"fruits\"` and `\"vegetables\"`.\n",
    "- the values of each of these keys is a list of dictionaries.\n",
    "- the fifth key in each inner dictionary, `\"picture\"`, has a value of yet another dictionary, with two keys `\"url\"` and `\"icon\"`.\n",
    "\n",
    "Can you work out how many sets of square brackets you need to get to the broccoli icon?\n",
    "\n",
    "</p>\n",
    "</details>\n",
    "\n",
    "<br />\n",
    "\n",
    "<details>\n",
    "<summary style=\"border: 1px solid; border-radius: 3px; padding: 5px; display: inline-block; cursor: pointer;\">\n",
    "💡 Hint 2 \n",
    "</summary>\n",
    "<p>\n",
    "\n",
    "You will need 4 sets of brackets to get to the broccoli icon - to navigate to:\n",
    "- the second key in the first dictionary (the list `vegetables`) \n",
    "- the first item in that list (which is a dictionary - and remember, computers count from 0!)\n",
    "- the sixth key in that dictionary (`\"pictures\"`, which is yet another dictionary!)\n",
    "- the second item in that dictionary (`\"icon\"`)\n",
    "</p>\n",
    "</details>\n",
    "\n",
    "<br />"
   ]
  },
  {
   "cell_type": "markdown",
   "metadata": {
    "editable": false,
    "slideshow": {
     "slide_type": ""
    },
    "tags": []
   },
   "source": [
    "Phew! That was a very complex combination of lists and dictionaries. \n",
    "\n",
    "It's not uncommon to do things like this. But don't worry if it seems a bit intimidating for now. With practice, you'll eventually be able to come up with and use structures like that, too!"
   ]
  },
  {
   "cell_type": "markdown",
   "metadata": {
    "editable": false,
    "slideshow": {
     "slide_type": ""
    },
    "tags": []
   },
   "source": [
    "## 🏡 Practice Exercise\n",
    "([Back to top](#Table-of-Contents))\n",
    "\n",
    "Complex data structures can be overwhelming at first. It can be particularly difficult to wrap your head around multiple nested dictionaries and lists and combine them with loops. \n",
    "\n",
    "But the best thing to do is practice!\n",
    "\n",
    "Your task is to create a small phonebook application. The user should be able to add multiple contacts to their phonebook. For each contact, they can add a name, phone number, and email address. (Feel free to expand on that idea and add extra fields if you want!) \n",
    "\n",
    "1. Create a new Python file. \n",
    "2. Your application should have a basic loop to run the program. Start by asking the user to enter the name of a new contact. \n",
    "3. Follow the question by asking for additional fields such as phone number and email address. \n",
    "4. Add a dictionary per contact to a list. Then, ask the user if they'd like to add another new contact and allow them to do so if they answer \"yes.\"\n",
    "5. Once the user is done adding contacts, print the entire list of contacts in a visually appealing way (using a for-loop). Add icons such as 📞 or 📧 to display the contact details on separate lines. _(You may have to think hard about how to get the individual data points during each iteration of the for-loop. Work with print statements to try getting close to the solution if you get stuck!)_\n",
    "6. Finally, use another loop to ask the user if they want to delete any of the contacts. Allow them to delete items by naming the position (index) of the contact.\n",
    "\n",
    "This task might take you a bit longer as it combines all aspects of what you have learned so far. But make sure to take the time and complete it. Only through practice will you progress! \n",
    "\n",
    "Finally, if you want an extra challenge, try expanding on the functionality by saving the contact list to a file. This isn't something you have learned yet. But Python has a lot of powerful features that go way beyond the scope of this course! So it's not a bad idea to have a look at Python's official tutorials and documentation. Only once you have completed the task above - and if you are looking for a more advanced task - look at this tutorial and try to apply what you have learned there to store the contact list as a simple .txt file: https://docs.python.org/3/tutorial/inputoutput.html#"
   ]
  },
  {
   "cell_type": "markdown",
   "metadata": {
    "editable": false,
    "slideshow": {
     "slide_type": ""
    },
    "tags": []
   },
   "source": [
    "--- \n",
    "\n",
    "_Author: Samuel Boguslawski - Current Version: Mar 21, 2024 - © 2024 Licensed under [CC BY-NC 4.0](https://creativecommons.org/licenses/by-nc/4.0/?ref=chooser-v1)_"
   ]
  }
 ],
 "metadata": {
  "kernelspec": {
   "display_name": "Python 3 (ipykernel)",
   "language": "python",
   "name": "python3"
  },
  "language_info": {
   "codemirror_mode": {
    "name": "ipython",
    "version": 3
   },
   "file_extension": ".py",
   "mimetype": "text/x-python",
   "name": "python",
   "nbconvert_exporter": "python",
   "pygments_lexer": "ipython3",
   "version": "3.10.10"
  }
 },
 "nbformat": 4,
 "nbformat_minor": 4
}
