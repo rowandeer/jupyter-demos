{
 "cells": [
  {
   "cell_type": "markdown",
   "metadata": {
    "editable": false,
    "slideshow": {
     "slide_type": ""
    },
    "tags": []
   },
   "source": [
    "# 🧯 FAQ & Troubleshooting Guide\n",
    "\n",
    "## Table of Contents\n",
    "\n",
    "- [Help, the interface is in German!](#Help,-the-interface-is-in-German!)\n",
    "- [A code cell won’t seem to run (no output appears below the cell), or a pop-up appears saying “Cell not executed due to pending input”. What do I do?](#A-code-cell-won’t-seem-to-run-(no-output-appears-below-the-cell),-or-a-pop-up-appears-saying-“Cell-not-executed-due-to-pending-input”.-What-do-I-do?)\n",
    "- [Is there dark mode?](#Is-there-dark-mode?)\n",
    "- [Can I turn off autosave so that I can use undo / Ctrl+Z / Cmd + Z to return a code cell to its previous version?](#Can-I-turn-off-autosave-so-that-I-can-use-undo-/-Ctrl+Z-/-Cmd-+-Z-to-return-a-code-cell-to-its-previous-version?)\n",
    "- [Can I download the workbooks so that I can save what I’ve learned for the future?](#Can-I-download-the-workbooks-so-that-I-can-save-what-I’ve-learned-for-the-future?)\n",
    "\n",
    "\n",
    "---\n",
    "\n",
    "### Help, the interface is in German!\n",
    "([Back to top](#Table-of-Contents))\n",
    "\n",
    "Since CodingLabs is a German project, you might find that your Jupyter environment defaults to German. \n",
    "\n",
    "- Select “Einstellungen” on the menu bar, and select “Sprache” (the second option down).\n",
    "- Click “Englisch - English”\n",
    "- A pop-up will appear asking: \"_Interfacesprache ändern?_\"\n",
    "- After changing the interface language to \"Englisch - English\", you will need to reload JupyterLab to see the changes.\n",
    "- Click “Change and reload”\n",
    "\n",
    "\n",
    "### A code cell won’t seem to run (no output appears below the cell), or a pop-up appears saying “Cell not executed due to pending input”. What do I do?\n",
    "([Back to top](#Table-of-Contents))\n",
    "\n",
    "- Click “Kernel” on the menu bar, and select “Restart Kernel…”. \n",
    "- A pop-up will appear asking:\n",
    "  > Restart Kernel?\n",
    "  > Do you want to restart the kernel of [lesson_name].ipynb? All variables will be lost.\n",
    "- Click “Restart”\n",
    "\n",
    "The code cells should work properly again now!\n",
    "\n",
    "\n",
    "### Is there dark mode?\n",
    "([Back to top](#Table-of-Contents))\n",
    "\n",
    "Yes! Navigate to “Settings” in the menu bar, then “Theme” and select “JupyterLab Dark”.\n",
    "\n",
    "\n",
    "### Can I turn off autosave so that I can use undo / Ctrl+Z / Cmd + Z to return a code cell to its previous version?\n",
    "([Back to top](#Table-of-Contents))\n",
    "\n",
    "Yes! Navigate to “Settings” in the menu bar, then uncheck “Autosave documents”. This will allow you to repeatedly use Ctrl+Z to undo any changes you’ve made. Just remember to regularly manually save (Ctrl+S) if you choose this option. \n",
    "\n",
    "\n",
    "### Can I download the workbooks so that I can save what I’ve learned for the future?\n",
    "([Back to top](#Table-of-Contents))\n",
    "\n",
    "Yes. Navigate to “File” and then “Download” to download the jupyter files (.ipynb) to your computer. You’ll need to open them in a Jupyter environment like CodingLabs.\n",
    "\n",
    "You can also export the notebooks as PDFs if you want to have a visual reference. Navigate to “File”, then “Save and Export Notebook As…”, and then click “PDF”.\n",
    "\n"
   ]
  }
 ],
 "metadata": {
  "kernelspec": {
   "display_name": "Python 3 (ipykernel)",
   "language": "python",
   "name": "python3"
  },
  "language_info": {
   "codemirror_mode": {
    "name": "ipython",
    "version": 3
   },
   "file_extension": ".py",
   "mimetype": "text/x-python",
   "name": "python",
   "nbconvert_exporter": "python",
   "pygments_lexer": "ipython3",
   "version": "3.11.4"
  }
 },
 "nbformat": 4,
 "nbformat_minor": 4
}
